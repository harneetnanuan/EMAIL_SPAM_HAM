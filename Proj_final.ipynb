{
  "cells": [
    {
      "cell_type": "markdown",
      "metadata": {
        "id": "h4btkZVyOyPl"
      },
      "source": [
        "Importing necessary libraries"
      ]
    },
    {
      "cell_type": "code",
      "execution_count": 110,
      "metadata": {
        "id": "NQ9B9Y07LagG"
      },
      "outputs": [],
      "source": [
        "import pandas as pd \n",
        "import numpy as np\n",
        "import re\n",
        "import nltk\n",
        "from keras.preprocessing.text import Tokenizer"
      ]
    },
    {
      "cell_type": "markdown",
      "metadata": {
        "id": "JfCfjD6vO2kZ"
      },
      "source": [
        "unzip the source data"
      ]
    },
    {
      "cell_type": "code",
      "execution_count": 111,
      "metadata": {
        "colab": {
          "base_uri": "https://localhost:8080/"
        },
        "id": "uSsbGjyBOA9p",
        "outputId": "d4eb4431-96e0-4943-b72a-fd1a2f4929d5"
      },
      "outputs": [
        {
          "output_type": "stream",
          "name": "stdout",
          "text": [
            "Archive:  /content/archive.zip\n",
            "replace /content/data/spam_ham.csv? [y]es, [n]o, [A]ll, [N]one, [r]ename: y\n",
            "  inflating: /content/data/spam_ham.csv  \n"
          ]
        }
      ],
      "source": [
        "!unzip '/content/archive.zip' -d '/content/data'"
      ]
    },
    {
      "cell_type": "markdown",
      "metadata": {
        "id": "9QHoJNasO6Er"
      },
      "source": [
        "Pull the source data"
      ]
    },
    {
      "cell_type": "code",
      "execution_count": 112,
      "metadata": {
        "colab": {
          "base_uri": "https://localhost:8080/",
          "height": 424
        },
        "id": "sH6uc_XeOxLp",
        "outputId": "7570b4af-aeb2-4ead-d316-198d430b64d9"
      },
      "outputs": [
        {
          "output_type": "execute_result",
          "data": {
            "text/plain": [
              "                                                   text sp_ha\n",
              "46    From fork-admin@xent.com Wed Oct 9 10:55:12 20...     0\n",
              "47    From razor-users-admin@lists.sourceforge.net F...     0\n",
              "48    From fork-admin@xent.com Tue Jul 23 14:27:17 2...     0\n",
              "49    From leadsales400042@yahoo.com Mon Jun 24 17:0...     1\n",
              "50    From rssfeeds@jmason.org Thu Sep 26 16:34:06 2...     0\n",
              "...                                                 ...   ...\n",
              "5823  From ilug-admin@linux.ie Mon Jul 22 18:12:45 2...     0\n",
              "5824  From fork-admin@xent.com Mon Oct 7 20:37:02 20...     0\n",
              "5825  Received: from hq.pro-ns.net (localhost [127.0...     1\n",
              "5826  From razor-users-admin@lists.sourceforge.net T...     0\n",
              "5827  From rssfeeds@jmason.org Mon Sep 30 13:44:10 2...     0\n",
              "\n",
              "[5782 rows x 2 columns]"
            ],
            "text/html": [
              "\n",
              "  <div id=\"df-20e88fff-956c-4130-b50a-f342402a2273\">\n",
              "    <div class=\"colab-df-container\">\n",
              "      <div>\n",
              "<style scoped>\n",
              "    .dataframe tbody tr th:only-of-type {\n",
              "        vertical-align: middle;\n",
              "    }\n",
              "\n",
              "    .dataframe tbody tr th {\n",
              "        vertical-align: top;\n",
              "    }\n",
              "\n",
              "    .dataframe thead th {\n",
              "        text-align: right;\n",
              "    }\n",
              "</style>\n",
              "<table border=\"1\" class=\"dataframe\">\n",
              "  <thead>\n",
              "    <tr style=\"text-align: right;\">\n",
              "      <th></th>\n",
              "      <th>text</th>\n",
              "      <th>sp_ha</th>\n",
              "    </tr>\n",
              "  </thead>\n",
              "  <tbody>\n",
              "    <tr>\n",
              "      <th>46</th>\n",
              "      <td>From fork-admin@xent.com Wed Oct 9 10:55:12 20...</td>\n",
              "      <td>0</td>\n",
              "    </tr>\n",
              "    <tr>\n",
              "      <th>47</th>\n",
              "      <td>From razor-users-admin@lists.sourceforge.net F...</td>\n",
              "      <td>0</td>\n",
              "    </tr>\n",
              "    <tr>\n",
              "      <th>48</th>\n",
              "      <td>From fork-admin@xent.com Tue Jul 23 14:27:17 2...</td>\n",
              "      <td>0</td>\n",
              "    </tr>\n",
              "    <tr>\n",
              "      <th>49</th>\n",
              "      <td>From leadsales400042@yahoo.com Mon Jun 24 17:0...</td>\n",
              "      <td>1</td>\n",
              "    </tr>\n",
              "    <tr>\n",
              "      <th>50</th>\n",
              "      <td>From rssfeeds@jmason.org Thu Sep 26 16:34:06 2...</td>\n",
              "      <td>0</td>\n",
              "    </tr>\n",
              "    <tr>\n",
              "      <th>...</th>\n",
              "      <td>...</td>\n",
              "      <td>...</td>\n",
              "    </tr>\n",
              "    <tr>\n",
              "      <th>5823</th>\n",
              "      <td>From ilug-admin@linux.ie Mon Jul 22 18:12:45 2...</td>\n",
              "      <td>0</td>\n",
              "    </tr>\n",
              "    <tr>\n",
              "      <th>5824</th>\n",
              "      <td>From fork-admin@xent.com Mon Oct 7 20:37:02 20...</td>\n",
              "      <td>0</td>\n",
              "    </tr>\n",
              "    <tr>\n",
              "      <th>5825</th>\n",
              "      <td>Received: from hq.pro-ns.net (localhost [127.0...</td>\n",
              "      <td>1</td>\n",
              "    </tr>\n",
              "    <tr>\n",
              "      <th>5826</th>\n",
              "      <td>From razor-users-admin@lists.sourceforge.net T...</td>\n",
              "      <td>0</td>\n",
              "    </tr>\n",
              "    <tr>\n",
              "      <th>5827</th>\n",
              "      <td>From rssfeeds@jmason.org Mon Sep 30 13:44:10 2...</td>\n",
              "      <td>0</td>\n",
              "    </tr>\n",
              "  </tbody>\n",
              "</table>\n",
              "<p>5782 rows × 2 columns</p>\n",
              "</div>\n",
              "      <button class=\"colab-df-convert\" onclick=\"convertToInteractive('df-20e88fff-956c-4130-b50a-f342402a2273')\"\n",
              "              title=\"Convert this dataframe to an interactive table.\"\n",
              "              style=\"display:none;\">\n",
              "        \n",
              "  <svg xmlns=\"http://www.w3.org/2000/svg\" height=\"24px\"viewBox=\"0 0 24 24\"\n",
              "       width=\"24px\">\n",
              "    <path d=\"M0 0h24v24H0V0z\" fill=\"none\"/>\n",
              "    <path d=\"M18.56 5.44l.94 2.06.94-2.06 2.06-.94-2.06-.94-.94-2.06-.94 2.06-2.06.94zm-11 1L8.5 8.5l.94-2.06 2.06-.94-2.06-.94L8.5 2.5l-.94 2.06-2.06.94zm10 10l.94 2.06.94-2.06 2.06-.94-2.06-.94-.94-2.06-.94 2.06-2.06.94z\"/><path d=\"M17.41 7.96l-1.37-1.37c-.4-.4-.92-.59-1.43-.59-.52 0-1.04.2-1.43.59L10.3 9.45l-7.72 7.72c-.78.78-.78 2.05 0 2.83L4 21.41c.39.39.9.59 1.41.59.51 0 1.02-.2 1.41-.59l7.78-7.78 2.81-2.81c.8-.78.8-2.07 0-2.86zM5.41 20L4 18.59l7.72-7.72 1.47 1.35L5.41 20z\"/>\n",
              "  </svg>\n",
              "      </button>\n",
              "      \n",
              "  <style>\n",
              "    .colab-df-container {\n",
              "      display:flex;\n",
              "      flex-wrap:wrap;\n",
              "      gap: 12px;\n",
              "    }\n",
              "\n",
              "    .colab-df-convert {\n",
              "      background-color: #E8F0FE;\n",
              "      border: none;\n",
              "      border-radius: 50%;\n",
              "      cursor: pointer;\n",
              "      display: none;\n",
              "      fill: #1967D2;\n",
              "      height: 32px;\n",
              "      padding: 0 0 0 0;\n",
              "      width: 32px;\n",
              "    }\n",
              "\n",
              "    .colab-df-convert:hover {\n",
              "      background-color: #E2EBFA;\n",
              "      box-shadow: 0px 1px 2px rgba(60, 64, 67, 0.3), 0px 1px 3px 1px rgba(60, 64, 67, 0.15);\n",
              "      fill: #174EA6;\n",
              "    }\n",
              "\n",
              "    [theme=dark] .colab-df-convert {\n",
              "      background-color: #3B4455;\n",
              "      fill: #D2E3FC;\n",
              "    }\n",
              "\n",
              "    [theme=dark] .colab-df-convert:hover {\n",
              "      background-color: #434B5C;\n",
              "      box-shadow: 0px 1px 3px 1px rgba(0, 0, 0, 0.15);\n",
              "      filter: drop-shadow(0px 1px 2px rgba(0, 0, 0, 0.3));\n",
              "      fill: #FFFFFF;\n",
              "    }\n",
              "  </style>\n",
              "\n",
              "      <script>\n",
              "        const buttonEl =\n",
              "          document.querySelector('#df-20e88fff-956c-4130-b50a-f342402a2273 button.colab-df-convert');\n",
              "        buttonEl.style.display =\n",
              "          google.colab.kernel.accessAllowed ? 'block' : 'none';\n",
              "\n",
              "        async function convertToInteractive(key) {\n",
              "          const element = document.querySelector('#df-20e88fff-956c-4130-b50a-f342402a2273');\n",
              "          const dataTable =\n",
              "            await google.colab.kernel.invokeFunction('convertToInteractive',\n",
              "                                                     [key], {});\n",
              "          if (!dataTable) return;\n",
              "\n",
              "          const docLinkHtml = 'Like what you see? Visit the ' +\n",
              "            '<a target=\"_blank\" href=https://colab.research.google.com/notebooks/data_table.ipynb>data table notebook</a>'\n",
              "            + ' to learn more about interactive tables.';\n",
              "          element.innerHTML = '';\n",
              "          dataTable['output_type'] = 'display_data';\n",
              "          await google.colab.output.renderOutput(dataTable, element);\n",
              "          const docLink = document.createElement('div');\n",
              "          docLink.innerHTML = docLinkHtml;\n",
              "          element.appendChild(docLink);\n",
              "        }\n",
              "      </script>\n",
              "    </div>\n",
              "  </div>\n",
              "  "
            ]
          },
          "metadata": {},
          "execution_count": 112
        }
      ],
      "source": [
        "dframe=pd.read_csv('/content/data/spam_ham.csv' , sep=',')\n",
        "dframe[46:]"
      ]
    },
    {
      "cell_type": "markdown",
      "metadata": {
        "id": "8CGUPMpxPJil"
      },
      "source": [
        "checking the rows"
      ]
    },
    {
      "cell_type": "code",
      "execution_count": 113,
      "metadata": {
        "colab": {
          "base_uri": "https://localhost:8080/"
        },
        "id": "zcnQjYpFPFnw",
        "outputId": "1c77d5d9-3533-4a2e-c42f-b52f8f310a8e"
      },
      "outputs": [
        {
          "output_type": "stream",
          "name": "stdout",
          "text": [
            "<class 'pandas.core.frame.DataFrame'>\n",
            "RangeIndex: 5828 entries, 0 to 5827\n",
            "Data columns (total 2 columns):\n",
            " #   Column  Non-Null Count  Dtype \n",
            "---  ------  --------------  ----- \n",
            " 0   text    5826 non-null   object\n",
            " 1   sp_ha   5825 non-null   object\n",
            "dtypes: object(2)\n",
            "memory usage: 91.2+ KB\n"
          ]
        }
      ],
      "source": [
        "dframe.info()"
      ]
    },
    {
      "cell_type": "markdown",
      "metadata": {
        "id": "UvHEOQ3LWNfe"
      },
      "source": [
        "below is the example for genuine email"
      ]
    },
    {
      "cell_type": "code",
      "execution_count": 114,
      "metadata": {
        "colab": {
          "base_uri": "https://localhost:8080/",
          "height": 174
        },
        "id": "XFN1hfZWPQZ9",
        "outputId": "bf0c1bda-e86a-44c2-eaaa-7042a0a8bec2"
      },
      "outputs": [
        {
          "output_type": "execute_result",
          "data": {
            "text/plain": [
              "'From leadsales400042@yahoo.com Mon Jun 24 17:03:55 2002 Return-Path: leadsales400042@yahoo.com Delivery-Date: Wed May 15 16:24:17 2002 Received: from MIRAFLORES.GOB.PE ([161.132.70.10]) by dogma.slashnull.org (8.11.6/8.11.6) with ESMTP id g4FFOAe12470 for <webmaster@efi.ie>; Wed, 15 May 2002 16:24:10 +0100 Message-Id: <200205151524.g4FFOAe12470@dogma.slashnull.org> Received: from yahoo.com([208.166.82.124]) by MIRAFLORES.GOB.PE (IBM OS/400 SMTP V05R01M00) with TCP; Wed, 15 May 2002 10:23:51 +0000 From: leadsales400042@yahoo.com To: webmaster@efi.ie Subject: Got Leads? Date: 15 May 2002 20:34:36 -0700 MIME-Version: 1.0 X-Keywords: Content-Type: text/html Content-Transfer-Encoding: quoted-printable <html> HEY, I AM FORWARDING YOU THE AD THEY SENT ME. I TRIED THE LEADS AND THINK WE SHOULD USE THEM FOR OUR TEAM. WHAT DO YOU THINK? THANKS, JOHN <head> <meta http-equiv=3D\"Content-Type\" content=3D\"text/html; charset=3Dwindows= -1252\"> <meta name=3D\"GENERATOR\" content=3D\"Microsoft FrontPage 4.0\"> <meta name=3D\"ProgId\" content=3D\"FrontPage.Editor.Document\"> <title>LEAD SALE EXTENDED</title> </head> <body text=3D\"#000000\"> <form method=3D\"POST\" enctype=3D\"text/plain\" action=3D\"mailto:thekey@btam= ail.net.cn?subject=3DNeed Leads\"> <p><b> YOU HAVE BEEN INVITED TO JOIN THE CO-OP</b></p> <table border=3D\"1\" width=3D\"102%\" bordercolor=3D\"#000080\" bgcolor=3D\"#= 000080\"> <tr> <td width=3D\"100%\"><b><font size=3D\"7\" color=3D\"#FFFFFF\">LEAD SALE = EXTENDED</font></b></td> </tr> </table> <table border=3D\"0\" width=3D\"100%\"> <tr> <td width=3D\"100%\"> <p align=3D\"center\"><b><font size=3D\"3\" color=3D\"#000000\">We have= recently put together a lead co-op specifically for your group.&nbsp; We have = been able to lock the price at as little as 50 cents per lead!!&nbsp; = Leads are normally $1-$3 per...</font></b></td> </tr> </table> <table border=3D\"0\" width=3D\"100%\"> <tr> <td width=3D\"16%\" bordercolor=3D\"#FFFFFF\" bgcolor=3D\"#FFFFFF\">&nbsp= ;</td> <td width=3D\"84%\"> <ul> <li> <p align=3D\"left\"><b><font size=3D\"3\" color=3D\"#000000\">So...= .</font></b></li> <li> <p align=3D\"left\"><b><font size=3D\"3\" color=3D\"#000000\">SIGN = UP TODAY....</font></b></li> <li> <p align=3D\"left\"><b><font size=3D\"3\" color=3D\"#000000\">GET O= UR LEADS....</font></b></li> <li> <p align=3D\"left\"><b><font size=3D\"3\" color=3D\"#000000\">AND G= ET TO WORK!!</font></b></li> </ul> <table border=3D\"0\" width=3D\"100%\" bordercolor=3D\"#000080\" bgcolo= r=3D\"#000080\"> <tbody> <tr> <td bgColor=3D\"#000000\" width=3D\"100%\"> <b><font color=3D\"#FF0000\" size=3D\"5\">Here is what we hav= e to offer you:</font></b> </td> </tr> </tbody> </table> <table border=3D\"0\" width=3D\"100%\"> <tbody> <tr> <td width=3D\"78%\"> <b><u>NETWORK MARKETER OR GIFTER CONTACTS</u></b> <ul> <li><b>All Leads Guaranteed To Be Network Marketers / o= r Gifters</b> <li><b>Guaranteed To Be Current, Active and Experienced= </b> <li><b>Leads, Have Either Responded To A Internet Quest= ionnaire, Or Are Already On Our Contact List, Of Current, Active Networkers, Open To Opportunity.</b> <li><b>Leads Include:&nbsp;&nbsp;&nbsp;&nbsp;[At Least]= Name, Phone, And Email</b></li> </ul> <p>&nbsp; </td> </tr> </tbody> </table> </td> </tr> </table> <p align=3D\"center\"><b>***USE US AS A TOOL TO BUILD YOUR BUSINESS!!&nbs= p; REFER AS MANY PEOPLE AS YOU CAN.&nbsp; EARN A TRUE RESIDUAL INCOME BY THE DUPLICATION OF YOUR TEAM, CAUSE REMEMBER......</b></p> <table border=3D\"0\" width=3D\"100%\"> <tr> <td width=3D\"100%\" bgcolor=3D\"#000000\" bordercolor=3D\"#000000\"> <p align=3D\"center\"><b><font color=3D\"#FF0000\">[Remember] </font>= <font color=3D\"#FFFFFF\">&nbsp; </font></b><font color=3D\"#FFFFFF\" size=3D\"3\"><b>Your System Now Includes A Proven Lead System.&nbsp; </b></font><b><font size=3D\"= 2\" color=3D\"#FFFFFF\">&nbsp;&nbsp;&nbsp; </font><font color=3D\"#FF0000\"><font size=3D\"2\">[</font>Remember]= </font></b></td> </tr> </table> <p>____________________________________________________________________= _</p> <table border=3D\"0\" width=3D\"100%\"> <tr> <td width=3D\"100%\"> <p align=3D\"center\"><b><font color=3D\"#FF0000\" size=3D\"5\">Replace= ment Policy [Our Leads Are Guaranteed]</font></b></p> <ul> <li> <p align=3D\"left\"><b>Any Unusable Lead&nbsp;&nbsp; Ie. Missin= g Info, Invalid Info, Any Just Real Negative Response Towards You On = The Phone..... <font color=3D\"#ff0000\">REPLACED</font></b></p> </li> </ul> <table border=3D\"0\" width=3D\"100%\"> <tr> <td width=3D\"100%\" bgcolor=3D\"#000000\" bordercolor=3D\"#000000= \"> <p align=3D\"center\"><b><font color=3D\"#ff0000\">Replacement = Leads Given -&nbsp; No Questions Asked.&nbsp; Just Let Us Know What You= Need And We Will Get It Handled.</font></b></td> </tr> </table> <p align=3D\"center\"><b><font color=3D\"#000000\">PLEASE COMPLETE TH= E FOLLOWING FORM&nbsp;</font></b></p> </td> </tr> </table> <table border=3D\"1\" width=3D\"100%\" bordercolor=3D\"#000000\" bgcolor=3D\"#= 000000\"> <tr> <td width=3D\"100%\"> <table border=3D\"0\" width=3D\"100%\"> <tr> <td width=3D\"20%\" align=3D\"right\"><b><font size=3D\"3\" color=3D= \"#FFFFFF\">NAME</font></b></td> <td width=3D\"20%\" align=3D\"left\"> <p align=3D\"left\"><font color=3D\"#FFFFFF\"><input type=3D\"te= xt\" name=3D\"Name\" size=3D\"20\"></font></td> <td width=3D\"20%\" align=3D\"right\"><b><font size=3D\"3\" color=3D= \"#FFFFFF\">PHONE</font></b></td> <td width=3D\"20%\"><font color=3D\"#FFFFFF\"><input type=3D\"text= \" name=3D\"Phone\" size=3D\"20\"></font></td> </tr> <tr> <td width=3D\"20%\" align=3D\"right\"><b><font size=3D\"3\" color=3D= \"#FFFFFF\">EMAIL</font></b></td> <td width=3D\"20%\" align=3D\"left\"><font color=3D\"#FFFFFF\"><inp= ut type=3D\"text\" name=3D\"Email\" size=3D\"20\"></font></td> <td width=3D\"20%\" align=3D\"right\"><b><font size=3D\"3\" color=3D= \"#FFFFFF\">TIME TO CALL</font></b></td> <td width=3D\"20%\"><font color=3D\"#FFFFFF\"><input type=3D\"text= \" name=3D\"Time2Call\" size=3D\"18\"><select size=3D\"1\" name=3D\"TimeZone\"> <option>PST</option> <option>MNT</option> <option>CST</option> <option>EST</option> <option>OTHER</option> </select></font></td> </tr> <tr> <td width=3D\"20%\" align=3D\"right\"><b><font size=3D\"3\" color=3D= \"#FFFFFF\">COMPANY YOU ARE WITH</font></b></td> <td width=3D\"60%\" align=3D\"left\" colspan=3D\"3\"><font color=3D= \"#FFFFFF\"><input type=3D\"text\" name=3D\"Company\" size=3D\"50\"></font></td> </tr> <tr> <td width=3D\"20%\" align=3D\"right\"><font color=3D\"#FFFFFF\"><in= put type=3D\"text\" name=3D\"DOWNLINE_MEMBERS\" size=3D\"13\"></font></td> <td width=3D\"60%\" align=3D\"left\" colspan=3D\"3\"><b><font color= =3D\"#FFFFFF\">HOW MANY DOWNLINE MEMBERS DO YOU HAVE THAT MAY ALSO NEED LEADS?= </font></b></td> </tr> </table> <p align=3D\"center\"><input type=3D\"submit\" value=3D\"Submit\" name=3D= \"B1\"><input type=3D\"reset\" value=3D\"Reset\" name=3D\"B2\"></p> &nbsp;</td> </tr> </table> <p align=3D\"center\">&nbsp;</p> <p align=3D\"center\">&nbsp;</p> <p align=3D\"center\">&nbsp;</p> <p align=3D\"center\">&nbsp;</p> <p align=3D\"center\">&nbsp;</p> <p align=3D\"center\">&nbsp;</p> <p align=3D\"center\">&nbsp;</p> <p align=3D\"center\"><b><font size=3D\"2\"><font color=3D\"#000000\">You hav= e received this Message because of a past Client/Service Relationship we had with you. = If this might be inaccurate, or you simply wish to be Removed from all future N= otices, then</font><font color=3D\"#FF0000\"> <a href=3D\"mailto:removes@btamail.= net.cn?subject=3DRemove\" target=3D\"_blank\">CLICK HERE</a></font></font></b></p> <table border=3D\"0\" width=3D\"100%\"> <tr> <td width=3D\"100%\" bgcolor=3D\"#000000\" bordercolor=3D\"#000000\"><fon= t size=3D\"5\">&nbsp;</font></td> </tr> </table> </form> </body> </html>'"
            ],
            "application/vnd.google.colaboratory.intrinsic+json": {
              "type": "string"
            }
          },
          "metadata": {},
          "execution_count": 114
        }
      ],
      "source": [
        "dummy=dframe['text'][49]\n",
        "dummy"
      ]
    },
    {
      "cell_type": "markdown",
      "metadata": {
        "id": "hc8Orvt8WTKh"
      },
      "source": [
        "Example for spam email"
      ]
    },
    {
      "cell_type": "code",
      "execution_count": 115,
      "metadata": {
        "id": "mTaewC7eQhWz"
      },
      "outputs": [],
      "source": [
        "\n",
        "ones=dframe['text'].where(dframe['sp_ha']=='1')\n",
        "strngg=ones[1]"
      ]
    },
    {
      "cell_type": "markdown",
      "metadata": {
        "id": "9A8DF7O3WgTv"
      },
      "source": [
        "Preprocessing \n",
        "\n",
        "```\n",
        "# Dropping data with nan values\n",
        "```\n",
        "\n",
        "---\n",
        "\n",
        "\n",
        "\n",
        "---\n",
        "\n"
      ]
    },
    {
      "cell_type": "code",
      "execution_count": 116,
      "metadata": {
        "colab": {
          "base_uri": "https://localhost:8080/",
          "height": 143
        },
        "id": "IremwYOjY0gA",
        "outputId": "412f3bfe-2d7e-4e3a-9ecb-1403add93232"
      },
      "outputs": [
        {
          "output_type": "execute_result",
          "data": {
            "text/plain": [
              "                                                   text sp_ha\n",
              "3872  From regal3@freeuk.com Fri Jul 26 03:51:44 200...   NaN\n",
              "3873                                                NaN   NaN\n",
              "3874                                                NaN   NaN"
            ],
            "text/html": [
              "\n",
              "  <div id=\"df-a22e2ba8-12d9-4db2-9d5d-7c1d1e094865\">\n",
              "    <div class=\"colab-df-container\">\n",
              "      <div>\n",
              "<style scoped>\n",
              "    .dataframe tbody tr th:only-of-type {\n",
              "        vertical-align: middle;\n",
              "    }\n",
              "\n",
              "    .dataframe tbody tr th {\n",
              "        vertical-align: top;\n",
              "    }\n",
              "\n",
              "    .dataframe thead th {\n",
              "        text-align: right;\n",
              "    }\n",
              "</style>\n",
              "<table border=\"1\" class=\"dataframe\">\n",
              "  <thead>\n",
              "    <tr style=\"text-align: right;\">\n",
              "      <th></th>\n",
              "      <th>text</th>\n",
              "      <th>sp_ha</th>\n",
              "    </tr>\n",
              "  </thead>\n",
              "  <tbody>\n",
              "    <tr>\n",
              "      <th>3872</th>\n",
              "      <td>From regal3@freeuk.com Fri Jul 26 03:51:44 200...</td>\n",
              "      <td>NaN</td>\n",
              "    </tr>\n",
              "    <tr>\n",
              "      <th>3873</th>\n",
              "      <td>NaN</td>\n",
              "      <td>NaN</td>\n",
              "    </tr>\n",
              "    <tr>\n",
              "      <th>3874</th>\n",
              "      <td>NaN</td>\n",
              "      <td>NaN</td>\n",
              "    </tr>\n",
              "  </tbody>\n",
              "</table>\n",
              "</div>\n",
              "      <button class=\"colab-df-convert\" onclick=\"convertToInteractive('df-a22e2ba8-12d9-4db2-9d5d-7c1d1e094865')\"\n",
              "              title=\"Convert this dataframe to an interactive table.\"\n",
              "              style=\"display:none;\">\n",
              "        \n",
              "  <svg xmlns=\"http://www.w3.org/2000/svg\" height=\"24px\"viewBox=\"0 0 24 24\"\n",
              "       width=\"24px\">\n",
              "    <path d=\"M0 0h24v24H0V0z\" fill=\"none\"/>\n",
              "    <path d=\"M18.56 5.44l.94 2.06.94-2.06 2.06-.94-2.06-.94-.94-2.06-.94 2.06-2.06.94zm-11 1L8.5 8.5l.94-2.06 2.06-.94-2.06-.94L8.5 2.5l-.94 2.06-2.06.94zm10 10l.94 2.06.94-2.06 2.06-.94-2.06-.94-.94-2.06-.94 2.06-2.06.94z\"/><path d=\"M17.41 7.96l-1.37-1.37c-.4-.4-.92-.59-1.43-.59-.52 0-1.04.2-1.43.59L10.3 9.45l-7.72 7.72c-.78.78-.78 2.05 0 2.83L4 21.41c.39.39.9.59 1.41.59.51 0 1.02-.2 1.41-.59l7.78-7.78 2.81-2.81c.8-.78.8-2.07 0-2.86zM5.41 20L4 18.59l7.72-7.72 1.47 1.35L5.41 20z\"/>\n",
              "  </svg>\n",
              "      </button>\n",
              "      \n",
              "  <style>\n",
              "    .colab-df-container {\n",
              "      display:flex;\n",
              "      flex-wrap:wrap;\n",
              "      gap: 12px;\n",
              "    }\n",
              "\n",
              "    .colab-df-convert {\n",
              "      background-color: #E8F0FE;\n",
              "      border: none;\n",
              "      border-radius: 50%;\n",
              "      cursor: pointer;\n",
              "      display: none;\n",
              "      fill: #1967D2;\n",
              "      height: 32px;\n",
              "      padding: 0 0 0 0;\n",
              "      width: 32px;\n",
              "    }\n",
              "\n",
              "    .colab-df-convert:hover {\n",
              "      background-color: #E2EBFA;\n",
              "      box-shadow: 0px 1px 2px rgba(60, 64, 67, 0.3), 0px 1px 3px 1px rgba(60, 64, 67, 0.15);\n",
              "      fill: #174EA6;\n",
              "    }\n",
              "\n",
              "    [theme=dark] .colab-df-convert {\n",
              "      background-color: #3B4455;\n",
              "      fill: #D2E3FC;\n",
              "    }\n",
              "\n",
              "    [theme=dark] .colab-df-convert:hover {\n",
              "      background-color: #434B5C;\n",
              "      box-shadow: 0px 1px 3px 1px rgba(0, 0, 0, 0.15);\n",
              "      filter: drop-shadow(0px 1px 2px rgba(0, 0, 0, 0.3));\n",
              "      fill: #FFFFFF;\n",
              "    }\n",
              "  </style>\n",
              "\n",
              "      <script>\n",
              "        const buttonEl =\n",
              "          document.querySelector('#df-a22e2ba8-12d9-4db2-9d5d-7c1d1e094865 button.colab-df-convert');\n",
              "        buttonEl.style.display =\n",
              "          google.colab.kernel.accessAllowed ? 'block' : 'none';\n",
              "\n",
              "        async function convertToInteractive(key) {\n",
              "          const element = document.querySelector('#df-a22e2ba8-12d9-4db2-9d5d-7c1d1e094865');\n",
              "          const dataTable =\n",
              "            await google.colab.kernel.invokeFunction('convertToInteractive',\n",
              "                                                     [key], {});\n",
              "          if (!dataTable) return;\n",
              "\n",
              "          const docLinkHtml = 'Like what you see? Visit the ' +\n",
              "            '<a target=\"_blank\" href=https://colab.research.google.com/notebooks/data_table.ipynb>data table notebook</a>'\n",
              "            + ' to learn more about interactive tables.';\n",
              "          element.innerHTML = '';\n",
              "          dataTable['output_type'] = 'display_data';\n",
              "          await google.colab.output.renderOutput(dataTable, element);\n",
              "          const docLink = document.createElement('div');\n",
              "          docLink.innerHTML = docLinkHtml;\n",
              "          element.appendChild(docLink);\n",
              "        }\n",
              "      </script>\n",
              "    </div>\n",
              "  </div>\n",
              "  "
            ]
          },
          "metadata": {},
          "execution_count": 116
        }
      ],
      "source": [
        "dframe[dframe['sp_ha'].isna()]"
      ]
    },
    {
      "cell_type": "code",
      "execution_count": 117,
      "metadata": {
        "id": "EWb9FbVNY52w"
      },
      "outputs": [],
      "source": [
        "dframe=dframe.dropna()"
      ]
    },
    {
      "cell_type": "code",
      "execution_count": 118,
      "metadata": {
        "colab": {
          "base_uri": "https://localhost:8080/"
        },
        "id": "in_wgtw6XRYN",
        "outputId": "bed5ff8b-d14e-4498-cf27-e8476e051055"
      },
      "outputs": [
        {
          "output_type": "execute_result",
          "data": {
            "text/plain": [
              "0                                                                                                                                                                                                                                                                                                                                                                                                                                                                                                                                            3911\n",
              "1                                                                                                                                                                                                                                                                                                                                                                                                                                                                                                                                            1912\n",
              " WebCrawler                                                                                                                                                                                                                                                                                                                                                                                                                                                                                                                                     1\n",
              " which will make unison use whatever version of ssh is installed as the default 'ssh' command.) + The situation when the permissions of a file was updated the same on both side is now handled correctly (we used to report a spurious conflict) * Improvements for the Windows version: + The fact that filenames are treated case-insensitively under Windows should now be handled correctly. The exact behavior is described in the cross-platform section of the manual. + It should be possible to synchronize with Windows shares       1\n",
              "Name: sp_ha, dtype: int64"
            ]
          },
          "metadata": {},
          "execution_count": 118
        }
      ],
      "source": [
        "dframe['sp_ha'].value_counts()"
      ]
    },
    {
      "cell_type": "markdown",
      "metadata": {
        "id": "yE7xV8eFlIf0"
      },
      "source": [
        "Removing values other than 0 or 1"
      ]
    },
    {
      "cell_type": "code",
      "execution_count": 119,
      "metadata": {
        "colab": {
          "base_uri": "https://localhost:8080/"
        },
        "id": "LFg_5Y5vc90z",
        "outputId": "3d7895f4-48b2-435d-f581-db27d09abdb9"
      },
      "outputs": [
        {
          "output_type": "execute_result",
          "data": {
            "text/plain": [
              "0    3911\n",
              "1    1912\n",
              "Name: sp_ha, dtype: int64"
            ]
          },
          "metadata": {},
          "execution_count": 119
        }
      ],
      "source": [
        "dframe1=dframe[(dframe.sp_ha.isin(['0','1']))]\n",
        "dframe1.sp_ha.value_counts()"
      ]
    },
    {
      "cell_type": "markdown",
      "metadata": {
        "id": "Tnmr-JtMAdH-"
      },
      "source": [
        "Drop duplicate"
      ]
    },
    {
      "cell_type": "code",
      "execution_count": 120,
      "metadata": {
        "colab": {
          "base_uri": "https://localhost:8080/"
        },
        "id": "ZtEoEuS7Ae83",
        "outputId": "8426a079-1f06-474e-a0e8-25e191176cb4"
      },
      "outputs": [
        {
          "output_type": "stream",
          "name": "stderr",
          "text": [
            "<ipython-input-120-a39617d064bc>:1: SettingWithCopyWarning: \n",
            "A value is trying to be set on a copy of a slice from a DataFrame\n",
            "\n",
            "See the caveats in the documentation: https://pandas.pydata.org/pandas-docs/stable/user_guide/indexing.html#returning-a-view-versus-a-copy\n",
            "  dframe1.drop_duplicates(inplace=True)\n"
          ]
        }
      ],
      "source": [
        "dframe1.drop_duplicates(inplace=True)"
      ]
    },
    {
      "cell_type": "markdown",
      "metadata": {
        "id": "6tqw0c3mEbLp"
      },
      "source": [
        "Refining text"
      ]
    },
    {
      "cell_type": "code",
      "execution_count": 121,
      "metadata": {
        "id": "qlJ95tHtEc1o"
      },
      "outputs": [],
      "source": [
        "strngg_2=re.sub(r'^.*?Subject', 'Subject', strngg)"
      ]
    },
    {
      "cell_type": "code",
      "execution_count": 122,
      "metadata": {
        "colab": {
          "base_uri": "https://localhost:8080/",
          "height": 174
        },
        "id": "2cdiS2DzN8uf",
        "outputId": "3434f8db-a4df-4c48-90f9-3c66b192ba14"
      },
      "outputs": [
        {
          "output_type": "execute_result",
          "data": {
            "text/plain": [
              "'Subject: Cash in on your home equity Date: Tue, 04 Jun 2002 00:18:34 -1600 MIME-Version: 1.0 Content-Type: text/plain; charset=\"Windows-1252\" X-Keywords: Content-Transfer-Encoding: 7bit Mortgage Lenders & Brokers Are Ready to compete for your business. Whether a new home loan is what you seek or to refinance your current home loan at a lower interest rate, we can help! Mortgage rates haven\\'t been this low in years take action now! Refinance your home with us and include all of those pesky credit card bills or use the extra cash for that pool you\\'ve always wanted... Where others say NO, we say YES!!! Even if you have been turned down elsewhere, we can help! Easy terms! Our mortgage referral service combines the highest quality loans with the most economical rates and the easiest qualifications! Take just 2 minutes to complete the following form. There is no obligation, all information is kept strictly confidential, and you must be at least 18 years of age. Service is available within the United States only. This service is fast and free. Free information request form: PLEASE VISIT  **************************************************************** Since you have received this message you have either responded to one of our offers in the past or your address has been registered with us. If you wish to \"OPT_OUT\" please visit:  ****************************************************************'"
            ],
            "application/vnd.google.colaboratory.intrinsic+json": {
              "type": "string"
            }
          },
          "metadata": {},
          "execution_count": 122
        }
      ],
      "source": [
        "strngg_3 = re.sub('http[^\\s]+','',strngg_2)\n",
        "strngg_3"
      ]
    },
    {
      "cell_type": "code",
      "execution_count": 123,
      "metadata": {
        "id": "7yyww--GPPYo"
      },
      "outputs": [],
      "source": [
        "strngg_4=strngg_3.replace(r'^.*?','')"
      ]
    },
    {
      "cell_type": "code",
      "execution_count": 124,
      "metadata": {
        "colab": {
          "base_uri": "https://localhost:8080/",
          "height": 174
        },
        "id": "CMjYuyCaPV5C",
        "outputId": "67c5dd74-1a25-4934-dd6a-55c814f156e0"
      },
      "outputs": [
        {
          "output_type": "execute_result",
          "data": {
            "text/plain": [
              "'Subject: Cash in on your home equity Date: Tue, 04 Jun 2002 00:18:34 -1600 MIME-Version: 1.0 Content-Type: text/plain; charset=\"Windows-1252\" X-Keywords: Content-Transfer-Encoding: 7bit Mortgage Lenders & Brokers Are Ready to compete for your business. Whether a new home loan is what you seek or to refinance your current home loan at a lower interest rate, we can help! Mortgage rates haven\\'t been this low in years take action now! Refinance your home with us and include all of those pesky credit card bills or use the extra cash for that pool you\\'ve always wanted... Where others say NO, we say YES!!! Even if you have been turned down elsewhere, we can help! Easy terms! Our mortgage referral service combines the highest quality loans with the most economical rates and the easiest qualifications! Take just 2 minutes to complete the following form. There is no obligation, all information is kept strictly confidential, and you must be at least 18 years of age. Service is available within the United States only. This service is fast and free. Free information request form: PLEASE VISIT  **************************************************************** Since you have received this message you have either responded to one of our offers in the past or your address has been registered with us. If you wish to \"OPT_OUT\" please visit:  ****************************************************************'"
            ],
            "application/vnd.google.colaboratory.intrinsic+json": {
              "type": "string"
            }
          },
          "metadata": {},
          "execution_count": 124
        }
      ],
      "source": [
        "strngg_4"
      ]
    },
    {
      "cell_type": "code",
      "execution_count": 125,
      "metadata": {
        "id": "BMfEEVSTyAJ5"
      },
      "outputs": [],
      "source": [
        "from bs4 import BeautifulSoup"
      ]
    },
    {
      "cell_type": "code",
      "execution_count": 126,
      "metadata": {
        "id": "xAMjA7CC0H1S"
      },
      "outputs": [],
      "source": [
        "content = BeautifulSoup(dummy, \"lxml\")"
      ]
    },
    {
      "cell_type": "code",
      "execution_count": 127,
      "metadata": {
        "colab": {
          "base_uri": "https://localhost:8080/",
          "height": 174
        },
        "id": "fF6_UEgm0iPX",
        "outputId": "19b523f9-70dc-459e-9a66-c915d9a9cc9e"
      },
      "outputs": [
        {
          "output_type": "execute_result",
          "data": {
            "text/plain": [
              "'From leadsales400042@yahoo.com Mon Jun 24 17:03:55 2002 Return-Path: leadsales400042@yahoo.com Delivery-Date: Wed May 15 16:24:17 2002 Received: from MIRAFLORES.GOB.PE ([161.132.70.10]) by dogma.slashnull.org (8.11.6/8.11.6) with ESMTP id g4FFOAe12470 for <webmaster@efi.ie>; Wed, 15 May 2002 16:24:10 +0100 Message-Id: <200205151524.g4FFOAe12470@dogma.slashnull.org> Received: from yahoo.com([208.166.82.124]) by MIRAFLORES.GOB.PE (IBM OS/400 SMTP V05R01M00) with TCP; Wed, 15 May 2002 10:23:51 +0000 From: leadsales400042@yahoo.com To: webmaster@efi.ie Subject: Got Leads? Date: 15 May 2002 20:34:36 -0700 MIME-Version: 1.0 X-Keywords: Content-Type: text/html Content-Transfer-Encoding: quoted-printable <html> HEY, I AM FORWARDING YOU THE AD THEY SENT ME. I TRIED THE LEADS AND THINK WE SHOULD USE THEM FOR OUR TEAM. WHAT DO YOU THINK? THANKS, JOHN <head> <meta http-equiv=3D\"Content-Type\" content=3D\"text/html; charset=3Dwindows= -1252\"> <meta name=3D\"GENERATOR\" content=3D\"Microsoft FrontPage 4.0\"> <meta name=3D\"ProgId\" content=3D\"FrontPage.Editor.Document\"> <title>LEAD SALE EXTENDED</title> </head> <body text=3D\"#000000\"> <form method=3D\"POST\" enctype=3D\"text/plain\" action=3D\"mailto:thekey@btam= ail.net.cn?subject=3DNeed Leads\"> <p><b> YOU HAVE BEEN INVITED TO JOIN THE CO-OP</b></p> <table border=3D\"1\" width=3D\"102%\" bordercolor=3D\"#000080\" bgcolor=3D\"#= 000080\"> <tr> <td width=3D\"100%\"><b><font size=3D\"7\" color=3D\"#FFFFFF\">LEAD SALE = EXTENDED</font></b></td> </tr> </table> <table border=3D\"0\" width=3D\"100%\"> <tr> <td width=3D\"100%\"> <p align=3D\"center\"><b><font size=3D\"3\" color=3D\"#000000\">We have= recently put together a lead co-op specifically for your group.&nbsp; We have = been able to lock the price at as little as 50 cents per lead!!&nbsp; = Leads are normally $1-$3 per...</font></b></td> </tr> </table> <table border=3D\"0\" width=3D\"100%\"> <tr> <td width=3D\"16%\" bordercolor=3D\"#FFFFFF\" bgcolor=3D\"#FFFFFF\">&nbsp= ;</td> <td width=3D\"84%\"> <ul> <li> <p align=3D\"left\"><b><font size=3D\"3\" color=3D\"#000000\">So...= .</font></b></li> <li> <p align=3D\"left\"><b><font size=3D\"3\" color=3D\"#000000\">SIGN = UP TODAY....</font></b></li> <li> <p align=3D\"left\"><b><font size=3D\"3\" color=3D\"#000000\">GET O= UR LEADS....</font></b></li> <li> <p align=3D\"left\"><b><font size=3D\"3\" color=3D\"#000000\">AND G= ET TO WORK!!</font></b></li> </ul> <table border=3D\"0\" width=3D\"100%\" bordercolor=3D\"#000080\" bgcolo= r=3D\"#000080\"> <tbody> <tr> <td bgColor=3D\"#000000\" width=3D\"100%\"> <b><font color=3D\"#FF0000\" size=3D\"5\">Here is what we hav= e to offer you:</font></b> </td> </tr> </tbody> </table> <table border=3D\"0\" width=3D\"100%\"> <tbody> <tr> <td width=3D\"78%\"> <b><u>NETWORK MARKETER OR GIFTER CONTACTS</u></b> <ul> <li><b>All Leads Guaranteed To Be Network Marketers / o= r Gifters</b> <li><b>Guaranteed To Be Current, Active and Experienced= </b> <li><b>Leads, Have Either Responded To A Internet Quest= ionnaire, Or Are Already On Our Contact List, Of Current, Active Networkers, Open To Opportunity.</b> <li><b>Leads Include:&nbsp;&nbsp;&nbsp;&nbsp;[At Least]= Name, Phone, And Email</b></li> </ul> <p>&nbsp; </td> </tr> </tbody> </table> </td> </tr> </table> <p align=3D\"center\"><b>***USE US AS A TOOL TO BUILD YOUR BUSINESS!!&nbs= p; REFER AS MANY PEOPLE AS YOU CAN.&nbsp; EARN A TRUE RESIDUAL INCOME BY THE DUPLICATION OF YOUR TEAM, CAUSE REMEMBER......</b></p> <table border=3D\"0\" width=3D\"100%\"> <tr> <td width=3D\"100%\" bgcolor=3D\"#000000\" bordercolor=3D\"#000000\"> <p align=3D\"center\"><b><font color=3D\"#FF0000\">[Remember] </font>= <font color=3D\"#FFFFFF\">&nbsp; </font></b><font color=3D\"#FFFFFF\" size=3D\"3\"><b>Your System Now Includes A Proven Lead System.&nbsp; </b></font><b><font size=3D\"= 2\" color=3D\"#FFFFFF\">&nbsp;&nbsp;&nbsp; </font><font color=3D\"#FF0000\"><font size=3D\"2\">[</font>Remember]= </font></b></td> </tr> </table> <p>____________________________________________________________________= _</p> <table border=3D\"0\" width=3D\"100%\"> <tr> <td width=3D\"100%\"> <p align=3D\"center\"><b><font color=3D\"#FF0000\" size=3D\"5\">Replace= ment Policy [Our Leads Are Guaranteed]</font></b></p> <ul> <li> <p align=3D\"left\"><b>Any Unusable Lead&nbsp;&nbsp; Ie. Missin= g Info, Invalid Info, Any Just Real Negative Response Towards You On = The Phone..... <font color=3D\"#ff0000\">REPLACED</font></b></p> </li> </ul> <table border=3D\"0\" width=3D\"100%\"> <tr> <td width=3D\"100%\" bgcolor=3D\"#000000\" bordercolor=3D\"#000000= \"> <p align=3D\"center\"><b><font color=3D\"#ff0000\">Replacement = Leads Given -&nbsp; No Questions Asked.&nbsp; Just Let Us Know What You= Need And We Will Get It Handled.</font></b></td> </tr> </table> <p align=3D\"center\"><b><font color=3D\"#000000\">PLEASE COMPLETE TH= E FOLLOWING FORM&nbsp;</font></b></p> </td> </tr> </table> <table border=3D\"1\" width=3D\"100%\" bordercolor=3D\"#000000\" bgcolor=3D\"#= 000000\"> <tr> <td width=3D\"100%\"> <table border=3D\"0\" width=3D\"100%\"> <tr> <td width=3D\"20%\" align=3D\"right\"><b><font size=3D\"3\" color=3D= \"#FFFFFF\">NAME</font></b></td> <td width=3D\"20%\" align=3D\"left\"> <p align=3D\"left\"><font color=3D\"#FFFFFF\"><input type=3D\"te= xt\" name=3D\"Name\" size=3D\"20\"></font></td> <td width=3D\"20%\" align=3D\"right\"><b><font size=3D\"3\" color=3D= \"#FFFFFF\">PHONE</font></b></td> <td width=3D\"20%\"><font color=3D\"#FFFFFF\"><input type=3D\"text= \" name=3D\"Phone\" size=3D\"20\"></font></td> </tr> <tr> <td width=3D\"20%\" align=3D\"right\"><b><font size=3D\"3\" color=3D= \"#FFFFFF\">EMAIL</font></b></td> <td width=3D\"20%\" align=3D\"left\"><font color=3D\"#FFFFFF\"><inp= ut type=3D\"text\" name=3D\"Email\" size=3D\"20\"></font></td> <td width=3D\"20%\" align=3D\"right\"><b><font size=3D\"3\" color=3D= \"#FFFFFF\">TIME TO CALL</font></b></td> <td width=3D\"20%\"><font color=3D\"#FFFFFF\"><input type=3D\"text= \" name=3D\"Time2Call\" size=3D\"18\"><select size=3D\"1\" name=3D\"TimeZone\"> <option>PST</option> <option>MNT</option> <option>CST</option> <option>EST</option> <option>OTHER</option> </select></font></td> </tr> <tr> <td width=3D\"20%\" align=3D\"right\"><b><font size=3D\"3\" color=3D= \"#FFFFFF\">COMPANY YOU ARE WITH</font></b></td> <td width=3D\"60%\" align=3D\"left\" colspan=3D\"3\"><font color=3D= \"#FFFFFF\"><input type=3D\"text\" name=3D\"Company\" size=3D\"50\"></font></td> </tr> <tr> <td width=3D\"20%\" align=3D\"right\"><font color=3D\"#FFFFFF\"><in= put type=3D\"text\" name=3D\"DOWNLINE_MEMBERS\" size=3D\"13\"></font></td> <td width=3D\"60%\" align=3D\"left\" colspan=3D\"3\"><b><font color= =3D\"#FFFFFF\">HOW MANY DOWNLINE MEMBERS DO YOU HAVE THAT MAY ALSO NEED LEADS?= </font></b></td> </tr> </table> <p align=3D\"center\"><input type=3D\"submit\" value=3D\"Submit\" name=3D= \"B1\"><input type=3D\"reset\" value=3D\"Reset\" name=3D\"B2\"></p> &nbsp;</td> </tr> </table> <p align=3D\"center\">&nbsp;</p> <p align=3D\"center\">&nbsp;</p> <p align=3D\"center\">&nbsp;</p> <p align=3D\"center\">&nbsp;</p> <p align=3D\"center\">&nbsp;</p> <p align=3D\"center\">&nbsp;</p> <p align=3D\"center\">&nbsp;</p> <p align=3D\"center\"><b><font size=3D\"2\"><font color=3D\"#000000\">You hav= e received this Message because of a past Client/Service Relationship we had with you. = If this might be inaccurate, or you simply wish to be Removed from all future N= otices, then</font><font color=3D\"#FF0000\"> <a href=3D\"mailto:removes@btamail.= net.cn?subject=3DRemove\" target=3D\"_blank\">CLICK HERE</a></font></font></b></p> <table border=3D\"0\" width=3D\"100%\"> <tr> <td width=3D\"100%\" bgcolor=3D\"#000000\" bordercolor=3D\"#000000\"><fon= t size=3D\"5\">&nbsp;</font></td> </tr> </table> </form> </body> </html>'"
            ],
            "application/vnd.google.colaboratory.intrinsic+json": {
              "type": "string"
            }
          },
          "metadata": {},
          "execution_count": 127
        }
      ],
      "source": [
        "dummy"
      ]
    },
    {
      "cell_type": "code",
      "execution_count": 128,
      "metadata": {
        "colab": {
          "base_uri": "https://localhost:8080/"
        },
        "collapsed": true,
        "id": "kzdW2UZv0bHz",
        "outputId": "e6e2c6b5-da15-4120-f26e-444f9f186a09"
      },
      "outputs": [
        {
          "output_type": "stream",
          "name": "stdout",
          "text": [
            "<body>\n",
            " <p>\n",
            "  From leadsales400042@yahoo.com Mon Jun 24 17:03:55 2002 Return-Path: leadsales400042@yahoo.com Delivery-Date: Wed May 15 16:24:17 2002 Received: from MIRAFLORES.GOB.PE ([161.132.70.10]) by dogma.slashnull.org (8.11.6/8.11.6) with ESMTP id g4FFOAe12470 for\n",
            "  <webmaster>\n",
            "   ; Wed, 15 May 2002 16:24:10 +0100 Message-Id: &lt;200205151524.g4FFOAe12470@dogma.slashnull.org&gt; Received: from yahoo.com([208.166.82.124]) by MIRAFLORES.GOB.PE (IBM OS/400 SMTP V05R01M00) with TCP; Wed, 15 May 2002 10:23:51 +0000 From: leadsales400042@yahoo.com To: webmaster@efi.ie Subject: Got Leads? Date: 15 May 2002 20:34:36 -0700 MIME-Version: 1.0 X-Keywords: Content-Type: text/html Content-Transfer-Encoding: quoted-printable  HEY, I AM FORWARDING YOU THE AD THEY SENT ME. I TRIED THE LEADS AND THINK WE SHOULD USE THEM FOR OUR TEAM. WHAT DO YOU THINK? THANKS, JOHN\n",
            "   <meta charset=\"utf-8\" content='3D\"text/html;' http-equiv='3D\"Content-Type\"'/>\n",
            "   <meta content='3D\"Microsoft' frontpage=\"\" name='3D\"GENERATOR\"'/>\n",
            "   <meta content='3D\"FrontPage.Editor.Document\"' name='3D\"ProgId\"'/>\n",
            "   <title>\n",
            "    LEAD SALE EXTENDED\n",
            "   </title>\n",
            "   <form action='3D\"mailto:thekey@btam=' ail.net.cn=\"\" enctype='3D\"text/plain\"' leads=\"\" method='3D\"POST\"'>\n",
            "    <p>\n",
            "     <b>\n",
            "      YOU HAVE BEEN INVITED TO JOIN THE CO-OP\n",
            "     </b>\n",
            "    </p>\n",
            "    <table bgcolor='3D\"#=' border='3D\"1\"' bordercolor='3D\"#000080\"' width='3D\"102%\"'>\n",
            "     <tr>\n",
            "      <td width='3D\"100%\"'>\n",
            "       <b>\n",
            "        <font color='3D\"#FFFFFF\"' size='3D\"7\"'>\n",
            "         LEAD SALE = EXTENDED\n",
            "        </font>\n",
            "       </b>\n",
            "      </td>\n",
            "     </tr>\n",
            "    </table>\n",
            "    <table border='3D\"0\"' width='3D\"100%\"'>\n",
            "     <tr>\n",
            "      <td width='3D\"100%\"'>\n",
            "       <p align='3D\"center\"'>\n",
            "        <b>\n",
            "         <font color='3D\"#000000\"' size='3D\"3\"'>\n",
            "          We have= recently put together a lead co-op specifically for your group.  We have = been able to lock the price at as little as 50 cents per lead!!  = Leads are normally $1-$3 per...\n",
            "         </font>\n",
            "        </b>\n",
            "       </p>\n",
            "      </td>\n",
            "     </tr>\n",
            "    </table>\n",
            "    <table border='3D\"0\"' width='3D\"100%\"'>\n",
            "     <tr>\n",
            "      <td bgcolor='3D\"#FFFFFF\"' bordercolor='3D\"#FFFFFF\"' width='3D\"16%\"'>\n",
            "       &amp;nbsp= ;\n",
            "      </td>\n",
            "      <td width='3D\"84%\"'>\n",
            "       <ul>\n",
            "        <li>\n",
            "         <p align='3D\"left\"'>\n",
            "          <b>\n",
            "           <font color='3D\"#000000\"' size='3D\"3\"'>\n",
            "            So...= .\n",
            "           </font>\n",
            "          </b>\n",
            "         </p>\n",
            "        </li>\n",
            "        <li>\n",
            "         <p align='3D\"left\"'>\n",
            "          <b>\n",
            "           <font color='3D\"#000000\"' size='3D\"3\"'>\n",
            "            SIGN = UP TODAY....\n",
            "           </font>\n",
            "          </b>\n",
            "         </p>\n",
            "        </li>\n",
            "        <li>\n",
            "         <p align='3D\"left\"'>\n",
            "          <b>\n",
            "           <font color='3D\"#000000\"' size='3D\"3\"'>\n",
            "            GET O= UR LEADS....\n",
            "           </font>\n",
            "          </b>\n",
            "         </p>\n",
            "        </li>\n",
            "        <li>\n",
            "         <p align='3D\"left\"'>\n",
            "          <b>\n",
            "           <font color='3D\"#000000\"' size='3D\"3\"'>\n",
            "            AND G= ET TO WORK!!\n",
            "           </font>\n",
            "          </b>\n",
            "         </p>\n",
            "        </li>\n",
            "       </ul>\n",
            "       <table bgcolo='r=3D\"#000080\"' border='3D\"0\"' bordercolor='3D\"#000080\"' width='3D\"100%\"'>\n",
            "        <tbody>\n",
            "         <tr>\n",
            "          <td bgcolor='3D\"#000000\"' width='3D\"100%\"'>\n",
            "           <b>\n",
            "            <font color='3D\"#FF0000\"' size='3D\"5\"'>\n",
            "             Here is what we hav= e to offer you:\n",
            "            </font>\n",
            "           </b>\n",
            "          </td>\n",
            "         </tr>\n",
            "        </tbody>\n",
            "       </table>\n",
            "       <table border='3D\"0\"' width='3D\"100%\"'>\n",
            "        <tbody>\n",
            "         <tr>\n",
            "          <td width='3D\"78%\"'>\n",
            "           <b>\n",
            "            <u>\n",
            "             NETWORK MARKETER OR GIFTER CONTACTS\n",
            "            </u>\n",
            "           </b>\n",
            "           <ul>\n",
            "            <li>\n",
            "             <b>\n",
            "              All Leads Guaranteed To Be Network Marketers / o= r Gifters\n",
            "             </b>\n",
            "            </li>\n",
            "            <li>\n",
            "             <b>\n",
            "              Guaranteed To Be Current, Active and Experienced=\n",
            "             </b>\n",
            "            </li>\n",
            "            <li>\n",
            "             <b>\n",
            "              Leads, Have Either Responded To A Internet Quest= ionnaire, Or Are Already On Our Contact List, Of Current, Active Networkers, Open To Opportunity.\n",
            "             </b>\n",
            "            </li>\n",
            "            <li>\n",
            "             <b>\n",
            "              Leads Include:    [At Least]= Name, Phone, And Email\n",
            "             </b>\n",
            "            </li>\n",
            "           </ul>\n",
            "           <p>\n",
            "           </p>\n",
            "          </td>\n",
            "         </tr>\n",
            "        </tbody>\n",
            "       </table>\n",
            "      </td>\n",
            "     </tr>\n",
            "    </table>\n",
            "    <p align='3D\"center\"'>\n",
            "     <b>\n",
            "      ***USE US AS A TOOL TO BUILD YOUR BUSINESS!!&amp;nbs= p; REFER AS MANY PEOPLE AS YOU CAN.  EARN A TRUE RESIDUAL INCOME BY THE DUPLICATION OF YOUR TEAM, CAUSE REMEMBER......\n",
            "     </b>\n",
            "    </p>\n",
            "    <table border='3D\"0\"' width='3D\"100%\"'>\n",
            "     <tr>\n",
            "      <td bgcolor='3D\"#000000\"' bordercolor='3D\"#000000\"' width='3D\"100%\"'>\n",
            "       <p align='3D\"center\"'>\n",
            "        <b>\n",
            "         <font color='3D\"#FF0000\"'>\n",
            "          [Remember]\n",
            "         </font>\n",
            "         =\n",
            "         <font color='3D\"#FFFFFF\"'>\n",
            "         </font>\n",
            "        </b>\n",
            "        <font color='3D\"#FFFFFF\"' size='3D\"3\"'>\n",
            "         <b>\n",
            "          Your System Now Includes A Proven Lead System.\n",
            "         </b>\n",
            "        </font>\n",
            "        <b>\n",
            "         <font color='3D\"#FFFFFF\"' size='3D\"='>\n",
            "         </font>\n",
            "         <font color='3D\"#FF0000\"'>\n",
            "          <font size='3D\"2\"'>\n",
            "           [\n",
            "          </font>\n",
            "          Remember]=\n",
            "         </font>\n",
            "        </b>\n",
            "       </p>\n",
            "      </td>\n",
            "     </tr>\n",
            "    </table>\n",
            "    <p>\n",
            "     ____________________________________________________________________= _\n",
            "    </p>\n",
            "    <table border='3D\"0\"' width='3D\"100%\"'>\n",
            "     <tr>\n",
            "      <td width='3D\"100%\"'>\n",
            "       <p align='3D\"center\"'>\n",
            "        <b>\n",
            "         <font color='3D\"#FF0000\"' size='3D\"5\"'>\n",
            "          Replace= ment Policy [Our Leads Are Guaranteed]\n",
            "         </font>\n",
            "        </b>\n",
            "       </p>\n",
            "       <ul>\n",
            "        <li>\n",
            "         <p align='3D\"left\"'>\n",
            "          <b>\n",
            "           Any Unusable Lead   Ie. Missin= g Info, Invalid Info, Any Just Real Negative Response Towards You On = The Phone.....\n",
            "           <font color='3D\"#ff0000\"'>\n",
            "            REPLACED\n",
            "           </font>\n",
            "          </b>\n",
            "         </p>\n",
            "        </li>\n",
            "       </ul>\n",
            "       <table border='3D\"0\"' width='3D\"100%\"'>\n",
            "        <tr>\n",
            "         <td bgcolor='3D\"#000000\"' bordercolor='3D\"#000000=' width='3D\"100%\"'>\n",
            "          <p align='3D\"center\"'>\n",
            "           <b>\n",
            "            <font color='3D\"#ff0000\"'>\n",
            "             Replacement = Leads Given -  No Questions Asked.  Just Let Us Know What You= Need And We Will Get It Handled.\n",
            "            </font>\n",
            "           </b>\n",
            "          </p>\n",
            "         </td>\n",
            "        </tr>\n",
            "       </table>\n",
            "       <p align='3D\"center\"'>\n",
            "        <b>\n",
            "         <font color='3D\"#000000\"'>\n",
            "          PLEASE COMPLETE TH= E FOLLOWING FORM\n",
            "         </font>\n",
            "        </b>\n",
            "       </p>\n",
            "      </td>\n",
            "     </tr>\n",
            "    </table>\n",
            "    <table bgcolor='3D\"#=' border='3D\"1\"' bordercolor='3D\"#000000\"' width='3D\"100%\"'>\n",
            "     <tr>\n",
            "      <td width='3D\"100%\"'>\n",
            "       <table border='3D\"0\"' width='3D\"100%\"'>\n",
            "        <tr>\n",
            "         <td align='3D\"right\"' width='3D\"20%\"'>\n",
            "          <b>\n",
            "           <font color=\"3D=\" size='3D\"3\"'>\n",
            "            NAME\n",
            "           </font>\n",
            "          </b>\n",
            "         </td>\n",
            "         <td align='3D\"left\"' width='3D\"20%\"'>\n",
            "          <p align='3D\"left\"'>\n",
            "           <font color='3D\"#FFFFFF\"'>\n",
            "            <input name='3D\"Name\"' size='3D\"20\"' type='3D\"te=' xt=\"\"/>\n",
            "           </font>\n",
            "          </p>\n",
            "         </td>\n",
            "         <td align='3D\"right\"' width='3D\"20%\"'>\n",
            "          <b>\n",
            "           <font color=\"3D=\" size='3D\"3\"'>\n",
            "            PHONE\n",
            "           </font>\n",
            "          </b>\n",
            "         </td>\n",
            "         <td width='3D\"20%\"'>\n",
            "          <font color='3D\"#FFFFFF\"'>\n",
            "           <input name='3D\"Phone\"' size='3D\"20\"' type='3D\"text='/>\n",
            "          </font>\n",
            "         </td>\n",
            "        </tr>\n",
            "        <tr>\n",
            "         <td align='3D\"right\"' width='3D\"20%\"'>\n",
            "          <b>\n",
            "           <font color=\"3D=\" size='3D\"3\"'>\n",
            "            EMAIL\n",
            "           </font>\n",
            "          </b>\n",
            "         </td>\n",
            "         <td align='3D\"left\"' width='3D\"20%\"'>\n",
            "          <font color='3D\"#FFFFFF\"'>\n",
            "           <inp name='3D\"Email\"' size='3D\"20\"' type='3D\"text\"' ut=\"\">\n",
            "           </inp>\n",
            "          </font>\n",
            "         </td>\n",
            "         <td align='3D\"right\"' width='3D\"20%\"'>\n",
            "          <b>\n",
            "           <font color=\"3D=\" size='3D\"3\"'>\n",
            "            TIME TO CALL\n",
            "           </font>\n",
            "          </b>\n",
            "         </td>\n",
            "         <td width='3D\"20%\"'>\n",
            "          <font color='3D\"#FFFFFF\"'>\n",
            "           <input name='3D\"Time2Call\"' size='3D\"18\"' type='3D\"text='/>\n",
            "           <select name='3D\"TimeZone\"' size='3D\"1\"'>\n",
            "            <option>\n",
            "             PST\n",
            "            </option>\n",
            "            <option>\n",
            "             MNT\n",
            "            </option>\n",
            "            <option>\n",
            "             CST\n",
            "            </option>\n",
            "            <option>\n",
            "             EST\n",
            "            </option>\n",
            "            <option>\n",
            "             OTHER\n",
            "            </option>\n",
            "           </select>\n",
            "          </font>\n",
            "         </td>\n",
            "        </tr>\n",
            "        <tr>\n",
            "         <td align='3D\"right\"' width='3D\"20%\"'>\n",
            "          <b>\n",
            "           <font color=\"3D=\" size='3D\"3\"'>\n",
            "            COMPANY YOU ARE WITH\n",
            "           </font>\n",
            "          </b>\n",
            "         </td>\n",
            "         <td align='3D\"left\"' colspan='3D\"3\"' width='3D\"60%\"'>\n",
            "          <font color=\"3D=\">\n",
            "           <input name='3D\"Company\"' size='3D\"50\"' type='3D\"text\"'/>\n",
            "          </font>\n",
            "         </td>\n",
            "        </tr>\n",
            "        <tr>\n",
            "         <td align='3D\"right\"' width='3D\"20%\"'>\n",
            "          <font color='3D\"#FFFFFF\"'>\n",
            "           <in name='3D\"DOWNLINE_MEMBERS\"' put=\"\" size='3D\"13\"' type='3D\"text\"'>\n",
            "           </in>\n",
            "          </font>\n",
            "         </td>\n",
            "         <td align='3D\"left\"' colspan='3D\"3\"' width='3D\"60%\"'>\n",
            "          <b>\n",
            "           <font color='=3D\"#FFFFFF\"'>\n",
            "            HOW MANY DOWNLINE MEMBERS DO YOU HAVE THAT MAY ALSO NEED LEADS?=\n",
            "           </font>\n",
            "          </b>\n",
            "         </td>\n",
            "        </tr>\n",
            "       </table>\n",
            "       <p align='3D\"center\"'>\n",
            "        <input name=\"3D=\" type='3D\"submit\"' value='3D\"Submit\"'/>\n",
            "        <input name='3D\"B2\"' type='3D\"reset\"' value='3D\"Reset\"'/>\n",
            "       </p>\n",
            "      </td>\n",
            "     </tr>\n",
            "    </table>\n",
            "    <p align='3D\"center\"'>\n",
            "    </p>\n",
            "    <p align='3D\"center\"'>\n",
            "    </p>\n",
            "    <p align='3D\"center\"'>\n",
            "    </p>\n",
            "    <p align='3D\"center\"'>\n",
            "    </p>\n",
            "    <p align='3D\"center\"'>\n",
            "    </p>\n",
            "    <p align='3D\"center\"'>\n",
            "    </p>\n",
            "    <p align='3D\"center\"'>\n",
            "    </p>\n",
            "    <p align='3D\"center\"'>\n",
            "     <b>\n",
            "      <font size='3D\"2\"'>\n",
            "       <font color='3D\"#000000\"'>\n",
            "        You hav= e received this Message because of a past Client/Service Relationship we had with you. = If this might be inaccurate, or you simply wish to be Removed from all future N= otices, then\n",
            "       </font>\n",
            "       <font color='3D\"#FF0000\"'>\n",
            "        <a href='3D\"mailto:removes@btamail.=' net.cn=\"\" target='3D\"_blank\"'>\n",
            "         CLICK HERE\n",
            "        </a>\n",
            "       </font>\n",
            "      </font>\n",
            "     </b>\n",
            "    </p>\n",
            "    <table border='3D\"0\"' width='3D\"100%\"'>\n",
            "     <tr>\n",
            "      <td bgcolor='3D\"#000000\"' bordercolor='3D\"#000000\"' width='3D\"100%\"'>\n",
            "       <fon size='3D\"5\"' t=\"\">\n",
            "       </fon>\n",
            "      </td>\n",
            "     </tr>\n",
            "    </table>\n",
            "   </form>\n",
            "  </webmaster>\n",
            " </p>\n",
            "</body>\n"
          ]
        }
      ],
      "source": [
        "print(content.body.prettify())"
      ]
    },
    {
      "cell_type": "code",
      "execution_count": 129,
      "metadata": {
        "id": "ff0Sjtvo3xsi"
      },
      "outputs": [],
      "source": [
        "\n",
        "job_elements = content.find_all(\"font\")\n",
        "for job_element in job_elements:\n",
        "    title_element = job_element.find(\"font\")"
      ]
    },
    {
      "cell_type": "code",
      "execution_count": 130,
      "metadata": {
        "id": "GvtN1iegR9g3"
      },
      "outputs": [],
      "source": [
        "soup = BeautifulSoup(dummy, features=\"html.parser\")\n",
        "# kill all script and style elements\n",
        "for script in soup([\"script\", \"style\"]):\n",
        "    script.extract() "
      ]
    },
    {
      "cell_type": "code",
      "execution_count": 131,
      "metadata": {
        "id": "kSIh7Lb7STFc"
      },
      "outputs": [],
      "source": [
        "text = soup.get_text()"
      ]
    },
    {
      "cell_type": "code",
      "execution_count": 132,
      "metadata": {
        "colab": {
          "base_uri": "https://localhost:8080/",
          "height": 174
        },
        "id": "Gw93W1fCSYY3",
        "outputId": "5d3b8857-4c81-4ce3-843b-d8abf4c642ea"
      },
      "outputs": [
        {
          "output_type": "execute_result",
          "data": {
            "text/plain": [
              "'From leadsales400042@yahoo.com Mon Jun 24 17:03:55 2002 Return-Path: leadsales400042@yahoo.com Delivery-Date: Wed May 15 16:24:17 2002 Received: from MIRAFLORES.GOB.PE ([161.132.70.10]) by dogma.slashnull.org (8.11.6/8.11.6) with ESMTP id g4FFOAe12470 for ; Wed, 15 May 2002 16:24:10 +0100 Message-Id: <200205151524.g4FFOAe12470@dogma.slashnull.org> Received: from yahoo.com([208.166.82.124]) by MIRAFLORES.GOB.PE (IBM OS/400 SMTP V05R01M00) with TCP; Wed, 15 May 2002 10:23:51 +0000 From: leadsales400042@yahoo.com To: webmaster@efi.ie Subject: Got Leads? Date: 15 May 2002 20:34:36 -0700 MIME-Version: 1.0 X-Keywords: Content-Type: text/html Content-Transfer-Encoding: quoted-printable  HEY, I AM FORWARDING YOU THE AD THEY SENT ME. I TRIED THE LEADS AND THINK WE SHOULD USE THEM FOR OUR TEAM. WHAT DO YOU THINK? THANKS, JOHN     LEAD SALE EXTENDED     YOU HAVE BEEN INVITED TO JOIN THE CO-OP   LEAD SALE = EXTENDED      We have= recently put together a lead co-op specifically for your group.\\xa0 We have = been able to lock the price at as little as 50 cents per lead!!\\xa0 = Leads are normally $1-$3 per...     \\xa0= ;    So...= .  SIGN = UP TODAY....  GET O= UR LEADS....  AND G= ET TO WORK!!      Here is what we hav= e to offer you:         NETWORK MARKETER OR GIFTER CONTACTS  All Leads Guaranteed To Be Network Marketers / o= r Gifters Guaranteed To Be Current, Active and Experienced=  Leads, Have Either Responded To A Internet Quest= ionnaire, Or Are Already On Our Contact List, Of Current, Active Networkers, Open To Opportunity. Leads Include:\\xa0\\xa0\\xa0\\xa0[At Least]= Name, Phone, And Email  \\xa0        ***USE US AS A TOOL TO BUILD YOUR BUSINESS!!&nbs= p; REFER AS MANY PEOPLE AS YOU CAN.\\xa0 EARN A TRUE RESIDUAL INCOME BY THE DUPLICATION OF YOUR TEAM, CAUSE REMEMBER......    [Remember] = \\xa0 Your System Now Includes A Proven Lead System.\\xa0 \\xa0\\xa0\\xa0 [Remember]=    ____________________________________________________________________= _    Replace= ment Policy [Our Leads Are Guaranteed]   Any Unusable Lead\\xa0\\xa0 Ie. Missin= g Info, Invalid Info, Any Just Real Negative Response Towards You On = The Phone..... REPLACED      Replacement = Leads Given -\\xa0 No Questions Asked.\\xa0 Just Let Us Know What You= Need And We Will Get It Handled.   PLEASE COMPLETE TH= E FOLLOWING FORM\\xa0         NAME   PHONE    EMAIL  TIME TO CALL  PST MNT CST EST OTHER    COMPANY YOU ARE WITH     HOW MANY DOWNLINE MEMBERS DO YOU HAVE THAT MAY ALSO NEED LEADS?=     \\xa0   \\xa0 \\xa0 \\xa0 \\xa0 \\xa0 \\xa0 \\xa0 You hav= e received this Message because of a past Client/Service Relationship we had with you. = If this might be inaccurate, or you simply wish to be Removed from all future N= otices, then CLICK HERE   \\xa0     '"
            ],
            "application/vnd.google.colaboratory.intrinsic+json": {
              "type": "string"
            }
          },
          "metadata": {},
          "execution_count": 132
        }
      ],
      "source": [
        "text"
      ]
    },
    {
      "cell_type": "code",
      "execution_count": 133,
      "metadata": {
        "colab": {
          "base_uri": "https://localhost:8080/",
          "height": 174
        },
        "id": "SZuQcG7tTLLv",
        "outputId": "ec543c4b-cece-4a07-8269-12b72a8709b1"
      },
      "outputs": [
        {
          "output_type": "execute_result",
          "data": {
            "text/plain": [
              "'Subject: Got Leads? Date: 15 May 2002 20:34:36 -0700 MIME-Version: 1.0 X-Keywords: Content-Type: text/html Content-Transfer-Encoding: quoted-printable  HEY, I AM FORWARDING YOU THE AD THEY SENT ME. I TRIED THE LEADS AND THINK WE SHOULD USE THEM FOR OUR TEAM. WHAT DO YOU THINK? THANKS, JOHN     LEAD SALE EXTENDED     YOU HAVE BEEN INVITED TO JOIN THE CO-OP   LEAD SALE = EXTENDED      We have= recently put together a lead co-op specifically for your group.\\xa0 We have = been able to lock the price at as little as 50 cents per lead!!\\xa0 = Leads are normally $1-$3 per...     \\xa0= ;    So...= .  SIGN = UP TODAY....  GET O= UR LEADS....  AND G= ET TO WORK!!      Here is what we hav= e to offer you:         NETWORK MARKETER OR GIFTER CONTACTS  All Leads Guaranteed To Be Network Marketers / o= r Gifters Guaranteed To Be Current, Active and Experienced=  Leads, Have Either Responded To A Internet Quest= ionnaire, Or Are Already On Our Contact List, Of Current, Active Networkers, Open To Opportunity. Leads Include:\\xa0\\xa0\\xa0\\xa0[At Least]= Name, Phone, And Email  \\xa0        ***USE US AS A TOOL TO BUILD YOUR BUSINESS!!&nbs= p; REFER AS MANY PEOPLE AS YOU CAN.\\xa0 EARN A TRUE RESIDUAL INCOME BY THE DUPLICATION OF YOUR TEAM, CAUSE REMEMBER......    [Remember] = \\xa0 Your System Now Includes A Proven Lead System.\\xa0 \\xa0\\xa0\\xa0 [Remember]=    ____________________________________________________________________= _    Replace= ment Policy [Our Leads Are Guaranteed]   Any Unusable Lead\\xa0\\xa0 Ie. Missin= g Info, Invalid Info, Any Just Real Negative Response Towards You On = The Phone..... REPLACED      Replacement = Leads Given -\\xa0 No Questions Asked.\\xa0 Just Let Us Know What You= Need And We Will Get It Handled.   PLEASE COMPLETE TH= E FOLLOWING FORM\\xa0         NAME   PHONE    EMAIL  TIME TO CALL  PST MNT CST EST OTHER    COMPANY YOU ARE WITH     HOW MANY DOWNLINE MEMBERS DO YOU HAVE THAT MAY ALSO NEED LEADS?=     \\xa0   \\xa0 \\xa0 \\xa0 \\xa0 \\xa0 \\xa0 \\xa0 You hav= e received this Message because of a past Client/Service Relationship we had with you. = If this might be inaccurate, or you simply wish to be Removed from all future N= otices, then CLICK HERE   \\xa0     '"
            ],
            "application/vnd.google.colaboratory.intrinsic+json": {
              "type": "string"
            }
          },
          "metadata": {},
          "execution_count": 133
        }
      ],
      "source": [
        "strngg_2=re.sub(r'^.*?Subject', 'Subject', text)\n",
        "strngg_2"
      ]
    },
    {
      "cell_type": "code",
      "execution_count": 134,
      "metadata": {
        "colab": {
          "base_uri": "https://localhost:8080/",
          "height": 174
        },
        "id": "an_lrsHhKl6p",
        "outputId": "8f1bd4c5-b641-4431-d78e-15d35217b92f"
      },
      "outputs": [
        {
          "output_type": "execute_result",
          "data": {
            "text/plain": [
              "'Subject Got Leads Date 15 May 2002 203436 0700 MIMEVersion 1.0 XKeywords ContentType texthtml ContentTransferEncoding quotedprintable  HEY I AM FORWARDING YOU THE AD THEY SENT ME. I TRIED THE LEADS AND THINK WE SHOULD USE THEM FOR OUR TEAM. WHAT DO YOU THINK THANKS JOHN     LEAD SALE EXTENDED     YOU HAVE BEEN INVITED TO JOIN THE COOP   LEAD SALE  EXTENDED      We have recently put together a lead coop specifically for your group. We have  been able to lock the price at as little as 50 cents per lead  Leads are normally 13 per...          So... .  SIGN  UP TODAY....  GET O UR LEADS....  AND G ET TO WORK      Here is what we hav e to offer you         NETWORK MARKETER OR GIFTER CONTACTS  All Leads Guaranteed To Be Network Marketers  o r Gifters Guaranteed To Be Current Active and Experienced  Leads Have Either Responded To A Internet Quest ionnaire Or Are Already On Our Contact List Of Current Active Networkers Open To Opportunity. Leads IncludeAt Least Name Phone And Email          USE US AS A TOOL TO BUILD YOUR BUSINESSnbs p REFER AS MANY PEOPLE AS YOU CAN. EARN A TRUE RESIDUAL INCOME BY THE DUPLICATION OF YOUR TEAM CAUSE REMEMBER......    Remember   Your System Now Includes A Proven Lead System.  Remember         Replace ment Policy Our Leads Are Guaranteed   Any Unusable Lead Ie. Missin g Info Invalid Info Any Just Real Negative Response Towards You On  The Phone..... REPLACED      Replacement  Leads Given  No Questions Asked. Just Let Us Know What You Need And We Will Get It Handled.   PLEASE COMPLETE TH E FOLLOWING FORM         NAME   PHONE    EMAIL  TIME TO CALL  PST MNT CST EST OTHER    COMPANY YOU ARE WITH     HOW MANY DOWNLINE MEMBERS DO YOU HAVE THAT MAY ALSO NEED LEADS               You hav e received this Message because of a past ClientService Relationship we had with you.  If this might be inaccurate or you simply wish to be Removed from all future N otices then CLICK HERE        '"
            ],
            "application/vnd.google.colaboratory.intrinsic+json": {
              "type": "string"
            }
          },
          "metadata": {},
          "execution_count": 134
        }
      ],
      "source": [
        "my_new_string = re.sub('[^a-zA-Z0-9 \\n\\.]', '', strngg_2)\n",
        "my_new_string"
      ]
    },
    {
      "cell_type": "code",
      "execution_count": 135,
      "metadata": {
        "colab": {
          "base_uri": "https://localhost:8080/",
          "height": 174
        },
        "id": "unoSEC98dpkQ",
        "outputId": "be9a5c18-63f5-4f46-e200-1fe41fca22e0"
      },
      "outputs": [
        {
          "output_type": "execute_result",
          "data": {
            "text/plain": [
              "'Subject Got Leads Date 15 May 2002 203436 0700 MIMEVersion 1.0 XKeywords ContentType texthtml ContentTransferEncoding quotedprintable HEY I AM FORWARDING YOU THE AD THEY SENT ME. I TRIED THE LEADS AND THINK WE SHOULD USE THEM FOR OUR TEAM. WHAT DO YOU THINK THANKS JOHN LEAD SALE EXTENDED YOU HAVE BEEN INVITED TO JOIN THE COOP LEAD SALE EXTENDED We have recently put together a lead coop specifically for your group. We have been able to lock the price at as little as 50 cents per lead Leads are normally 13 per... So... . SIGN UP TODAY.... GET O UR LEADS.... AND G ET TO WORK Here is what we hav e to offer you NETWORK MARKETER OR GIFTER CONTACTS All Leads Guaranteed To Be Network Marketers o r Gifters Guaranteed To Be Current Active and Experienced Leads Have Either Responded To A Internet Quest ionnaire Or Are Already On Our Contact List Of Current Active Networkers Open To Opportunity. Leads IncludeAt Least Name Phone And Email USE US AS A TOOL TO BUILD YOUR BUSINESSnbs p REFER AS MANY PEOPLE AS YOU CAN. EARN A TRUE RESIDUAL INCOME BY THE DUPLICATION OF YOUR TEAM CAUSE REMEMBER...... Remember Your System Now Includes A Proven Lead System. Remember Replace ment Policy Our Leads Are Guaranteed Any Unusable Lead Ie. Missin g Info Invalid Info Any Just Real Negative Response Towards You On The Phone..... REPLACED Replacement Leads Given No Questions Asked. Just Let Us Know What You Need And We Will Get It Handled. PLEASE COMPLETE TH E FOLLOWING FORM NAME PHONE EMAIL TIME TO CALL PST MNT CST EST OTHER COMPANY YOU ARE WITH HOW MANY DOWNLINE MEMBERS DO YOU HAVE THAT MAY ALSO NEED LEADS You hav e received this Message because of a past ClientService Relationship we had with you. If this might be inaccurate or you simply wish to be Removed from all future N otices then CLICK HERE'"
            ],
            "application/vnd.google.colaboratory.intrinsic+json": {
              "type": "string"
            }
          },
          "metadata": {},
          "execution_count": 135
        }
      ],
      "source": [
        "\" \".join(my_new_string.split())"
      ]
    },
    {
      "cell_type": "code",
      "execution_count": 136,
      "metadata": {
        "colab": {
          "base_uri": "https://localhost:8080/",
          "height": 174
        },
        "id": "bAdGXb59gEz1",
        "outputId": "09636b90-10d1-4d94-f4a0-4b9e4b1964f9"
      },
      "outputs": [
        {
          "output_type": "execute_result",
          "data": {
            "text/plain": [
              "'  HEY, I AM FORWARDING YOU THE AD THEY SENT ME. I TRIED THE LEADS AND THINK WE SHOULD USE THEM FOR OUR TEAM. WHAT DO YOU THINK? THANKS, JOHN     LEAD SALE EXTENDED     YOU HAVE BEEN INVITED TO JOIN THE CO-OP   LEAD SALE = EXTENDED      We have= recently put together a lead co-op specifically for your group.\\xa0 We have = been able to lock the price at as little as 50 cents per lead!!\\xa0 = Leads are normally $1-$3 per...     \\xa0= ;    So...= .  SIGN = UP TODAY....  GET O= UR LEADS....  AND G= ET TO WORK!!      Here is what we hav= e to offer you:         NETWORK MARKETER OR GIFTER CONTACTS  All Leads Guaranteed To Be Network Marketers / o= r Gifters Guaranteed To Be Current, Active and Experienced=  Leads, Have Either Responded To A Internet Quest= ionnaire, Or Are Already On Our Contact List, Of Current, Active Networkers, Open To Opportunity. Leads Include:\\xa0\\xa0\\xa0\\xa0[At Least]= Name, Phone, And Email  \\xa0        ***USE US AS A TOOL TO BUILD YOUR BUSINESS!!&nbs= p; REFER AS MANY PEOPLE AS YOU CAN.\\xa0 EARN A TRUE RESIDUAL INCOME BY THE DUPLICATION OF YOUR TEAM, CAUSE REMEMBER......    [Remember] = \\xa0 Your System Now Includes A Proven Lead System.\\xa0 \\xa0\\xa0\\xa0 [Remember]=    ____________________________________________________________________= _    Replace= ment Policy [Our Leads Are Guaranteed]   Any Unusable Lead\\xa0\\xa0 Ie. Missin= g Info, Invalid Info, Any Just Real Negative Response Towards You On = The Phone..... REPLACED      Replacement = Leads Given -\\xa0 No Questions Asked.\\xa0 Just Let Us Know What You= Need And We Will Get It Handled.   PLEASE COMPLETE TH= E FOLLOWING FORM\\xa0         NAME   PHONE    EMAIL  TIME TO CALL  PST MNT CST EST OTHER    COMPANY YOU ARE WITH     HOW MANY DOWNLINE MEMBERS DO YOU HAVE THAT MAY ALSO NEED LEADS?=     \\xa0   \\xa0 \\xa0 \\xa0 \\xa0 \\xa0 \\xa0 \\xa0 You hav= e received this Message because of a past Client/Service Relationship we had with you. = If this might be inaccurate, or you simply wish to be Removed from all future N= otices, then CLICK HERE   \\xa0     '"
            ],
            "application/vnd.google.colaboratory.intrinsic+json": {
              "type": "string"
            }
          },
          "metadata": {},
          "execution_count": 136
        }
      ],
      "source": [
        "# re.sub('<[^>]+>', '', s)\n",
        "result = strngg_2.rsplit('printable', 1)[1]\n",
        "result"
      ]
    },
    {
      "cell_type": "code",
      "execution_count": 137,
      "metadata": {
        "colab": {
          "base_uri": "https://localhost:8080/",
          "height": 174
        },
        "id": "A1mSAOtfmxcb",
        "outputId": "0419fa3c-4388-4df5-8409-e1cb65f70ab5"
      },
      "outputs": [
        {
          "output_type": "execute_result",
          "data": {
            "text/plain": [
              "' hey i am forwarding you the ad they sent me i tried the leads and think we should use them for our team what do you think thanks john lead sale extended you have been invited to join the coop lead sale extended we have recently put together a lead coop specifically for your group we have been able to lock the price at as little as 50 cents per lead leads are normally 13 per so sign up today get o ur leads and g et to work here is what we hav e to offer you network marketer or gifter contacts all leads guaranteed to be network marketers o r gifters guaranteed to be current active and experienced leads have either responded to a internet quest ionnaire or are already on our contact list of current active networkers open to opportunity leads includeat least name phone and email use us as a tool to build your businessnbs p refer as many people as you can earn a true residual income by the duplication of your team cause remember remember your system now includes a proven lead system remember replace ment policy our leads are guaranteed any unusable lead ie missin g info invalid info any just real negative response towards you on the phone replaced replacement leads given no questions asked just let us know what you need and we will get it handled please complete th e following form name phone email time to call pst mnt cst est other company you are with how many downline members do you have that may also need leads you hav e received this message because of a past clientservice relationship we had with you if this might be inaccurate or you simply wish to be removed from all future n otices then click here'"
            ],
            "application/vnd.google.colaboratory.intrinsic+json": {
              "type": "string"
            }
          },
          "metadata": {},
          "execution_count": 137
        }
      ],
      "source": [
        "strngg_2=re.sub(r'^.*?Subject', 'Subject', text)\n",
        "my_new_string = re.sub('[^a-zA-Z0-9 \\n\\.]', '', strngg_2)\n",
        "my_new_string_2=''.join(my_new_string.split('.'))\n",
        "my_new_string_2=\" \".join(my_new_string_2.split())\n",
        "result = my_new_string_2.rsplit('printable', 1)[1]\n",
        "result=result.lower()\n",
        "result"
      ]
    },
    {
      "cell_type": "code",
      "execution_count": 138,
      "metadata": {
        "id": "wzZrrhyjvPpM"
      },
      "outputs": [],
      "source": [
        "from bs4 import BeautifulSoup\n",
        "def format(string):\n",
        "  soup = BeautifulSoup(string, features=\"html.parser\")\n",
        "# kill all script and style elements\n",
        "  for script in soup([\"script\", \"style\"]):\n",
        "    script.extract()\n",
        "  text=soup.get_text() \n",
        "  my_new_string_1=re.sub(r'^.*?Subject', 'Subject', text)\n",
        "  my_new_string_2=re.sub(r'[A-Za-z0-9]*@[A-Za-z]*\\.?[A-Za-z0-9]*', \"\", my_new_string_1)\n",
        "  my_new_string_3 = re.sub('[^a-zA-Z0-9 \\n\\.]', '', my_new_string_2)\n",
        "  my_new_string_4=''.join(my_new_string_3.split('.'))\n",
        "  my_new_string_5=\" \".join(my_new_string_4.split())\n",
        "  my_new_string_6=re.sub(r'[A-Za-z0-9]*@[A-Za-z]*\\.?[A-Za-z0-9]*', \"\", my_new_string_5)\n",
        "  my_new_string_7 = re.sub('http[^\\s]+','',my_new_string_6)\n",
        "  # my_new_string_5 = my_new_string_4.rsplit('printable', 1)[1]\n",
        "  output_string=my_new_string_7.lower()\n",
        "  return output_string"
      ]
    },
    {
      "cell_type": "code",
      "execution_count": 139,
      "metadata": {
        "colab": {
          "base_uri": "https://localhost:8080/",
          "height": 174
        },
        "id": "ruLKxiXm0n6Y",
        "outputId": "54d7cf3e-d2cd-478f-b03b-873415337354"
      },
      "outputs": [
        {
          "output_type": "execute_result",
          "data": {
            "text/plain": [
              "'subject got leads date 15 may 2002 203436 0700 mimeversion 10 xkeywords contenttype texthtml contenttransferencoding quotedprintable hey i am forwarding you the ad they sent me i tried the leads and think we should use them for our team what do you think thanks john lead sale extended you have been invited to join the coop lead sale extended we have recently put together a lead coop specifically for your group we have been able to lock the price at as little as 50 cents per lead leads are normally 13 per so sign up today get o ur leads and g et to work here is what we hav e to offer you network marketer or gifter contacts all leads guaranteed to be network marketers o r gifters guaranteed to be current active and experienced leads have either responded to a internet quest ionnaire or are already on our contact list of current active networkers open to opportunity leads includeat least name phone and email use us as a tool to build your businessnbs p refer as many people as you can earn a true residual income by the duplication of your team cause remember remember your system now includes a proven lead system remember replace ment policy our leads are guaranteed any unusable lead ie missin g info invalid info any just real negative response towards you on the phone replaced replacement leads given no questions asked just let us know what you need and we will get it handled please complete th e following form name phone email time to call pst mnt cst est other company you are with how many downline members do you have that may also need leads you hav e received this message because of a past clientservice relationship we had with you if this might be inaccurate or you simply wish to be removed from all future n otices then click here'"
            ],
            "application/vnd.google.colaboratory.intrinsic+json": {
              "type": "string"
            }
          },
          "metadata": {},
          "execution_count": 139
        }
      ],
      "source": [
        "r = format(dummy)\n",
        "r"
      ]
    },
    {
      "cell_type": "code",
      "execution_count": 140,
      "metadata": {
        "id": "62IrDK6f212k"
      },
      "outputs": [],
      "source": [
        "df2 = dframe1['text'].apply(format)\n",
        "# dummy=dframe['text'][52]\n",
        "# dummy"
      ]
    },
    {
      "cell_type": "code",
      "execution_count": 141,
      "metadata": {
        "colab": {
          "base_uri": "https://localhost:8080/",
          "height": 174
        },
        "id": "bipiEjQi8-pv",
        "outputId": "c587a2fb-4b4d-4a0f-891f-00529bff3e92"
      },
      "outputs": [
        {
          "output_type": "execute_result",
          "data": {
            "text/plain": [
              "'subject world wide words 20 jul 02 to org world wide words issue 296 saturday 20 july 2002 sent each saturday to 15000 subscribers in at least 119 countries editor michael quinion thornbury bristol uk issn 14701448 if you respond to this mailing remember to change the outgoing address to one of those in the contact addresses section contents 1 turns of phrase beanpole family 2 weird words jobbernowl 3 beyond words 4 qa chip off the old block bells and whistles mortarboard 5 endnote 6 subscription commands 7 contact addresses 1 turns of phrase beanpole family historically families have usually had more children than parents resulting in family trees that looked like pyramids however in recent years especially in countries like britain and the us the number of children per generation has steadily gone down while life span has increased this has led to a shape of family tree that some researchers have likened to a beanpole tall and thin with few people in each generation the term beanpole family has been around in the academic literature at least since 1987 but it rarely appears elsewhere a recent british report has brought it to wider public notice at least in the uk some researchers find it too slangy and prefer the jargon term verticalised to describe such families whatever term you prefer specialists are sure that the demographic shift is having a big effect on personal relationships within the family and for example the role of grandparents the rising divorce rate partly explains the growth of the beanpole family with almost one in two marriages ending in divorce many adults have at least two families each with a single child observer may 2002 noting the rising number of socalled beanpole families in britain families with only one child the report warns that a child without siblings is starved of the companionship of family members of their own age leading to greater social isolation with teenagers adopting a more selfish attitude to life guardian june 2002 2 weird words jobbernowl a stupid person a blockhead unfortunately this useful and effective insult has rather dropped out of use in these mealymouthed times the last excursion for it that i can find is in the classic w c fields film the bank dick of 1940 in which the word occurs in a variant form in the line surely dont be a luddieduddie dont be a mooncalf dont be a jabbernow youre not those are you before that it turns up in one of the novels of hall caine in 1890 but even by then it seems to have been rather rare its from the old french jobard from jobe silly that word was then added to noll the top or crown of the head the noddle the first sense was of a blocklike or stupidlooking head but was soon extended to refer to the quality of the mind within jobbernowlism is the condition or state of being a jobbernowl or an act or remark that is especially stupid careful how you use it the recipient might be a subscriber 3 beyond words ive been away at a heritage conference in colchester these past few days on my way back my eye was caught by this warning sign posted above some steps at the local railway station caution do not run on the stairs use the hand rail 4 qa q for my job i have to read american magazines concerning consumer electronics home systems burglar alarms etc i very often come across the expression bells and whistles which seem to relate to equipment accessories or features that are offered to the customer as plusses but are not really indispensable for the device to work is that right and where does that funny phrase come from herve castelain france q youre right about the meaning of this phrase which refers to gimmicks nonessential but often engaging features added to a piece of technical equipment or a computer program to make it seem more superficially attractive without enhancing its main function the phrase is actually quite modern and may be a product of the american military at least one of its earliest appearances was in an article in atlantic in october 1982 which said it was pentagon slang for extravagant frills theres some evidence that the term has actually been around since the 1960s but the early evidence is sparse where it comes from is still a matter of learned debate a literal sense of the phrase appeared around the middle of the nineteenth century referring to streetcars railways and steamships before modern electronics there were really only two ways to make a loud warning noise you either rang a bell or tooted a whistle steam made the latter a real power in the land anybody who has heard the noisy outoftune calliope on the steamboat natchez at new orleans will agree about its power though less so about its glory and at one time clang clang clang went the trolley in large numbers of american cities at least some early us railroad locomotives had both bells and whistles as this extract from an article in appletons journal of 1876 shows you look up at an angle of sixty degrees and see sweeping along the edge of a precipice twothirds up the rocky height a train of redandyellow railwaycars drawn by two woodburning engines the sound of whose bells and whistles seems like the small diversions of very little children so diminished are they by the distance could it be that to have both bells and whistles was thought excessive a case of belt and braces an unnecessary feature a frill possibly but its more probable the slang sense of the term comes from that close musical relative of the calliope the theatre organ extraordinary instruments such as the mighty wurlitzer augmented their basic repertoire by all sorts of sound effects to help the organist accompany silent films among them car horns sirens and bird whistles these effects were called toys and organs often had toy counters with 20 or more noisemakers on them including various bells and whistles in the 1950s decades after the talkies came in but while theatre organs were still common in big movie houses these fun features must have been considered no longer essential to the function of the organ but mere fripperies inessential addons its possible the slang sense grew out of that it got taken up especially by the computing industry perhaps because opportunities to add them are so great q the designation of robes for academic dress clearly comes from its origin with the clergy in the middle ages but what about mortarboards the best i could find was its origin in the 12th or 13th century clergy cap but that was not squareshaped does mortarboard refer to the guilds or is its origin more ancient a the academic cap often called a mortarboard is quite ancient but that word for it only dates from the middle of the nineteenth century a less slangy way to identify it is to call it a square the literal mortar board is the wooden plate usually with a handle underneath on which bricklayers carry small amounts of mortar a similar tool is used by plasterers but they usually call it a hawk what seems to have happened is that the similarity in shape between the brickies board and the academic cap led some wag probably at oxford university to apply the name of the one to the other our first recorded use is in a book of 18536 the adventures of mr verdant green an oxford freshman by a clergyman named edward bradley who wrote under the pen name of cuthbert bede the names of the two patron saints of durham where he went to school verdant green is a sort of undergraduate pickwick and the book recounts his adventures this magisterial reprimand by a don appears after one such escapade i will overlook your offence in assuming that portion of the academical attire to which you gave the offensive epithet of mortarboard more especially as you acted at the suggestion and bidding of those who ought to have known better after a slow start the book became a huge success selling more than 200000 copies in the next 20 years whether mr bradley invented the slang term we may never know but his book certainly popularised it q i got into a discussion about chip off the old block with friends and we are wondering if it had to do with sculpting jewelry making woodworking or none of the above what does this term mean and where did it come from vijay renganathan a the associations are with carpentry and the block is definitely made of wood the first form of the expression was chip of the same block meaning that a person or thing was made of the same stuff as somebody or something else so from the same source or parentage an early example is in a sermon by dr robert sanderson at one time bishop of lincoln dated 1637 am not i a child of the same adam a chip of the same block with him later that century another form is recorded a chip of the old block which meant that somebody was the spitting image of his father or continued some family characteristic at some point probably late in the nineteenth century this was modified to a chip off the old block which does nothing to change the sense but is the way its now usually written or said 5 endnote the sum of human wisdom is not contained in any one language and no single language is capable of expressing all forms and degrees of human comprehension ezra pound quoted by david crystal in the guardian 25 october 1999 6 subscription commands to leave the list change your subscription address or subscribe please visit or you can send a message to from the address at which you are or want to be subscribed to leave send signoff worldwidewords to join send subscribe worldwidewords firstname lastname 7 contact addresses do not use the address that comes up when you hit reply on this mailing or your message will be sent to an electronic deadletter office either create a new message or change the outgoing to address to one of these for general comments for qa section questions world wide words is copyright c michael quinion 2002 all rights reserved the words web site is at you may reproduce this newsletter in whole or in part in other free media online provided that you include this note and the copyright notice above reproduction in print media or on web pages requires prior permission contact'"
            ],
            "application/vnd.google.colaboratory.intrinsic+json": {
              "type": "string"
            }
          },
          "metadata": {},
          "execution_count": 141
        }
      ],
      "source": [
        "df2[901]"
      ]
    },
    {
      "cell_type": "markdown",
      "metadata": {
        "id": "4IrhDHJ7zkso"
      },
      "source": [
        "Removing Stopwords"
      ]
    },
    {
      "cell_type": "code",
      "execution_count": 142,
      "metadata": {
        "colab": {
          "base_uri": "https://localhost:8080/"
        },
        "id": "I8D7OnzPznXV",
        "outputId": "dd26989b-1ef1-4d9e-a721-1c96fad5bb9e"
      },
      "outputs": [
        {
          "output_type": "stream",
          "name": "stderr",
          "text": [
            "[nltk_data] Downloading package stopwords to /root/nltk_data...\n",
            "[nltk_data]   Package stopwords is already up-to-date!\n"
          ]
        },
        {
          "output_type": "execute_result",
          "data": {
            "text/plain": [
              "True"
            ]
          },
          "metadata": {},
          "execution_count": 142
        }
      ],
      "source": [
        "nltk.download('stopwords')"
      ]
    },
    {
      "cell_type": "code",
      "execution_count": 143,
      "metadata": {
        "id": "1NM8avqIzx7E"
      },
      "outputs": [],
      "source": [
        "from nltk.corpus import stopwords\n",
        "from nltk.tokenize import word_tokenize\n",
        "stop_words = set(stopwords.words('english'))\n",
        "\", \".join(stopwords.words('english'))\n",
        "def remove_stopwords(text):\n",
        "    return \" \".join([word for word in text.split() if word not in stop_words])"
      ]
    },
    {
      "cell_type": "code",
      "execution_count": 144,
      "metadata": {
        "colab": {
          "base_uri": "https://localhost:8080/"
        },
        "id": "VEYi0qLa3vP4",
        "outputId": "0af131c6-8f9b-4f04-930a-a5a776f480ce"
      },
      "outputs": [
        {
          "output_type": "execute_result",
          "data": {
            "text/plain": [
              "0       subject re ilug architecture crossover trouble...\n",
              "1       subject cash in on your home equity date tue 0...\n",
              "2       subject are your mortgage rates the best they ...\n",
              "3       subject online approval for 5000 now mimeversi...\n",
              "4       subject re ilug expanding a string multiple ti...\n",
              "                              ...                        \n",
              "5823    subject re ilug nmap results date mon 22 jul 2...\n",
              "5824    subject re the absurdities of life inreplyto 3...\n",
              "5825    subject real drugsviagra and phentrimine date ...\n",
              "5826    subject razorusers no positive razor hits send...\n",
              "5827    subject are you being freeserved date mon 30 s...\n",
              "Name: text, Length: 5320, dtype: object"
            ]
          },
          "metadata": {},
          "execution_count": 144
        }
      ],
      "source": [
        "df2"
      ]
    },
    {
      "cell_type": "code",
      "execution_count": 145,
      "metadata": {
        "id": "dN7O9MPp0OU8"
      },
      "outputs": [],
      "source": [
        "df2 = df2.apply(lambda x: remove_stopwords(x))"
      ]
    },
    {
      "cell_type": "code",
      "execution_count": 146,
      "metadata": {
        "colab": {
          "base_uri": "https://localhost:8080/",
          "height": 174
        },
        "id": "IvA4HBpT34r2",
        "outputId": "dc8faeec-f63b-42cd-a126-be4b95db89c5"
      },
      "outputs": [
        {
          "output_type": "execute_result",
          "data": {
            "text/plain": [
              "'subject world wide words 20 jul 02 org world wide words issue 296 saturday 20 july 2002 sent saturday 15000 subscribers least 119 countries editor michael quinion thornbury bristol uk issn 14701448 respond mailing remember change outgoing address one contact addresses section contents 1 turns phrase beanpole family 2 weird words jobbernowl 3 beyond words 4 qa chip old block bells whistles mortarboard 5 endnote 6 subscription commands 7 contact addresses 1 turns phrase beanpole family historically families usually children parents resulting family trees looked like pyramids however recent years especially countries like britain us number children per generation steadily gone life span increased led shape family tree researchers likened beanpole tall thin people generation term beanpole family around academic literature least since 1987 rarely appears elsewhere recent british report brought wider public notice least uk researchers find slangy prefer jargon term verticalised describe families whatever term prefer specialists sure demographic shift big effect personal relationships within family example role grandparents rising divorce rate partly explains growth beanpole family almost one two marriages ending divorce many adults least two families single child observer may 2002 noting rising number socalled beanpole families britain families one child report warns child without siblings starved companionship family members age leading greater social isolation teenagers adopting selfish attitude life guardian june 2002 2 weird words jobbernowl stupid person blockhead unfortunately useful effective insult rather dropped use mealymouthed times last excursion find classic w c fields film bank dick 1940 word occurs variant form line surely dont luddieduddie dont mooncalf dont jabbernow youre turns one novels hall caine 1890 even seems rather rare old french jobard jobe silly word added noll top crown head noddle first sense blocklike stupidlooking head soon extended refer quality mind within jobbernowlism condition state jobbernowl act remark especially stupid careful use recipient might subscriber 3 beyond words ive away heritage conference colchester past days way back eye caught warning sign posted steps local railway station caution run stairs use hand rail 4 qa q job read american magazines concerning consumer electronics home systems burglar alarms etc often come across expression bells whistles seem relate equipment accessories features offered customer plusses really indispensable device work right funny phrase come herve castelain france q youre right meaning phrase refers gimmicks nonessential often engaging features added piece technical equipment computer program make seem superficially attractive without enhancing main function phrase actually quite modern may product american military least one earliest appearances article atlantic october 1982 said pentagon slang extravagant frills theres evidence term actually around since 1960s early evidence sparse comes still matter learned debate literal sense phrase appeared around middle nineteenth century referring streetcars railways steamships modern electronics really two ways make loud warning noise either rang bell tooted whistle steam made latter real power land anybody heard noisy outoftune calliope steamboat natchez new orleans agree power though less glory one time clang clang clang went trolley large numbers american cities least early us railroad locomotives bells whistles extract article appletons journal 1876 shows look angle sixty degrees see sweeping along edge precipice twothirds rocky height train redandyellow railwaycars drawn two woodburning engines sound whose bells whistles seems like small diversions little children diminished distance could bells whistles thought excessive case belt braces unnecessary feature frill possibly probable slang sense term comes close musical relative calliope theatre organ extraordinary instruments mighty wurlitzer augmented basic repertoire sorts sound effects help organist accompany silent films among car horns sirens bird whistles effects called toys organs often toy counters 20 noisemakers including various bells whistles 1950s decades talkies came theatre organs still common big movie houses fun features must considered longer essential function organ mere fripperies inessential addons possible slang sense grew got taken especially computing industry perhaps opportunities add great q designation robes academic dress clearly comes origin clergy middle ages mortarboards best could find origin 12th 13th century clergy cap squareshaped mortarboard refer guilds origin ancient academic cap often called mortarboard quite ancient word dates middle nineteenth century less slangy way identify call square literal mortar board wooden plate usually handle underneath bricklayers carry small amounts mortar similar tool used plasterers usually call hawk seems happened similarity shape brickies board academic cap led wag probably oxford university apply name one first recorded use book 18536 adventures mr verdant green oxford freshman clergyman named edward bradley wrote pen name cuthbert bede names two patron saints durham went school verdant green sort undergraduate pickwick book recounts adventures magisterial reprimand appears one escapade overlook offence assuming portion academical attire gave offensive epithet mortarboard especially acted suggestion bidding ought known better slow start book became huge success selling 200000 copies next 20 years whether mr bradley invented slang term may never know book certainly popularised q got discussion chip old block friends wondering sculpting jewelry making woodworking none term mean come vijay renganathan associations carpentry block definitely made wood first form expression chip block meaning person thing made stuff somebody something else source parentage early example sermon dr robert sanderson one time bishop lincoln dated 1637 child adam chip block later century another form recorded chip old block meant somebody spitting image father continued family characteristic point probably late nineteenth century modified chip old block nothing change sense way usually written said 5 endnote sum human wisdom contained one language single language capable expressing forms degrees human comprehension ezra pound quoted david crystal guardian 25 october 1999 6 subscription commands leave list change subscription address subscribe please visit send message address want subscribed leave send signoff worldwidewords join send subscribe worldwidewords firstname lastname 7 contact addresses use address comes hit reply mailing message sent electronic deadletter office either create new message change outgoing address one general comments qa section questions world wide words copyright c michael quinion 2002 rights reserved words web site may reproduce newsletter whole part free media online provided include note copyright notice reproduction print media web pages requires prior permission contact'"
            ],
            "application/vnd.google.colaboratory.intrinsic+json": {
              "type": "string"
            }
          },
          "metadata": {},
          "execution_count": 146
        }
      ],
      "source": [
        "df2[901]"
      ]
    },
    {
      "cell_type": "markdown",
      "metadata": {
        "id": "nxQR3neE84iH"
      },
      "source": [
        "Tokenization and converting to sequences"
      ]
    },
    {
      "cell_type": "code",
      "execution_count": 147,
      "metadata": {
        "colab": {
          "base_uri": "https://localhost:8080/"
        },
        "id": "NG7uqQsf87zp",
        "outputId": "145b4ab9-6bd9-4440-9dc3-6caaa7a8d2f6"
      },
      "outputs": [
        {
          "output_type": "execute_result",
          "data": {
            "text/plain": [
              "68591"
            ]
          },
          "metadata": {},
          "execution_count": 147
        }
      ],
      "source": [
        "# tokenize text\n",
        "tokenizer = Tokenizer()\n",
        "tokenizer.fit_on_texts(df2)\n",
        "\n",
        "word_index = tokenizer.word_index\n",
        "vocab_size = len(word_index)\n",
        "vocab_size"
      ]
    },
    {
      "cell_type": "markdown",
      "metadata": {
        "id": "_ctWr-Y3-XBg"
      },
      "source": [
        "Convert whole text into uniform list of features"
      ]
    },
    {
      "cell_type": "code",
      "execution_count": 148,
      "metadata": {
        "id": "L5ESc4yu-kC5"
      },
      "outputs": [],
      "source": [
        "sequences = tokenizer.texts_to_sequences(df2)"
      ]
    },
    {
      "cell_type": "code",
      "execution_count": 149,
      "metadata": {
        "colab": {
          "base_uri": "https://localhost:8080/"
        },
        "id": "mmZEr86T-Zbe",
        "outputId": "f5c9bfd2-f653-4d74-d3ce-676fc2d725fe"
      },
      "outputs": [
        {
          "output_type": "stream",
          "name": "stdout",
          "text": [
            "Looking in indexes: https://pypi.org/simple, https://us-python.pkg.dev/colab-wheels/public/simple/\n",
            "Requirement already satisfied: pad_sequences in /usr/local/lib/python3.9/dist-packages (0.6.1)\n"
          ]
        }
      ],
      "source": [
        "!pip install pad_sequences\n",
        "import pad_sequences\n",
        "from tensorflow.keras.preprocessing.sequence import pad_sequences"
      ]
    },
    {
      "cell_type": "code",
      "execution_count": 150,
      "metadata": {
        "colab": {
          "base_uri": "https://localhost:8080/"
        },
        "id": "FdXafzRN-oLP",
        "outputId": "b0b503d9-a035-417c-f4f7-c2829fc58cd4"
      },
      "outputs": [
        {
          "output_type": "execute_result",
          "data": {
            "text/plain": [
              "23852"
            ]
          },
          "metadata": {},
          "execution_count": 150
        }
      ],
      "source": [
        "len_of_seq=max(len(data) for data in df2)\n",
        "len_of_seq"
      ]
    },
    {
      "cell_type": "code",
      "execution_count": 151,
      "metadata": {
        "id": "3n6jDNxPAOKN"
      },
      "outputs": [],
      "source": [
        "padded_seq = pad_sequences(sequences, maxlen = 23852,padding='post',truncating='post')"
      ]
    },
    {
      "cell_type": "code",
      "execution_count": 152,
      "metadata": {
        "colab": {
          "base_uri": "https://localhost:8080/"
        },
        "id": "_sd1AGRaAQ38",
        "outputId": "6748c4fd-4cc1-405c-fe75-409bf51e6804"
      },
      "outputs": [
        {
          "output_type": "execute_result",
          "data": {
            "text/plain": [
              "array([   2,   48, 2899, ...,    0,    0,    0], dtype=int32)"
            ]
          },
          "metadata": {},
          "execution_count": 152
        }
      ],
      "source": [
        "padded_seq[0]"
      ]
    },
    {
      "cell_type": "code",
      "execution_count": 153,
      "metadata": {
        "colab": {
          "base_uri": "https://localhost:8080/"
        },
        "id": "TTvYE9cMAU1D",
        "outputId": "d36daf46-2c63-4ee8-c557-fea59cb5c5ef"
      },
      "outputs": [
        {
          "output_type": "execute_result",
          "data": {
            "text/plain": [
              "(5320, 23852)"
            ]
          },
          "metadata": {},
          "execution_count": 153
        }
      ],
      "source": [
        "padded_seq.shape"
      ]
    }
  ],
  "metadata": {
    "colab": {
      "provenance": []
    },
    "kernelspec": {
      "display_name": "Python 3",
      "name": "python3"
    },
    "language_info": {
      "name": "python"
    }
  },
  "nbformat": 4,
  "nbformat_minor": 0
}