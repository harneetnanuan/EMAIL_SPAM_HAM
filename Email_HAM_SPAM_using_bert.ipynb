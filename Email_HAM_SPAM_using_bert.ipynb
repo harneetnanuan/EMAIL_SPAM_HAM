{
  "cells": [
    {
      "cell_type": "markdown",
      "metadata": {
        "id": "h4btkZVyOyPl"
      },
      "source": [
        "Importing necessary libraries"
      ]
    },
    {
      "cell_type": "code",
      "execution_count": null,
      "metadata": {
        "id": "NQ9B9Y07LagG"
      },
      "outputs": [],
      "source": [
        "import pandas as pd\n",
        "import numpy as np\n",
        "import re\n",
        "import nltk\n",
        "from keras.preprocessing.text import Tokenizer"
      ]
    },
    {
      "cell_type": "markdown",
      "metadata": {
        "id": "JfCfjD6vO2kZ"
      },
      "source": [
        "unzip the source data"
      ]
    },
    {
      "cell_type": "code",
      "execution_count": null,
      "metadata": {
        "colab": {
          "base_uri": "https://localhost:8080/"
        },
        "id": "uSsbGjyBOA9p",
        "outputId": "9b093b3c-7f90-47c5-d599-399894bae027"
      },
      "outputs": [
        {
          "output_type": "stream",
          "name": "stdout",
          "text": [
            "Archive:  /content/archive.zip\n",
            "  inflating: /content/data/spam_ham.csv  \n"
          ]
        }
      ],
      "source": [
        "!unzip '/content/archive.zip' -d '/content/data'"
      ]
    },
    {
      "cell_type": "markdown",
      "metadata": {
        "id": "9QHoJNasO6Er"
      },
      "source": [
        "Pull the source data"
      ]
    },
    {
      "cell_type": "code",
      "execution_count": null,
      "metadata": {
        "colab": {
          "base_uri": "https://localhost:8080/",
          "height": 424
        },
        "id": "sH6uc_XeOxLp",
        "outputId": "1c3eeb1a-1b65-439c-cd9f-c90a923d2224"
      },
      "outputs": [
        {
          "output_type": "execute_result",
          "data": {
            "text/plain": [
              "                                                   text sp_ha\n",
              "46    From fork-admin@xent.com Wed Oct 9 10:55:12 20...     0\n",
              "47    From razor-users-admin@lists.sourceforge.net F...     0\n",
              "48    From fork-admin@xent.com Tue Jul 23 14:27:17 2...     0\n",
              "49    From leadsales400042@yahoo.com Mon Jun 24 17:0...     1\n",
              "50    From rssfeeds@jmason.org Thu Sep 26 16:34:06 2...     0\n",
              "...                                                 ...   ...\n",
              "5823  From ilug-admin@linux.ie Mon Jul 22 18:12:45 2...     0\n",
              "5824  From fork-admin@xent.com Mon Oct 7 20:37:02 20...     0\n",
              "5825  Received: from hq.pro-ns.net (localhost [127.0...     1\n",
              "5826  From razor-users-admin@lists.sourceforge.net T...     0\n",
              "5827  From rssfeeds@jmason.org Mon Sep 30 13:44:10 2...     0\n",
              "\n",
              "[5782 rows x 2 columns]"
            ],
            "text/html": [
              "\n",
              "  <div id=\"df-6b965b11-4c69-4ca2-a5fb-dcec87b0ff37\">\n",
              "    <div class=\"colab-df-container\">\n",
              "      <div>\n",
              "<style scoped>\n",
              "    .dataframe tbody tr th:only-of-type {\n",
              "        vertical-align: middle;\n",
              "    }\n",
              "\n",
              "    .dataframe tbody tr th {\n",
              "        vertical-align: top;\n",
              "    }\n",
              "\n",
              "    .dataframe thead th {\n",
              "        text-align: right;\n",
              "    }\n",
              "</style>\n",
              "<table border=\"1\" class=\"dataframe\">\n",
              "  <thead>\n",
              "    <tr style=\"text-align: right;\">\n",
              "      <th></th>\n",
              "      <th>text</th>\n",
              "      <th>sp_ha</th>\n",
              "    </tr>\n",
              "  </thead>\n",
              "  <tbody>\n",
              "    <tr>\n",
              "      <th>46</th>\n",
              "      <td>From fork-admin@xent.com Wed Oct 9 10:55:12 20...</td>\n",
              "      <td>0</td>\n",
              "    </tr>\n",
              "    <tr>\n",
              "      <th>47</th>\n",
              "      <td>From razor-users-admin@lists.sourceforge.net F...</td>\n",
              "      <td>0</td>\n",
              "    </tr>\n",
              "    <tr>\n",
              "      <th>48</th>\n",
              "      <td>From fork-admin@xent.com Tue Jul 23 14:27:17 2...</td>\n",
              "      <td>0</td>\n",
              "    </tr>\n",
              "    <tr>\n",
              "      <th>49</th>\n",
              "      <td>From leadsales400042@yahoo.com Mon Jun 24 17:0...</td>\n",
              "      <td>1</td>\n",
              "    </tr>\n",
              "    <tr>\n",
              "      <th>50</th>\n",
              "      <td>From rssfeeds@jmason.org Thu Sep 26 16:34:06 2...</td>\n",
              "      <td>0</td>\n",
              "    </tr>\n",
              "    <tr>\n",
              "      <th>...</th>\n",
              "      <td>...</td>\n",
              "      <td>...</td>\n",
              "    </tr>\n",
              "    <tr>\n",
              "      <th>5823</th>\n",
              "      <td>From ilug-admin@linux.ie Mon Jul 22 18:12:45 2...</td>\n",
              "      <td>0</td>\n",
              "    </tr>\n",
              "    <tr>\n",
              "      <th>5824</th>\n",
              "      <td>From fork-admin@xent.com Mon Oct 7 20:37:02 20...</td>\n",
              "      <td>0</td>\n",
              "    </tr>\n",
              "    <tr>\n",
              "      <th>5825</th>\n",
              "      <td>Received: from hq.pro-ns.net (localhost [127.0...</td>\n",
              "      <td>1</td>\n",
              "    </tr>\n",
              "    <tr>\n",
              "      <th>5826</th>\n",
              "      <td>From razor-users-admin@lists.sourceforge.net T...</td>\n",
              "      <td>0</td>\n",
              "    </tr>\n",
              "    <tr>\n",
              "      <th>5827</th>\n",
              "      <td>From rssfeeds@jmason.org Mon Sep 30 13:44:10 2...</td>\n",
              "      <td>0</td>\n",
              "    </tr>\n",
              "  </tbody>\n",
              "</table>\n",
              "<p>5782 rows × 2 columns</p>\n",
              "</div>\n",
              "      <button class=\"colab-df-convert\" onclick=\"convertToInteractive('df-6b965b11-4c69-4ca2-a5fb-dcec87b0ff37')\"\n",
              "              title=\"Convert this dataframe to an interactive table.\"\n",
              "              style=\"display:none;\">\n",
              "        \n",
              "  <svg xmlns=\"http://www.w3.org/2000/svg\" height=\"24px\"viewBox=\"0 0 24 24\"\n",
              "       width=\"24px\">\n",
              "    <path d=\"M0 0h24v24H0V0z\" fill=\"none\"/>\n",
              "    <path d=\"M18.56 5.44l.94 2.06.94-2.06 2.06-.94-2.06-.94-.94-2.06-.94 2.06-2.06.94zm-11 1L8.5 8.5l.94-2.06 2.06-.94-2.06-.94L8.5 2.5l-.94 2.06-2.06.94zm10 10l.94 2.06.94-2.06 2.06-.94-2.06-.94-.94-2.06-.94 2.06-2.06.94z\"/><path d=\"M17.41 7.96l-1.37-1.37c-.4-.4-.92-.59-1.43-.59-.52 0-1.04.2-1.43.59L10.3 9.45l-7.72 7.72c-.78.78-.78 2.05 0 2.83L4 21.41c.39.39.9.59 1.41.59.51 0 1.02-.2 1.41-.59l7.78-7.78 2.81-2.81c.8-.78.8-2.07 0-2.86zM5.41 20L4 18.59l7.72-7.72 1.47 1.35L5.41 20z\"/>\n",
              "  </svg>\n",
              "      </button>\n",
              "      \n",
              "  <style>\n",
              "    .colab-df-container {\n",
              "      display:flex;\n",
              "      flex-wrap:wrap;\n",
              "      gap: 12px;\n",
              "    }\n",
              "\n",
              "    .colab-df-convert {\n",
              "      background-color: #E8F0FE;\n",
              "      border: none;\n",
              "      border-radius: 50%;\n",
              "      cursor: pointer;\n",
              "      display: none;\n",
              "      fill: #1967D2;\n",
              "      height: 32px;\n",
              "      padding: 0 0 0 0;\n",
              "      width: 32px;\n",
              "    }\n",
              "\n",
              "    .colab-df-convert:hover {\n",
              "      background-color: #E2EBFA;\n",
              "      box-shadow: 0px 1px 2px rgba(60, 64, 67, 0.3), 0px 1px 3px 1px rgba(60, 64, 67, 0.15);\n",
              "      fill: #174EA6;\n",
              "    }\n",
              "\n",
              "    [theme=dark] .colab-df-convert {\n",
              "      background-color: #3B4455;\n",
              "      fill: #D2E3FC;\n",
              "    }\n",
              "\n",
              "    [theme=dark] .colab-df-convert:hover {\n",
              "      background-color: #434B5C;\n",
              "      box-shadow: 0px 1px 3px 1px rgba(0, 0, 0, 0.15);\n",
              "      filter: drop-shadow(0px 1px 2px rgba(0, 0, 0, 0.3));\n",
              "      fill: #FFFFFF;\n",
              "    }\n",
              "  </style>\n",
              "\n",
              "      <script>\n",
              "        const buttonEl =\n",
              "          document.querySelector('#df-6b965b11-4c69-4ca2-a5fb-dcec87b0ff37 button.colab-df-convert');\n",
              "        buttonEl.style.display =\n",
              "          google.colab.kernel.accessAllowed ? 'block' : 'none';\n",
              "\n",
              "        async function convertToInteractive(key) {\n",
              "          const element = document.querySelector('#df-6b965b11-4c69-4ca2-a5fb-dcec87b0ff37');\n",
              "          const dataTable =\n",
              "            await google.colab.kernel.invokeFunction('convertToInteractive',\n",
              "                                                     [key], {});\n",
              "          if (!dataTable) return;\n",
              "\n",
              "          const docLinkHtml = 'Like what you see? Visit the ' +\n",
              "            '<a target=\"_blank\" href=https://colab.research.google.com/notebooks/data_table.ipynb>data table notebook</a>'\n",
              "            + ' to learn more about interactive tables.';\n",
              "          element.innerHTML = '';\n",
              "          dataTable['output_type'] = 'display_data';\n",
              "          await google.colab.output.renderOutput(dataTable, element);\n",
              "          const docLink = document.createElement('div');\n",
              "          docLink.innerHTML = docLinkHtml;\n",
              "          element.appendChild(docLink);\n",
              "        }\n",
              "      </script>\n",
              "    </div>\n",
              "  </div>\n",
              "  "
            ]
          },
          "metadata": {},
          "execution_count": 3
        }
      ],
      "source": [
        "dframe=pd.read_csv('/content/data/spam_ham.csv' , sep=',')\n",
        "dframe[46:]"
      ]
    },
    {
      "cell_type": "markdown",
      "metadata": {
        "id": "8CGUPMpxPJil"
      },
      "source": [
        "checking the rows"
      ]
    },
    {
      "cell_type": "code",
      "execution_count": null,
      "metadata": {
        "colab": {
          "base_uri": "https://localhost:8080/"
        },
        "id": "zcnQjYpFPFnw",
        "outputId": "aca557e0-a9c1-4439-fe67-50f437753150"
      },
      "outputs": [
        {
          "output_type": "stream",
          "name": "stdout",
          "text": [
            "<class 'pandas.core.frame.DataFrame'>\n",
            "RangeIndex: 5828 entries, 0 to 5827\n",
            "Data columns (total 2 columns):\n",
            " #   Column  Non-Null Count  Dtype \n",
            "---  ------  --------------  ----- \n",
            " 0   text    5826 non-null   object\n",
            " 1   sp_ha   5825 non-null   object\n",
            "dtypes: object(2)\n",
            "memory usage: 91.2+ KB\n"
          ]
        }
      ],
      "source": [
        "dframe.info()"
      ]
    },
    {
      "cell_type": "markdown",
      "metadata": {
        "id": "UvHEOQ3LWNfe"
      },
      "source": [
        "below is the example for genuine email"
      ]
    },
    {
      "cell_type": "code",
      "execution_count": null,
      "metadata": {
        "colab": {
          "base_uri": "https://localhost:8080/",
          "height": 174
        },
        "id": "XFN1hfZWPQZ9",
        "outputId": "a54d29aa-a067-4885-9bce-eec56716787f"
      },
      "outputs": [
        {
          "output_type": "execute_result",
          "data": {
            "text/plain": [
              "'From leadsales400042@yahoo.com Mon Jun 24 17:03:55 2002 Return-Path: leadsales400042@yahoo.com Delivery-Date: Wed May 15 16:24:17 2002 Received: from MIRAFLORES.GOB.PE ([161.132.70.10]) by dogma.slashnull.org (8.11.6/8.11.6) with ESMTP id g4FFOAe12470 for <webmaster@efi.ie>; Wed, 15 May 2002 16:24:10 +0100 Message-Id: <200205151524.g4FFOAe12470@dogma.slashnull.org> Received: from yahoo.com([208.166.82.124]) by MIRAFLORES.GOB.PE (IBM OS/400 SMTP V05R01M00) with TCP; Wed, 15 May 2002 10:23:51 +0000 From: leadsales400042@yahoo.com To: webmaster@efi.ie Subject: Got Leads? Date: 15 May 2002 20:34:36 -0700 MIME-Version: 1.0 X-Keywords: Content-Type: text/html Content-Transfer-Encoding: quoted-printable <html> HEY, I AM FORWARDING YOU THE AD THEY SENT ME. I TRIED THE LEADS AND THINK WE SHOULD USE THEM FOR OUR TEAM. WHAT DO YOU THINK? THANKS, JOHN <head> <meta http-equiv=3D\"Content-Type\" content=3D\"text/html; charset=3Dwindows= -1252\"> <meta name=3D\"GENERATOR\" content=3D\"Microsoft FrontPage 4.0\"> <meta name=3D\"ProgId\" content=3D\"FrontPage.Editor.Document\"> <title>LEAD SALE EXTENDED</title> </head> <body text=3D\"#000000\"> <form method=3D\"POST\" enctype=3D\"text/plain\" action=3D\"mailto:thekey@btam= ail.net.cn?subject=3DNeed Leads\"> <p><b> YOU HAVE BEEN INVITED TO JOIN THE CO-OP</b></p> <table border=3D\"1\" width=3D\"102%\" bordercolor=3D\"#000080\" bgcolor=3D\"#= 000080\"> <tr> <td width=3D\"100%\"><b><font size=3D\"7\" color=3D\"#FFFFFF\">LEAD SALE = EXTENDED</font></b></td> </tr> </table> <table border=3D\"0\" width=3D\"100%\"> <tr> <td width=3D\"100%\"> <p align=3D\"center\"><b><font size=3D\"3\" color=3D\"#000000\">We have= recently put together a lead co-op specifically for your group.&nbsp; We have = been able to lock the price at as little as 50 cents per lead!!&nbsp; = Leads are normally $1-$3 per...</font></b></td> </tr> </table> <table border=3D\"0\" width=3D\"100%\"> <tr> <td width=3D\"16%\" bordercolor=3D\"#FFFFFF\" bgcolor=3D\"#FFFFFF\">&nbsp= ;</td> <td width=3D\"84%\"> <ul> <li> <p align=3D\"left\"><b><font size=3D\"3\" color=3D\"#000000\">So...= .</font></b></li> <li> <p align=3D\"left\"><b><font size=3D\"3\" color=3D\"#000000\">SIGN = UP TODAY....</font></b></li> <li> <p align=3D\"left\"><b><font size=3D\"3\" color=3D\"#000000\">GET O= UR LEADS....</font></b></li> <li> <p align=3D\"left\"><b><font size=3D\"3\" color=3D\"#000000\">AND G= ET TO WORK!!</font></b></li> </ul> <table border=3D\"0\" width=3D\"100%\" bordercolor=3D\"#000080\" bgcolo= r=3D\"#000080\"> <tbody> <tr> <td bgColor=3D\"#000000\" width=3D\"100%\"> <b><font color=3D\"#FF0000\" size=3D\"5\">Here is what we hav= e to offer you:</font></b> </td> </tr> </tbody> </table> <table border=3D\"0\" width=3D\"100%\"> <tbody> <tr> <td width=3D\"78%\"> <b><u>NETWORK MARKETER OR GIFTER CONTACTS</u></b> <ul> <li><b>All Leads Guaranteed To Be Network Marketers / o= r Gifters</b> <li><b>Guaranteed To Be Current, Active and Experienced= </b> <li><b>Leads, Have Either Responded To A Internet Quest= ionnaire, Or Are Already On Our Contact List, Of Current, Active Networkers, Open To Opportunity.</b> <li><b>Leads Include:&nbsp;&nbsp;&nbsp;&nbsp;[At Least]= Name, Phone, And Email</b></li> </ul> <p>&nbsp; </td> </tr> </tbody> </table> </td> </tr> </table> <p align=3D\"center\"><b>***USE US AS A TOOL TO BUILD YOUR BUSINESS!!&nbs= p; REFER AS MANY PEOPLE AS YOU CAN.&nbsp; EARN A TRUE RESIDUAL INCOME BY THE DUPLICATION OF YOUR TEAM, CAUSE REMEMBER......</b></p> <table border=3D\"0\" width=3D\"100%\"> <tr> <td width=3D\"100%\" bgcolor=3D\"#000000\" bordercolor=3D\"#000000\"> <p align=3D\"center\"><b><font color=3D\"#FF0000\">[Remember] </font>= <font color=3D\"#FFFFFF\">&nbsp; </font></b><font color=3D\"#FFFFFF\" size=3D\"3\"><b>Your System Now Includes A Proven Lead System.&nbsp; </b></font><b><font size=3D\"= 2\" color=3D\"#FFFFFF\">&nbsp;&nbsp;&nbsp; </font><font color=3D\"#FF0000\"><font size=3D\"2\">[</font>Remember]= </font></b></td> </tr> </table> <p>____________________________________________________________________= _</p> <table border=3D\"0\" width=3D\"100%\"> <tr> <td width=3D\"100%\"> <p align=3D\"center\"><b><font color=3D\"#FF0000\" size=3D\"5\">Replace= ment Policy [Our Leads Are Guaranteed]</font></b></p> <ul> <li> <p align=3D\"left\"><b>Any Unusable Lead&nbsp;&nbsp; Ie. Missin= g Info, Invalid Info, Any Just Real Negative Response Towards You On = The Phone..... <font color=3D\"#ff0000\">REPLACED</font></b></p> </li> </ul> <table border=3D\"0\" width=3D\"100%\"> <tr> <td width=3D\"100%\" bgcolor=3D\"#000000\" bordercolor=3D\"#000000= \"> <p align=3D\"center\"><b><font color=3D\"#ff0000\">Replacement = Leads Given -&nbsp; No Questions Asked.&nbsp; Just Let Us Know What You= Need And We Will Get It Handled.</font></b></td> </tr> </table> <p align=3D\"center\"><b><font color=3D\"#000000\">PLEASE COMPLETE TH= E FOLLOWING FORM&nbsp;</font></b></p> </td> </tr> </table> <table border=3D\"1\" width=3D\"100%\" bordercolor=3D\"#000000\" bgcolor=3D\"#= 000000\"> <tr> <td width=3D\"100%\"> <table border=3D\"0\" width=3D\"100%\"> <tr> <td width=3D\"20%\" align=3D\"right\"><b><font size=3D\"3\" color=3D= \"#FFFFFF\">NAME</font></b></td> <td width=3D\"20%\" align=3D\"left\"> <p align=3D\"left\"><font color=3D\"#FFFFFF\"><input type=3D\"te= xt\" name=3D\"Name\" size=3D\"20\"></font></td> <td width=3D\"20%\" align=3D\"right\"><b><font size=3D\"3\" color=3D= \"#FFFFFF\">PHONE</font></b></td> <td width=3D\"20%\"><font color=3D\"#FFFFFF\"><input type=3D\"text= \" name=3D\"Phone\" size=3D\"20\"></font></td> </tr> <tr> <td width=3D\"20%\" align=3D\"right\"><b><font size=3D\"3\" color=3D= \"#FFFFFF\">EMAIL</font></b></td> <td width=3D\"20%\" align=3D\"left\"><font color=3D\"#FFFFFF\"><inp= ut type=3D\"text\" name=3D\"Email\" size=3D\"20\"></font></td> <td width=3D\"20%\" align=3D\"right\"><b><font size=3D\"3\" color=3D= \"#FFFFFF\">TIME TO CALL</font></b></td> <td width=3D\"20%\"><font color=3D\"#FFFFFF\"><input type=3D\"text= \" name=3D\"Time2Call\" size=3D\"18\"><select size=3D\"1\" name=3D\"TimeZone\"> <option>PST</option> <option>MNT</option> <option>CST</option> <option>EST</option> <option>OTHER</option> </select></font></td> </tr> <tr> <td width=3D\"20%\" align=3D\"right\"><b><font size=3D\"3\" color=3D= \"#FFFFFF\">COMPANY YOU ARE WITH</font></b></td> <td width=3D\"60%\" align=3D\"left\" colspan=3D\"3\"><font color=3D= \"#FFFFFF\"><input type=3D\"text\" name=3D\"Company\" size=3D\"50\"></font></td> </tr> <tr> <td width=3D\"20%\" align=3D\"right\"><font color=3D\"#FFFFFF\"><in= put type=3D\"text\" name=3D\"DOWNLINE_MEMBERS\" size=3D\"13\"></font></td> <td width=3D\"60%\" align=3D\"left\" colspan=3D\"3\"><b><font color= =3D\"#FFFFFF\">HOW MANY DOWNLINE MEMBERS DO YOU HAVE THAT MAY ALSO NEED LEADS?= </font></b></td> </tr> </table> <p align=3D\"center\"><input type=3D\"submit\" value=3D\"Submit\" name=3D= \"B1\"><input type=3D\"reset\" value=3D\"Reset\" name=3D\"B2\"></p> &nbsp;</td> </tr> </table> <p align=3D\"center\">&nbsp;</p> <p align=3D\"center\">&nbsp;</p> <p align=3D\"center\">&nbsp;</p> <p align=3D\"center\">&nbsp;</p> <p align=3D\"center\">&nbsp;</p> <p align=3D\"center\">&nbsp;</p> <p align=3D\"center\">&nbsp;</p> <p align=3D\"center\"><b><font size=3D\"2\"><font color=3D\"#000000\">You hav= e received this Message because of a past Client/Service Relationship we had with you. = If this might be inaccurate, or you simply wish to be Removed from all future N= otices, then</font><font color=3D\"#FF0000\"> <a href=3D\"mailto:removes@btamail.= net.cn?subject=3DRemove\" target=3D\"_blank\">CLICK HERE</a></font></font></b></p> <table border=3D\"0\" width=3D\"100%\"> <tr> <td width=3D\"100%\" bgcolor=3D\"#000000\" bordercolor=3D\"#000000\"><fon= t size=3D\"5\">&nbsp;</font></td> </tr> </table> </form> </body> </html>'"
            ],
            "application/vnd.google.colaboratory.intrinsic+json": {
              "type": "string"
            }
          },
          "metadata": {},
          "execution_count": 5
        }
      ],
      "source": [
        "dummy=dframe['text'][49]\n",
        "dummy"
      ]
    },
    {
      "cell_type": "markdown",
      "metadata": {
        "id": "hc8Orvt8WTKh"
      },
      "source": [
        "Example for spam email"
      ]
    },
    {
      "cell_type": "code",
      "execution_count": null,
      "metadata": {
        "id": "mTaewC7eQhWz"
      },
      "outputs": [],
      "source": [
        "\n",
        "ones=dframe['text'].where(dframe['sp_ha']=='1')\n",
        "strngg=ones[1]"
      ]
    },
    {
      "cell_type": "markdown",
      "metadata": {
        "id": "9A8DF7O3WgTv"
      },
      "source": [
        "Preprocessing\n",
        "\n",
        "```\n",
        "# Dropping data with nan values\n",
        "```\n",
        "\n",
        "---\n",
        "\n",
        "\n",
        "\n",
        "---\n",
        "\n"
      ]
    },
    {
      "cell_type": "code",
      "execution_count": null,
      "metadata": {
        "colab": {
          "base_uri": "https://localhost:8080/",
          "height": 143
        },
        "id": "IremwYOjY0gA",
        "outputId": "1984bfca-45e2-4ea1-e73f-e35311a302f3"
      },
      "outputs": [
        {
          "output_type": "execute_result",
          "data": {
            "text/plain": [
              "                                                   text sp_ha\n",
              "3872  From regal3@freeuk.com Fri Jul 26 03:51:44 200...   NaN\n",
              "3873                                                NaN   NaN\n",
              "3874                                                NaN   NaN"
            ],
            "text/html": [
              "\n",
              "  <div id=\"df-7211953a-9eab-4f3f-9a83-88860655cc9c\">\n",
              "    <div class=\"colab-df-container\">\n",
              "      <div>\n",
              "<style scoped>\n",
              "    .dataframe tbody tr th:only-of-type {\n",
              "        vertical-align: middle;\n",
              "    }\n",
              "\n",
              "    .dataframe tbody tr th {\n",
              "        vertical-align: top;\n",
              "    }\n",
              "\n",
              "    .dataframe thead th {\n",
              "        text-align: right;\n",
              "    }\n",
              "</style>\n",
              "<table border=\"1\" class=\"dataframe\">\n",
              "  <thead>\n",
              "    <tr style=\"text-align: right;\">\n",
              "      <th></th>\n",
              "      <th>text</th>\n",
              "      <th>sp_ha</th>\n",
              "    </tr>\n",
              "  </thead>\n",
              "  <tbody>\n",
              "    <tr>\n",
              "      <th>3872</th>\n",
              "      <td>From regal3@freeuk.com Fri Jul 26 03:51:44 200...</td>\n",
              "      <td>NaN</td>\n",
              "    </tr>\n",
              "    <tr>\n",
              "      <th>3873</th>\n",
              "      <td>NaN</td>\n",
              "      <td>NaN</td>\n",
              "    </tr>\n",
              "    <tr>\n",
              "      <th>3874</th>\n",
              "      <td>NaN</td>\n",
              "      <td>NaN</td>\n",
              "    </tr>\n",
              "  </tbody>\n",
              "</table>\n",
              "</div>\n",
              "      <button class=\"colab-df-convert\" onclick=\"convertToInteractive('df-7211953a-9eab-4f3f-9a83-88860655cc9c')\"\n",
              "              title=\"Convert this dataframe to an interactive table.\"\n",
              "              style=\"display:none;\">\n",
              "        \n",
              "  <svg xmlns=\"http://www.w3.org/2000/svg\" height=\"24px\"viewBox=\"0 0 24 24\"\n",
              "       width=\"24px\">\n",
              "    <path d=\"M0 0h24v24H0V0z\" fill=\"none\"/>\n",
              "    <path d=\"M18.56 5.44l.94 2.06.94-2.06 2.06-.94-2.06-.94-.94-2.06-.94 2.06-2.06.94zm-11 1L8.5 8.5l.94-2.06 2.06-.94-2.06-.94L8.5 2.5l-.94 2.06-2.06.94zm10 10l.94 2.06.94-2.06 2.06-.94-2.06-.94-.94-2.06-.94 2.06-2.06.94z\"/><path d=\"M17.41 7.96l-1.37-1.37c-.4-.4-.92-.59-1.43-.59-.52 0-1.04.2-1.43.59L10.3 9.45l-7.72 7.72c-.78.78-.78 2.05 0 2.83L4 21.41c.39.39.9.59 1.41.59.51 0 1.02-.2 1.41-.59l7.78-7.78 2.81-2.81c.8-.78.8-2.07 0-2.86zM5.41 20L4 18.59l7.72-7.72 1.47 1.35L5.41 20z\"/>\n",
              "  </svg>\n",
              "      </button>\n",
              "      \n",
              "  <style>\n",
              "    .colab-df-container {\n",
              "      display:flex;\n",
              "      flex-wrap:wrap;\n",
              "      gap: 12px;\n",
              "    }\n",
              "\n",
              "    .colab-df-convert {\n",
              "      background-color: #E8F0FE;\n",
              "      border: none;\n",
              "      border-radius: 50%;\n",
              "      cursor: pointer;\n",
              "      display: none;\n",
              "      fill: #1967D2;\n",
              "      height: 32px;\n",
              "      padding: 0 0 0 0;\n",
              "      width: 32px;\n",
              "    }\n",
              "\n",
              "    .colab-df-convert:hover {\n",
              "      background-color: #E2EBFA;\n",
              "      box-shadow: 0px 1px 2px rgba(60, 64, 67, 0.3), 0px 1px 3px 1px rgba(60, 64, 67, 0.15);\n",
              "      fill: #174EA6;\n",
              "    }\n",
              "\n",
              "    [theme=dark] .colab-df-convert {\n",
              "      background-color: #3B4455;\n",
              "      fill: #D2E3FC;\n",
              "    }\n",
              "\n",
              "    [theme=dark] .colab-df-convert:hover {\n",
              "      background-color: #434B5C;\n",
              "      box-shadow: 0px 1px 3px 1px rgba(0, 0, 0, 0.15);\n",
              "      filter: drop-shadow(0px 1px 2px rgba(0, 0, 0, 0.3));\n",
              "      fill: #FFFFFF;\n",
              "    }\n",
              "  </style>\n",
              "\n",
              "      <script>\n",
              "        const buttonEl =\n",
              "          document.querySelector('#df-7211953a-9eab-4f3f-9a83-88860655cc9c button.colab-df-convert');\n",
              "        buttonEl.style.display =\n",
              "          google.colab.kernel.accessAllowed ? 'block' : 'none';\n",
              "\n",
              "        async function convertToInteractive(key) {\n",
              "          const element = document.querySelector('#df-7211953a-9eab-4f3f-9a83-88860655cc9c');\n",
              "          const dataTable =\n",
              "            await google.colab.kernel.invokeFunction('convertToInteractive',\n",
              "                                                     [key], {});\n",
              "          if (!dataTable) return;\n",
              "\n",
              "          const docLinkHtml = 'Like what you see? Visit the ' +\n",
              "            '<a target=\"_blank\" href=https://colab.research.google.com/notebooks/data_table.ipynb>data table notebook</a>'\n",
              "            + ' to learn more about interactive tables.';\n",
              "          element.innerHTML = '';\n",
              "          dataTable['output_type'] = 'display_data';\n",
              "          await google.colab.output.renderOutput(dataTable, element);\n",
              "          const docLink = document.createElement('div');\n",
              "          docLink.innerHTML = docLinkHtml;\n",
              "          element.appendChild(docLink);\n",
              "        }\n",
              "      </script>\n",
              "    </div>\n",
              "  </div>\n",
              "  "
            ]
          },
          "metadata": {},
          "execution_count": 7
        }
      ],
      "source": [
        "dframe[dframe['sp_ha'].isna()]"
      ]
    },
    {
      "cell_type": "code",
      "execution_count": null,
      "metadata": {
        "id": "EWb9FbVNY52w"
      },
      "outputs": [],
      "source": [
        "dframe=dframe.dropna()"
      ]
    },
    {
      "cell_type": "code",
      "execution_count": null,
      "metadata": {
        "colab": {
          "base_uri": "https://localhost:8080/"
        },
        "id": "in_wgtw6XRYN",
        "outputId": "5f69e0fb-f785-4289-fc9e-e384f22c6f7e"
      },
      "outputs": [
        {
          "output_type": "execute_result",
          "data": {
            "text/plain": [
              "0                                                                                                                                                                                                                                                                                                                                                                                                                                                                                                                                            3911\n",
              "1                                                                                                                                                                                                                                                                                                                                                                                                                                                                                                                                            1912\n",
              " WebCrawler                                                                                                                                                                                                                                                                                                                                                                                                                                                                                                                                     1\n",
              " which will make unison use whatever version of ssh is installed as the default 'ssh' command.) + The situation when the permissions of a file was updated the same on both side is now handled correctly (we used to report a spurious conflict) * Improvements for the Windows version: + The fact that filenames are treated case-insensitively under Windows should now be handled correctly. The exact behavior is described in the cross-platform section of the manual. + It should be possible to synchronize with Windows shares       1\n",
              "Name: sp_ha, dtype: int64"
            ]
          },
          "metadata": {},
          "execution_count": 9
        }
      ],
      "source": [
        "dframe['sp_ha'].value_counts()"
      ]
    },
    {
      "cell_type": "markdown",
      "metadata": {
        "id": "yE7xV8eFlIf0"
      },
      "source": [
        "Removing values other than 0 or 1"
      ]
    },
    {
      "cell_type": "code",
      "execution_count": null,
      "metadata": {
        "colab": {
          "base_uri": "https://localhost:8080/"
        },
        "id": "LFg_5Y5vc90z",
        "outputId": "b346aca9-3df0-49be-fa20-3b627631ad47"
      },
      "outputs": [
        {
          "output_type": "execute_result",
          "data": {
            "text/plain": [
              "0    3911\n",
              "1    1912\n",
              "Name: sp_ha, dtype: int64"
            ]
          },
          "metadata": {},
          "execution_count": 10
        }
      ],
      "source": [
        "dframe1=dframe[(dframe.sp_ha.isin(['0','1']))]\n",
        "dframe1.sp_ha.value_counts()"
      ]
    },
    {
      "cell_type": "markdown",
      "metadata": {
        "id": "Tnmr-JtMAdH-"
      },
      "source": [
        "Drop duplicate"
      ]
    },
    {
      "cell_type": "code",
      "execution_count": null,
      "metadata": {
        "colab": {
          "base_uri": "https://localhost:8080/"
        },
        "id": "ZtEoEuS7Ae83",
        "outputId": "f269476b-621b-4781-ec70-098609e09b24"
      },
      "outputs": [
        {
          "output_type": "stream",
          "name": "stderr",
          "text": [
            "<ipython-input-11-a39617d064bc>:1: SettingWithCopyWarning: \n",
            "A value is trying to be set on a copy of a slice from a DataFrame\n",
            "\n",
            "See the caveats in the documentation: https://pandas.pydata.org/pandas-docs/stable/user_guide/indexing.html#returning-a-view-versus-a-copy\n",
            "  dframe1.drop_duplicates(inplace=True)\n"
          ]
        }
      ],
      "source": [
        "dframe1.drop_duplicates(inplace=True)"
      ]
    },
    {
      "cell_type": "markdown",
      "metadata": {
        "id": "6tqw0c3mEbLp"
      },
      "source": [
        "Refining text"
      ]
    },
    {
      "cell_type": "code",
      "execution_count": null,
      "metadata": {
        "id": "wzZrrhyjvPpM"
      },
      "outputs": [],
      "source": [
        "from bs4 import BeautifulSoup\n",
        "def format(string):\n",
        "  soup = BeautifulSoup(string, features=\"html.parser\")\n",
        "# kill all script and style elements\n",
        "  for script in soup([\"script\", \"style\"]):\n",
        "    script.extract()\n",
        "  text=soup.get_text()\n",
        "  my_new_string_1=re.sub(r'^.*?Subject', '', text)\n",
        "  my_new_string_2=re.sub(r'[A-Za-z0-9]*@[A-Za-z]*\\.?[A-Za-z0-9]*', \"\", my_new_string_1)\n",
        "  my_new_string_3 = re.sub('[^a-zA-Z0-9 \\n\\.]', '', my_new_string_2)\n",
        "  my_new_string_4=''.join(my_new_string_3.split('.'))\n",
        "  my_new_string_5=\" \".join(my_new_string_4.split())\n",
        "  my_new_string_6=re.sub(r'[A-Za-z0-9]*@[A-Za-z]*\\.?[A-Za-z0-9]*', \"\", my_new_string_5)\n",
        "  my_new_string_7 = re.sub('http[^\\s]+','',my_new_string_6)\n",
        "  # my_new_string_5 = my_new_string_4.rsplit('printable', 1)[1]\n",
        "  output_string=my_new_string_7.lower()\n",
        "  return output_string"
      ]
    },
    {
      "cell_type": "code",
      "execution_count": null,
      "metadata": {
        "colab": {
          "base_uri": "https://localhost:8080/",
          "height": 174
        },
        "id": "ruLKxiXm0n6Y",
        "outputId": "2b61126b-b272-41df-e128-30f8a86e2da0"
      },
      "outputs": [
        {
          "output_type": "execute_result",
          "data": {
            "text/plain": [
              "'got leads date 15 may 2002 203436 0700 mimeversion 10 xkeywords contenttype texthtml contenttransferencoding quotedprintable hey i am forwarding you the ad they sent me i tried the leads and think we should use them for our team what do you think thanks john lead sale extended you have been invited to join the coop lead sale extended we have recently put together a lead coop specifically for your group we have been able to lock the price at as little as 50 cents per lead leads are normally 13 per so sign up today get o ur leads and g et to work here is what we hav e to offer you network marketer or gifter contacts all leads guaranteed to be network marketers o r gifters guaranteed to be current active and experienced leads have either responded to a internet quest ionnaire or are already on our contact list of current active networkers open to opportunity leads includeat least name phone and email use us as a tool to build your businessnbs p refer as many people as you can earn a true residual income by the duplication of your team cause remember remember your system now includes a proven lead system remember replace ment policy our leads are guaranteed any unusable lead ie missin g info invalid info any just real negative response towards you on the phone replaced replacement leads given no questions asked just let us know what you need and we will get it handled please complete th e following form name phone email time to call pst mnt cst est other company you are with how many downline members do you have that may also need leads you hav e received this message because of a past clientservice relationship we had with you if this might be inaccurate or you simply wish to be removed from all future n otices then click here'"
            ],
            "application/vnd.google.colaboratory.intrinsic+json": {
              "type": "string"
            }
          },
          "metadata": {},
          "execution_count": 13
        }
      ],
      "source": [
        "r = format(dummy)\n",
        "r"
      ]
    },
    {
      "cell_type": "code",
      "execution_count": null,
      "metadata": {
        "id": "62IrDK6f212k"
      },
      "outputs": [],
      "source": [
        "df2 = dframe1['text'].apply(format)\n",
        "# dummy=dframe['text'][52]\n",
        "# dummy"
      ]
    },
    {
      "cell_type": "code",
      "execution_count": null,
      "metadata": {
        "colab": {
          "base_uri": "https://localhost:8080/",
          "height": 174
        },
        "id": "bipiEjQi8-pv",
        "outputId": "0e93bc06-b8ba-4b7e-c721-40d9269b7e77"
      },
      "outputs": [
        {
          "output_type": "execute_result",
          "data": {
            "text/plain": [
              "'world wide words 20 jul 02 to org world wide words issue 296 saturday 20 july 2002 sent each saturday to 15000 subscribers in at least 119 countries editor michael quinion thornbury bristol uk issn 14701448 if you respond to this mailing remember to change the outgoing address to one of those in the contact addresses section contents 1 turns of phrase beanpole family 2 weird words jobbernowl 3 beyond words 4 qa chip off the old block bells and whistles mortarboard 5 endnote 6 subscription commands 7 contact addresses 1 turns of phrase beanpole family historically families have usually had more children than parents resulting in family trees that looked like pyramids however in recent years especially in countries like britain and the us the number of children per generation has steadily gone down while life span has increased this has led to a shape of family tree that some researchers have likened to a beanpole tall and thin with few people in each generation the term beanpole family has been around in the academic literature at least since 1987 but it rarely appears elsewhere a recent british report has brought it to wider public notice at least in the uk some researchers find it too slangy and prefer the jargon term verticalised to describe such families whatever term you prefer specialists are sure that the demographic shift is having a big effect on personal relationships within the family and for example the role of grandparents the rising divorce rate partly explains the growth of the beanpole family with almost one in two marriages ending in divorce many adults have at least two families each with a single child observer may 2002 noting the rising number of socalled beanpole families in britain families with only one child the report warns that a child without siblings is starved of the companionship of family members of their own age leading to greater social isolation with teenagers adopting a more selfish attitude to life guardian june 2002 2 weird words jobbernowl a stupid person a blockhead unfortunately this useful and effective insult has rather dropped out of use in these mealymouthed times the last excursion for it that i can find is in the classic w c fields film the bank dick of 1940 in which the word occurs in a variant form in the line surely dont be a luddieduddie dont be a mooncalf dont be a jabbernow youre not those are you before that it turns up in one of the novels of hall caine in 1890 but even by then it seems to have been rather rare its from the old french jobard from jobe silly that word was then added to noll the top or crown of the head the noddle the first sense was of a blocklike or stupidlooking head but was soon extended to refer to the quality of the mind within jobbernowlism is the condition or state of being a jobbernowl or an act or remark that is especially stupid careful how you use it the recipient might be a subscriber 3 beyond words ive been away at a heritage conference in colchester these past few days on my way back my eye was caught by this warning sign posted above some steps at the local railway station caution do not run on the stairs use the hand rail 4 qa q for my job i have to read american magazines concerning consumer electronics home systems burglar alarms etc i very often come across the expression bells and whistles which seem to relate to equipment accessories or features that are offered to the customer as plusses but are not really indispensable for the device to work is that right and where does that funny phrase come from herve castelain france q youre right about the meaning of this phrase which refers to gimmicks nonessential but often engaging features added to a piece of technical equipment or a computer program to make it seem more superficially attractive without enhancing its main function the phrase is actually quite modern and may be a product of the american military at least one of its earliest appearances was in an article in atlantic in october 1982 which said it was pentagon slang for extravagant frills theres some evidence that the term has actually been around since the 1960s but the early evidence is sparse where it comes from is still a matter of learned debate a literal sense of the phrase appeared around the middle of the nineteenth century referring to streetcars railways and steamships before modern electronics there were really only two ways to make a loud warning noise you either rang a bell or tooted a whistle steam made the latter a real power in the land anybody who has heard the noisy outoftune calliope on the steamboat natchez at new orleans will agree about its power though less so about its glory and at one time clang clang clang went the trolley in large numbers of american cities at least some early us railroad locomotives had both bells and whistles as this extract from an article in appletons journal of 1876 shows you look up at an angle of sixty degrees and see sweeping along the edge of a precipice twothirds up the rocky height a train of redandyellow railwaycars drawn by two woodburning engines the sound of whose bells and whistles seems like the small diversions of very little children so diminished are they by the distance could it be that to have both bells and whistles was thought excessive a case of belt and braces an unnecessary feature a frill possibly but its more probable the slang sense of the term comes from that close musical relative of the calliope the theatre organ extraordinary instruments such as the mighty wurlitzer augmented their basic repertoire by all sorts of sound effects to help the organist accompany silent films among them car horns sirens and bird whistles these effects were called toys and organs often had toy counters with 20 or more noisemakers on them including various bells and whistles in the 1950s decades after the talkies came in but while theatre organs were still common in big movie houses these fun features must have been considered no longer essential to the function of the organ but mere fripperies inessential addons its possible the slang sense grew out of that it got taken up especially by the computing industry perhaps because opportunities to add them are so great q the designation of robes for academic dress clearly comes from its origin with the clergy in the middle ages but what about mortarboards the best i could find was its origin in the 12th or 13th century clergy cap but that was not squareshaped does mortarboard refer to the guilds or is its origin more ancient a the academic cap often called a mortarboard is quite ancient but that word for it only dates from the middle of the nineteenth century a less slangy way to identify it is to call it a square the literal mortar board is the wooden plate usually with a handle underneath on which bricklayers carry small amounts of mortar a similar tool is used by plasterers but they usually call it a hawk what seems to have happened is that the similarity in shape between the brickies board and the academic cap led some wag probably at oxford university to apply the name of the one to the other our first recorded use is in a book of 18536 the adventures of mr verdant green an oxford freshman by a clergyman named edward bradley who wrote under the pen name of cuthbert bede the names of the two patron saints of durham where he went to school verdant green is a sort of undergraduate pickwick and the book recounts his adventures this magisterial reprimand by a don appears after one such escapade i will overlook your offence in assuming that portion of the academical attire to which you gave the offensive epithet of mortarboard more especially as you acted at the suggestion and bidding of those who ought to have known better after a slow start the book became a huge success selling more than 200000 copies in the next 20 years whether mr bradley invented the slang term we may never know but his book certainly popularised it q i got into a discussion about chip off the old block with friends and we are wondering if it had to do with sculpting jewelry making woodworking or none of the above what does this term mean and where did it come from vijay renganathan a the associations are with carpentry and the block is definitely made of wood the first form of the expression was chip of the same block meaning that a person or thing was made of the same stuff as somebody or something else so from the same source or parentage an early example is in a sermon by dr robert sanderson at one time bishop of lincoln dated 1637 am not i a child of the same adam a chip of the same block with him later that century another form is recorded a chip of the old block which meant that somebody was the spitting image of his father or continued some family characteristic at some point probably late in the nineteenth century this was modified to a chip off the old block which does nothing to change the sense but is the way its now usually written or said 5 endnote the sum of human wisdom is not contained in any one language and no single language is capable of expressing all forms and degrees of human comprehension ezra pound quoted by david crystal in the guardian 25 october 1999 6 subscription commands to leave the list change your subscription address or subscribe please visit or you can send a message to from the address at which you are or want to be subscribed to leave send signoff worldwidewords to join send subscribe worldwidewords firstname lastname 7 contact addresses do not use the address that comes up when you hit reply on this mailing or your message will be sent to an electronic deadletter office either create a new message or change the outgoing to address to one of these for general comments for qa section questions world wide words is copyright c michael quinion 2002 all rights reserved the words web site is at you may reproduce this newsletter in whole or in part in other free media online provided that you include this note and the copyright notice above reproduction in print media or on web pages requires prior permission contact'"
            ],
            "application/vnd.google.colaboratory.intrinsic+json": {
              "type": "string"
            }
          },
          "metadata": {},
          "execution_count": 15
        }
      ],
      "source": [
        "df2[901]"
      ]
    },
    {
      "cell_type": "markdown",
      "metadata": {
        "id": "4IrhDHJ7zkso"
      },
      "source": [
        "Removing Stopwords"
      ]
    },
    {
      "cell_type": "code",
      "execution_count": null,
      "metadata": {
        "colab": {
          "base_uri": "https://localhost:8080/"
        },
        "id": "I8D7OnzPznXV",
        "outputId": "06a3a497-552c-4278-f80d-cf1e1bb7cd8c"
      },
      "outputs": [
        {
          "output_type": "stream",
          "name": "stderr",
          "text": [
            "[nltk_data] Downloading package stopwords to /root/nltk_data...\n",
            "[nltk_data]   Unzipping corpora/stopwords.zip.\n"
          ]
        },
        {
          "output_type": "execute_result",
          "data": {
            "text/plain": [
              "True"
            ]
          },
          "metadata": {},
          "execution_count": 16
        }
      ],
      "source": [
        "nltk.download('stopwords')"
      ]
    },
    {
      "cell_type": "code",
      "execution_count": null,
      "metadata": {
        "id": "1NM8avqIzx7E"
      },
      "outputs": [],
      "source": [
        "from nltk.corpus import stopwords\n",
        "from nltk.tokenize import word_tokenize\n",
        "stop_words = set(stopwords.words('english'))\n",
        "\", \".join(stopwords.words('english'))\n",
        "def remove_stopwords(text):\n",
        "    return \" \".join([word for word in text.split() if word not in stop_words])"
      ]
    },
    {
      "cell_type": "code",
      "execution_count": null,
      "metadata": {
        "colab": {
          "base_uri": "https://localhost:8080/"
        },
        "id": "VEYi0qLa3vP4",
        "outputId": "b84c8ea0-ac1a-44e8-fc9e-f8e45517282e"
      },
      "outputs": [
        {
          "output_type": "execute_result",
          "data": {
            "text/plain": [
              "0       re ilug architecture crossover trouble w rh72 ...\n",
              "1       cash in on your home equity date tue 04 jun 20...\n",
              "2       are your mortgage rates the best they can be 0...\n",
              "3       online approval for 5000 now mimeversion 10 xk...\n",
              "4       re ilug expanding a string multiple times mess...\n",
              "                              ...                        \n",
              "5823    re ilug nmap results date mon 22 jul 2002 1518...\n",
              "5824    re the absurdities of life inreplyto 328339468...\n",
              "5825    real drugsviagra and phentrimine date sun 21 j...\n",
              "5826    razorusers no positive razor hits sender razor...\n",
              "5827    are you being freeserved date mon 30 sep 2002 ...\n",
              "Name: text, Length: 5320, dtype: object"
            ]
          },
          "metadata": {},
          "execution_count": 18
        }
      ],
      "source": [
        "df2"
      ]
    },
    {
      "cell_type": "code",
      "execution_count": null,
      "metadata": {
        "id": "dN7O9MPp0OU8"
      },
      "outputs": [],
      "source": [
        "df2 = df2.apply(lambda x: remove_stopwords(x))"
      ]
    },
    {
      "cell_type": "code",
      "execution_count": null,
      "metadata": {
        "colab": {
          "base_uri": "https://localhost:8080/",
          "height": 174
        },
        "id": "IvA4HBpT34r2",
        "outputId": "99443bb5-10f7-4933-eb26-4cf6b9cd2f59"
      },
      "outputs": [
        {
          "output_type": "execute_result",
          "data": {
            "text/plain": [
              "'world wide words 20 jul 02 org world wide words issue 296 saturday 20 july 2002 sent saturday 15000 subscribers least 119 countries editor michael quinion thornbury bristol uk issn 14701448 respond mailing remember change outgoing address one contact addresses section contents 1 turns phrase beanpole family 2 weird words jobbernowl 3 beyond words 4 qa chip old block bells whistles mortarboard 5 endnote 6 subscription commands 7 contact addresses 1 turns phrase beanpole family historically families usually children parents resulting family trees looked like pyramids however recent years especially countries like britain us number children per generation steadily gone life span increased led shape family tree researchers likened beanpole tall thin people generation term beanpole family around academic literature least since 1987 rarely appears elsewhere recent british report brought wider public notice least uk researchers find slangy prefer jargon term verticalised describe families whatever term prefer specialists sure demographic shift big effect personal relationships within family example role grandparents rising divorce rate partly explains growth beanpole family almost one two marriages ending divorce many adults least two families single child observer may 2002 noting rising number socalled beanpole families britain families one child report warns child without siblings starved companionship family members age leading greater social isolation teenagers adopting selfish attitude life guardian june 2002 2 weird words jobbernowl stupid person blockhead unfortunately useful effective insult rather dropped use mealymouthed times last excursion find classic w c fields film bank dick 1940 word occurs variant form line surely dont luddieduddie dont mooncalf dont jabbernow youre turns one novels hall caine 1890 even seems rather rare old french jobard jobe silly word added noll top crown head noddle first sense blocklike stupidlooking head soon extended refer quality mind within jobbernowlism condition state jobbernowl act remark especially stupid careful use recipient might subscriber 3 beyond words ive away heritage conference colchester past days way back eye caught warning sign posted steps local railway station caution run stairs use hand rail 4 qa q job read american magazines concerning consumer electronics home systems burglar alarms etc often come across expression bells whistles seem relate equipment accessories features offered customer plusses really indispensable device work right funny phrase come herve castelain france q youre right meaning phrase refers gimmicks nonessential often engaging features added piece technical equipment computer program make seem superficially attractive without enhancing main function phrase actually quite modern may product american military least one earliest appearances article atlantic october 1982 said pentagon slang extravagant frills theres evidence term actually around since 1960s early evidence sparse comes still matter learned debate literal sense phrase appeared around middle nineteenth century referring streetcars railways steamships modern electronics really two ways make loud warning noise either rang bell tooted whistle steam made latter real power land anybody heard noisy outoftune calliope steamboat natchez new orleans agree power though less glory one time clang clang clang went trolley large numbers american cities least early us railroad locomotives bells whistles extract article appletons journal 1876 shows look angle sixty degrees see sweeping along edge precipice twothirds rocky height train redandyellow railwaycars drawn two woodburning engines sound whose bells whistles seems like small diversions little children diminished distance could bells whistles thought excessive case belt braces unnecessary feature frill possibly probable slang sense term comes close musical relative calliope theatre organ extraordinary instruments mighty wurlitzer augmented basic repertoire sorts sound effects help organist accompany silent films among car horns sirens bird whistles effects called toys organs often toy counters 20 noisemakers including various bells whistles 1950s decades talkies came theatre organs still common big movie houses fun features must considered longer essential function organ mere fripperies inessential addons possible slang sense grew got taken especially computing industry perhaps opportunities add great q designation robes academic dress clearly comes origin clergy middle ages mortarboards best could find origin 12th 13th century clergy cap squareshaped mortarboard refer guilds origin ancient academic cap often called mortarboard quite ancient word dates middle nineteenth century less slangy way identify call square literal mortar board wooden plate usually handle underneath bricklayers carry small amounts mortar similar tool used plasterers usually call hawk seems happened similarity shape brickies board academic cap led wag probably oxford university apply name one first recorded use book 18536 adventures mr verdant green oxford freshman clergyman named edward bradley wrote pen name cuthbert bede names two patron saints durham went school verdant green sort undergraduate pickwick book recounts adventures magisterial reprimand appears one escapade overlook offence assuming portion academical attire gave offensive epithet mortarboard especially acted suggestion bidding ought known better slow start book became huge success selling 200000 copies next 20 years whether mr bradley invented slang term may never know book certainly popularised q got discussion chip old block friends wondering sculpting jewelry making woodworking none term mean come vijay renganathan associations carpentry block definitely made wood first form expression chip block meaning person thing made stuff somebody something else source parentage early example sermon dr robert sanderson one time bishop lincoln dated 1637 child adam chip block later century another form recorded chip old block meant somebody spitting image father continued family characteristic point probably late nineteenth century modified chip old block nothing change sense way usually written said 5 endnote sum human wisdom contained one language single language capable expressing forms degrees human comprehension ezra pound quoted david crystal guardian 25 october 1999 6 subscription commands leave list change subscription address subscribe please visit send message address want subscribed leave send signoff worldwidewords join send subscribe worldwidewords firstname lastname 7 contact addresses use address comes hit reply mailing message sent electronic deadletter office either create new message change outgoing address one general comments qa section questions world wide words copyright c michael quinion 2002 rights reserved words web site may reproduce newsletter whole part free media online provided include note copyright notice reproduction print media web pages requires prior permission contact'"
            ],
            "application/vnd.google.colaboratory.intrinsic+json": {
              "type": "string"
            }
          },
          "metadata": {},
          "execution_count": 20
        }
      ],
      "source": [
        "df2[901]"
      ]
    },
    {
      "cell_type": "code",
      "source": [
        "data = pd.concat([df2, dframe1['sp_ha']], axis=1)\n",
        "data.info()"
      ],
      "metadata": {
        "colab": {
          "base_uri": "https://localhost:8080/"
        },
        "id": "TV-P2TK3RpAW",
        "outputId": "c3268a03-82c6-4379-867a-169db7a8667c"
      },
      "execution_count": null,
      "outputs": [
        {
          "output_type": "stream",
          "name": "stdout",
          "text": [
            "<class 'pandas.core.frame.DataFrame'>\n",
            "Int64Index: 5320 entries, 0 to 5827\n",
            "Data columns (total 2 columns):\n",
            " #   Column  Non-Null Count  Dtype \n",
            "---  ------  --------------  ----- \n",
            " 0   text    5320 non-null   object\n",
            " 1   sp_ha   5320 non-null   object\n",
            "dtypes: object(2)\n",
            "memory usage: 253.7+ KB\n"
          ]
        }
      ]
    },
    {
      "cell_type": "code",
      "source": [
        "\n",
        "data['sp_ha'] = data['sp_ha'].astype(str).astype(int)"
      ],
      "metadata": {
        "id": "jrc4RiEQfuDq"
      },
      "execution_count": null,
      "outputs": []
    },
    {
      "cell_type": "code",
      "source": [
        "data.info()"
      ],
      "metadata": {
        "colab": {
          "base_uri": "https://localhost:8080/"
        },
        "id": "ye4HZf0of4Ou",
        "outputId": "762588c9-6722-42e5-f761-999aeb8b857e"
      },
      "execution_count": null,
      "outputs": [
        {
          "output_type": "stream",
          "name": "stdout",
          "text": [
            "<class 'pandas.core.frame.DataFrame'>\n",
            "Int64Index: 5320 entries, 0 to 5827\n",
            "Data columns (total 2 columns):\n",
            " #   Column  Non-Null Count  Dtype \n",
            "---  ------  --------------  ----- \n",
            " 0   text    5320 non-null   object\n",
            " 1   sp_ha   5320 non-null   int64 \n",
            "dtypes: int64(1), object(1)\n",
            "memory usage: 253.7+ KB\n"
          ]
        }
      ]
    },
    {
      "cell_type": "code",
      "source": [
        "data['text'] = data['text'].astype('str')"
      ],
      "metadata": {
        "id": "eaP6_esEXhiy"
      },
      "execution_count": null,
      "outputs": []
    },
    {
      "cell_type": "code",
      "source": [
        "data.info()"
      ],
      "metadata": {
        "colab": {
          "base_uri": "https://localhost:8080/"
        },
        "id": "WyeOfDnuX-qB",
        "outputId": "323a06a3-d6f7-4bf5-d3de-c720923111c6"
      },
      "execution_count": null,
      "outputs": [
        {
          "output_type": "stream",
          "name": "stdout",
          "text": [
            "<class 'pandas.core.frame.DataFrame'>\n",
            "Int64Index: 5320 entries, 0 to 5827\n",
            "Data columns (total 2 columns):\n",
            " #   Column  Non-Null Count  Dtype \n",
            "---  ------  --------------  ----- \n",
            " 0   text    5320 non-null   object\n",
            " 1   sp_ha   5320 non-null   int64 \n",
            "dtypes: int64(1), object(1)\n",
            "memory usage: 253.7+ KB\n"
          ]
        }
      ]
    },
    {
      "cell_type": "markdown",
      "source": [
        "Train test split"
      ],
      "metadata": {
        "id": "RODFFAYXRdz7"
      }
    },
    {
      "cell_type": "code",
      "source": [
        "from sklearn.model_selection import train_test_split\n",
        "X_train, X_test, y_train, y_test = train_test_split(data['text'], data['sp_ha'], train_size=0.7, shuffle=True, random_state=1)"
      ],
      "metadata": {
        "id": "uTftXupNRdJu"
      },
      "execution_count": null,
      "outputs": []
    },
    {
      "cell_type": "markdown",
      "source": [
        "shape"
      ],
      "metadata": {
        "id": "PYwrVcnkSKop"
      }
    },
    {
      "cell_type": "code",
      "source": [
        "X_train.shape"
      ],
      "metadata": {
        "colab": {
          "base_uri": "https://localhost:8080/"
        },
        "id": "l3GHnvarSL_y",
        "outputId": "79f5c57d-9c7f-4fa7-b222-a06ea6209579"
      },
      "execution_count": null,
      "outputs": [
        {
          "output_type": "execute_result",
          "data": {
            "text/plain": [
              "(3723,)"
            ]
          },
          "metadata": {},
          "execution_count": 27
        }
      ]
    },
    {
      "cell_type": "code",
      "source": [
        "y_train.shape"
      ],
      "metadata": {
        "colab": {
          "base_uri": "https://localhost:8080/"
        },
        "id": "7PKJRGgPSOu7",
        "outputId": "74c7edc5-0cb4-4f1a-d9f8-88242274789a"
      },
      "execution_count": null,
      "outputs": [
        {
          "output_type": "execute_result",
          "data": {
            "text/plain": [
              "(3723,)"
            ]
          },
          "metadata": {},
          "execution_count": 28
        }
      ]
    },
    {
      "cell_type": "code",
      "source": [
        "X_test.shape"
      ],
      "metadata": {
        "colab": {
          "base_uri": "https://localhost:8080/"
        },
        "id": "MLHbna75STN7",
        "outputId": "e6a60b61-e774-46f7-da3d-5c05cd02c1c5"
      },
      "execution_count": null,
      "outputs": [
        {
          "output_type": "execute_result",
          "data": {
            "text/plain": [
              "(1597,)"
            ]
          },
          "metadata": {},
          "execution_count": 29
        }
      ]
    },
    {
      "cell_type": "code",
      "source": [
        "y_test.shape"
      ],
      "metadata": {
        "colab": {
          "base_uri": "https://localhost:8080/"
        },
        "id": "y4GRcojhSWeF",
        "outputId": "b7e65fc7-d3fb-4143-f7ad-06207215ec1f"
      },
      "execution_count": null,
      "outputs": [
        {
          "output_type": "execute_result",
          "data": {
            "text/plain": [
              "(1597,)"
            ]
          },
          "metadata": {},
          "execution_count": 30
        }
      ]
    },
    {
      "cell_type": "code",
      "source": [
        "y_train.value_counts()"
      ],
      "metadata": {
        "colab": {
          "base_uri": "https://localhost:8080/"
        },
        "id": "MFtCF1UnSfuA",
        "outputId": "c14e2518-85ec-414e-c593-de68c735f784"
      },
      "execution_count": null,
      "outputs": [
        {
          "output_type": "execute_result",
          "data": {
            "text/plain": [
              "0    2537\n",
              "1    1186\n",
              "Name: sp_ha, dtype: int64"
            ]
          },
          "metadata": {},
          "execution_count": 31
        }
      ]
    },
    {
      "cell_type": "code",
      "source": [
        "y_test.value_counts()"
      ],
      "metadata": {
        "colab": {
          "base_uri": "https://localhost:8080/"
        },
        "id": "jfjbHjQ8SkFw",
        "outputId": "46b85b40-e709-4931-dd7b-a4a7e5c7b1ac"
      },
      "execution_count": null,
      "outputs": [
        {
          "output_type": "execute_result",
          "data": {
            "text/plain": [
              "0    1097\n",
              "1     500\n",
              "Name: sp_ha, dtype: int64"
            ]
          },
          "metadata": {},
          "execution_count": 32
        }
      ]
    },
    {
      "cell_type": "code",
      "source": [
        "type(X_train)"
      ],
      "metadata": {
        "colab": {
          "base_uri": "https://localhost:8080/"
        },
        "id": "xRZzamIUYtWV",
        "outputId": "37d25e22-f621-4241-ee0a-1b834510c82c"
      },
      "execution_count": null,
      "outputs": [
        {
          "output_type": "execute_result",
          "data": {
            "text/plain": [
              "pandas.core.series.Series"
            ]
          },
          "metadata": {},
          "execution_count": 33
        }
      ]
    },
    {
      "cell_type": "code",
      "source": [
        "half_set= pd.concat([X_train, y_train], axis=1)"
      ],
      "metadata": {
        "id": "3aFcemvGYQon"
      },
      "execution_count": null,
      "outputs": []
    },
    {
      "cell_type": "code",
      "source": [
        "import tensorflow as tf\n",
        "from keras import Sequential\n",
        "from tensorflow.keras.layers import Input\n",
        "from tensorflow.keras.models import Model\n",
        "from tensorflow.keras.layers import Dense\n",
        "from tensorflow.keras.layers import LSTM\n",
        "from tensorflow.keras.layers import Embedding\n",
        "from tensorflow.keras.layers import Flatten\n",
        "from keras.layers import  Dropout"
      ],
      "metadata": {
        "id": "29Q2JdknMkVf"
      },
      "execution_count": null,
      "outputs": []
    },
    {
      "cell_type": "markdown",
      "source": [
        "BERT"
      ],
      "metadata": {
        "id": "yXhIagkVKF5Z"
      }
    },
    {
      "cell_type": "code",
      "source": [
        "import tensorflow as tf\n",
        "print(\"Tensor Flow Version: {}\".format(tf.__version__))"
      ],
      "metadata": {
        "colab": {
          "base_uri": "https://localhost:8080/"
        },
        "id": "kfFBRFWyMgvQ",
        "outputId": "e5beb52e-021b-4049-b3f0-646d3787990e"
      },
      "execution_count": null,
      "outputs": [
        {
          "output_type": "stream",
          "name": "stdout",
          "text": [
            "Tensor Flow Version: 2.12.0\n"
          ]
        }
      ]
    },
    {
      "cell_type": "code",
      "source": [
        "!pip install \"tensorflow-text==2.12.*\""
      ],
      "metadata": {
        "colab": {
          "base_uri": "https://localhost:8080/"
        },
        "id": "worBeXljMiM-",
        "outputId": "29af50d3-e6b8-4914-8655-52c88c66c0a2"
      },
      "execution_count": null,
      "outputs": [
        {
          "output_type": "stream",
          "name": "stdout",
          "text": [
            "Looking in indexes: https://pypi.org/simple, https://us-python.pkg.dev/colab-wheels/public/simple/\n",
            "Collecting tensorflow-text==2.12.*\n",
            "  Downloading tensorflow_text-2.12.1-cp310-cp310-manylinux_2_17_x86_64.manylinux2014_x86_64.whl (6.0 MB)\n",
            "\u001b[2K     \u001b[90m━━━━━━━━━━━━━━━━━━━━━━━━━━━━━━━━━━━━━━━━\u001b[0m \u001b[32m6.0/6.0 MB\u001b[0m \u001b[31m80.0 MB/s\u001b[0m eta \u001b[36m0:00:00\u001b[0m\n",
            "\u001b[?25hRequirement already satisfied: tensorflow-hub>=0.8.0 in /usr/local/lib/python3.10/dist-packages (from tensorflow-text==2.12.*) (0.13.0)\n",
            "Requirement already satisfied: tensorflow<2.13,>=2.12.0 in /usr/local/lib/python3.10/dist-packages (from tensorflow-text==2.12.*) (2.12.0)\n",
            "Requirement already satisfied: typing-extensions>=3.6.6 in /usr/local/lib/python3.10/dist-packages (from tensorflow<2.13,>=2.12.0->tensorflow-text==2.12.*) (4.5.0)\n",
            "Requirement already satisfied: keras<2.13,>=2.12.0 in /usr/local/lib/python3.10/dist-packages (from tensorflow<2.13,>=2.12.0->tensorflow-text==2.12.*) (2.12.0)\n",
            "Requirement already satisfied: absl-py>=1.0.0 in /usr/local/lib/python3.10/dist-packages (from tensorflow<2.13,>=2.12.0->tensorflow-text==2.12.*) (1.4.0)\n",
            "Requirement already satisfied: opt-einsum>=2.3.2 in /usr/local/lib/python3.10/dist-packages (from tensorflow<2.13,>=2.12.0->tensorflow-text==2.12.*) (3.3.0)\n",
            "Requirement already satisfied: tensorflow-estimator<2.13,>=2.12.0 in /usr/local/lib/python3.10/dist-packages (from tensorflow<2.13,>=2.12.0->tensorflow-text==2.12.*) (2.12.0)\n",
            "Requirement already satisfied: termcolor>=1.1.0 in /usr/local/lib/python3.10/dist-packages (from tensorflow<2.13,>=2.12.0->tensorflow-text==2.12.*) (2.3.0)\n",
            "Requirement already satisfied: google-pasta>=0.1.1 in /usr/local/lib/python3.10/dist-packages (from tensorflow<2.13,>=2.12.0->tensorflow-text==2.12.*) (0.2.0)\n",
            "Requirement already satisfied: libclang>=13.0.0 in /usr/local/lib/python3.10/dist-packages (from tensorflow<2.13,>=2.12.0->tensorflow-text==2.12.*) (16.0.0)\n",
            "Requirement already satisfied: flatbuffers>=2.0 in /usr/local/lib/python3.10/dist-packages (from tensorflow<2.13,>=2.12.0->tensorflow-text==2.12.*) (23.3.3)\n",
            "Requirement already satisfied: setuptools in /usr/local/lib/python3.10/dist-packages (from tensorflow<2.13,>=2.12.0->tensorflow-text==2.12.*) (67.7.2)\n",
            "Requirement already satisfied: six>=1.12.0 in /usr/local/lib/python3.10/dist-packages (from tensorflow<2.13,>=2.12.0->tensorflow-text==2.12.*) (1.16.0)\n",
            "Requirement already satisfied: h5py>=2.9.0 in /usr/local/lib/python3.10/dist-packages (from tensorflow<2.13,>=2.12.0->tensorflow-text==2.12.*) (3.8.0)\n",
            "Requirement already satisfied: packaging in /usr/local/lib/python3.10/dist-packages (from tensorflow<2.13,>=2.12.0->tensorflow-text==2.12.*) (23.1)\n",
            "Requirement already satisfied: astunparse>=1.6.0 in /usr/local/lib/python3.10/dist-packages (from tensorflow<2.13,>=2.12.0->tensorflow-text==2.12.*) (1.6.3)\n",
            "Requirement already satisfied: jax>=0.3.15 in /usr/local/lib/python3.10/dist-packages (from tensorflow<2.13,>=2.12.0->tensorflow-text==2.12.*) (0.4.8)\n",
            "Requirement already satisfied: numpy<1.24,>=1.22 in /usr/local/lib/python3.10/dist-packages (from tensorflow<2.13,>=2.12.0->tensorflow-text==2.12.*) (1.22.4)\n",
            "Requirement already satisfied: grpcio<2.0,>=1.24.3 in /usr/local/lib/python3.10/dist-packages (from tensorflow<2.13,>=2.12.0->tensorflow-text==2.12.*) (1.54.0)\n",
            "Requirement already satisfied: protobuf!=4.21.0,!=4.21.1,!=4.21.2,!=4.21.3,!=4.21.4,!=4.21.5,<5.0.0dev,>=3.20.3 in /usr/local/lib/python3.10/dist-packages (from tensorflow<2.13,>=2.12.0->tensorflow-text==2.12.*) (3.20.3)\n",
            "Requirement already satisfied: gast<=0.4.0,>=0.2.1 in /usr/local/lib/python3.10/dist-packages (from tensorflow<2.13,>=2.12.0->tensorflow-text==2.12.*) (0.4.0)\n",
            "Requirement already satisfied: tensorboard<2.13,>=2.12 in /usr/local/lib/python3.10/dist-packages (from tensorflow<2.13,>=2.12.0->tensorflow-text==2.12.*) (2.12.2)\n",
            "Requirement already satisfied: tensorflow-io-gcs-filesystem>=0.23.1 in /usr/local/lib/python3.10/dist-packages (from tensorflow<2.13,>=2.12.0->tensorflow-text==2.12.*) (0.32.0)\n",
            "Requirement already satisfied: wrapt<1.15,>=1.11.0 in /usr/local/lib/python3.10/dist-packages (from tensorflow<2.13,>=2.12.0->tensorflow-text==2.12.*) (1.14.1)\n",
            "Requirement already satisfied: wheel<1.0,>=0.23.0 in /usr/local/lib/python3.10/dist-packages (from astunparse>=1.6.0->tensorflow<2.13,>=2.12.0->tensorflow-text==2.12.*) (0.40.0)\n",
            "Requirement already satisfied: scipy>=1.7 in /usr/local/lib/python3.10/dist-packages (from jax>=0.3.15->tensorflow<2.13,>=2.12.0->tensorflow-text==2.12.*) (1.10.1)\n",
            "Requirement already satisfied: ml-dtypes>=0.0.3 in /usr/local/lib/python3.10/dist-packages (from jax>=0.3.15->tensorflow<2.13,>=2.12.0->tensorflow-text==2.12.*) (0.1.0)\n",
            "Requirement already satisfied: google-auth-oauthlib<1.1,>=0.5 in /usr/local/lib/python3.10/dist-packages (from tensorboard<2.13,>=2.12->tensorflow<2.13,>=2.12.0->tensorflow-text==2.12.*) (1.0.0)\n",
            "Requirement already satisfied: tensorboard-plugin-wit>=1.6.0 in /usr/local/lib/python3.10/dist-packages (from tensorboard<2.13,>=2.12->tensorflow<2.13,>=2.12.0->tensorflow-text==2.12.*) (1.8.1)\n",
            "Requirement already satisfied: werkzeug>=1.0.1 in /usr/local/lib/python3.10/dist-packages (from tensorboard<2.13,>=2.12->tensorflow<2.13,>=2.12.0->tensorflow-text==2.12.*) (2.3.0)\n",
            "Requirement already satisfied: google-auth<3,>=1.6.3 in /usr/local/lib/python3.10/dist-packages (from tensorboard<2.13,>=2.12->tensorflow<2.13,>=2.12.0->tensorflow-text==2.12.*) (2.17.3)\n",
            "Requirement already satisfied: tensorboard-data-server<0.8.0,>=0.7.0 in /usr/local/lib/python3.10/dist-packages (from tensorboard<2.13,>=2.12->tensorflow<2.13,>=2.12.0->tensorflow-text==2.12.*) (0.7.0)\n",
            "Requirement already satisfied: markdown>=2.6.8 in /usr/local/lib/python3.10/dist-packages (from tensorboard<2.13,>=2.12->tensorflow<2.13,>=2.12.0->tensorflow-text==2.12.*) (3.4.3)\n",
            "Requirement already satisfied: requests<3,>=2.21.0 in /usr/local/lib/python3.10/dist-packages (from tensorboard<2.13,>=2.12->tensorflow<2.13,>=2.12.0->tensorflow-text==2.12.*) (2.27.1)\n",
            "Requirement already satisfied: rsa<5,>=3.1.4 in /usr/local/lib/python3.10/dist-packages (from google-auth<3,>=1.6.3->tensorboard<2.13,>=2.12->tensorflow<2.13,>=2.12.0->tensorflow-text==2.12.*) (4.9)\n",
            "Requirement already satisfied: pyasn1-modules>=0.2.1 in /usr/local/lib/python3.10/dist-packages (from google-auth<3,>=1.6.3->tensorboard<2.13,>=2.12->tensorflow<2.13,>=2.12.0->tensorflow-text==2.12.*) (0.3.0)\n",
            "Requirement already satisfied: cachetools<6.0,>=2.0.0 in /usr/local/lib/python3.10/dist-packages (from google-auth<3,>=1.6.3->tensorboard<2.13,>=2.12->tensorflow<2.13,>=2.12.0->tensorflow-text==2.12.*) (5.3.0)\n",
            "Requirement already satisfied: requests-oauthlib>=0.7.0 in /usr/local/lib/python3.10/dist-packages (from google-auth-oauthlib<1.1,>=0.5->tensorboard<2.13,>=2.12->tensorflow<2.13,>=2.12.0->tensorflow-text==2.12.*) (1.3.1)\n",
            "Requirement already satisfied: urllib3<1.27,>=1.21.1 in /usr/local/lib/python3.10/dist-packages (from requests<3,>=2.21.0->tensorboard<2.13,>=2.12->tensorflow<2.13,>=2.12.0->tensorflow-text==2.12.*) (1.26.15)\n",
            "Requirement already satisfied: charset-normalizer~=2.0.0 in /usr/local/lib/python3.10/dist-packages (from requests<3,>=2.21.0->tensorboard<2.13,>=2.12->tensorflow<2.13,>=2.12.0->tensorflow-text==2.12.*) (2.0.12)\n",
            "Requirement already satisfied: certifi>=2017.4.17 in /usr/local/lib/python3.10/dist-packages (from requests<3,>=2.21.0->tensorboard<2.13,>=2.12->tensorflow<2.13,>=2.12.0->tensorflow-text==2.12.*) (2022.12.7)\n",
            "Requirement already satisfied: idna<4,>=2.5 in /usr/local/lib/python3.10/dist-packages (from requests<3,>=2.21.0->tensorboard<2.13,>=2.12->tensorflow<2.13,>=2.12.0->tensorflow-text==2.12.*) (3.4)\n",
            "Requirement already satisfied: MarkupSafe>=2.1.1 in /usr/local/lib/python3.10/dist-packages (from werkzeug>=1.0.1->tensorboard<2.13,>=2.12->tensorflow<2.13,>=2.12.0->tensorflow-text==2.12.*) (2.1.2)\n",
            "Requirement already satisfied: pyasn1<0.6.0,>=0.4.6 in /usr/local/lib/python3.10/dist-packages (from pyasn1-modules>=0.2.1->google-auth<3,>=1.6.3->tensorboard<2.13,>=2.12->tensorflow<2.13,>=2.12.0->tensorflow-text==2.12.*) (0.5.0)\n",
            "Requirement already satisfied: oauthlib>=3.0.0 in /usr/local/lib/python3.10/dist-packages (from requests-oauthlib>=0.7.0->google-auth-oauthlib<1.1,>=0.5->tensorboard<2.13,>=2.12->tensorflow<2.13,>=2.12.0->tensorflow-text==2.12.*) (3.2.2)\n",
            "Installing collected packages: tensorflow-text\n",
            "Successfully installed tensorflow-text-2.12.1\n"
          ]
        }
      ]
    },
    {
      "cell_type": "code",
      "source": [
        "import tensorflow_hub as hub\n",
        "import tensorflow_text as text\n",
        "import matplotlib.pyplot as plt"
      ],
      "metadata": {
        "id": "W3XcmjMiKCpV"
      },
      "execution_count": null,
      "outputs": []
    },
    {
      "cell_type": "code",
      "source": [
        "preprocess_url = \"https://tfhub.dev/tensorflow/bert_en_uncased_preprocess/3\"\n",
        "encoder_url = \"https://tfhub.dev/tensorflow/bert_en_uncased_L-12_H-768_A-12/4\""
      ],
      "metadata": {
        "id": "61yt5ka7M6Wc"
      },
      "execution_count": null,
      "outputs": []
    },
    {
      "cell_type": "code",
      "source": [
        "bert_preprocess_model = hub.KerasLayer(preprocess_url)\n",
        "bert_encoder_model = hub.KerasLayer(encoder_url)"
      ],
      "metadata": {
        "id": "rRwkMRwKM9xg"
      },
      "execution_count": null,
      "outputs": []
    },
    {
      "cell_type": "code",
      "source": [
        "# optimizer = tf.keras.optimizers.Adam(learning_rate=1e-3)\n",
        "# optimizer_2 = tf.keras.optimizers.SGD(learning_rate=1e-3)"
      ],
      "metadata": {
        "id": "U-nTdofaFStq"
      },
      "execution_count": null,
      "outputs": []
    },
    {
      "cell_type": "code",
      "source": [
        "text_input = tf.keras.layers.Input(shape=(), dtype=tf.string, name='text')\n",
        "preprocessed_text = bert_preprocess_model(text_input)\n",
        "bert_results = bert_encoder_model(preprocessed_text)\n",
        "layer_1 = tf.keras.layers.Dropout(0.1, name=\"dropout\")(bert_results['pooled_output'])\n",
        "# leyer_2 = tf.keras.layers.Dense(128, activation='relu')(layer_1)\n",
        "layer_3 = tf.keras.layers.Dense(1, activation='sigmoid', name=\"output\")(layer_1)\n",
        "\n",
        "model_BERT = tf.keras.Model(inputs=[text_input], outputs = [layer_3])"
      ],
      "metadata": {
        "id": "3spZhW7HPazd"
      },
      "execution_count": null,
      "outputs": []
    },
    {
      "cell_type": "code",
      "source": [
        "\n",
        "from tensorflow.keras.utils import plot_model\n",
        "# plot graph\n",
        "plot_model(model_BERT, show_shapes=True)"
      ],
      "metadata": {
        "colab": {
          "base_uri": "https://localhost:8080/",
          "height": 215
        },
        "id": "p6Y9tIw1PWWJ",
        "outputId": "d1be6b1b-0479-46de-adb1-4d4999660693"
      },
      "execution_count": null,
      "outputs": [
        {
          "output_type": "execute_result",
          "data": {
            "image/png": "[encoded data removed]",
            "text/plain": [
              "<IPython.core.display.Image object>"
            ]
          },
          "metadata": {},
          "execution_count": 167
        }
      ]
    },
    {
      "cell_type": "code",
      "source": [
        "model_BERT.summary()"
      ],
      "metadata": {
        "colab": {
          "base_uri": "https://localhost:8080/"
        },
        "id": "V1UIxo9UXOc2",
        "outputId": "22a118dc-c136-4345-cd5b-7d726e9cd351"
      },
      "execution_count": null,
      "outputs": [
        {
          "output_type": "stream",
          "name": "stdout",
          "text": [
            "Model: \"model_14\"\n",
            "__________________________________________________________________________________________________\n",
            " Layer (type)                   Output Shape         Param #     Connected to                     \n",
            "==================================================================================================\n",
            " text (InputLayer)              [(None,)]            0           []                               \n",
            "                                                                                                  \n",
            " keras_layer (KerasLayer)       {'input_word_ids':   0           ['text[0][0]']                   \n",
            "                                (None, 128),                                                      \n",
            "                                 'input_type_ids':                                                \n",
            "                                (None, 128),                                                      \n",
            "                                 'input_mask': (Non                                               \n",
            "                                e, 128)}                                                          \n",
            "                                                                                                  \n",
            " keras_layer_1 (KerasLayer)     {'sequence_output':  109482241   ['keras_layer[15][0]',           \n",
            "                                 (None, 128, 768),                'keras_layer[15][1]',           \n",
            "                                 'pooled_output': (               'keras_layer[15][2]']           \n",
            "                                None, 768),                                                       \n",
            "                                 'default': (None,                                                \n",
            "                                768),                                                             \n",
            "                                 'encoder_outputs':                                               \n",
            "                                 [(None, 128, 768),                                               \n",
            "                                 (None, 128, 768),                                                \n",
            "                                 (None, 128, 768),                                                \n",
            "                                 (None, 128, 768),                                                \n",
            "                                 (None, 128, 768),                                                \n",
            "                                 (None, 128, 768),                                                \n",
            "                                 (None, 128, 768),                                                \n",
            "                                 (None, 128, 768),                                                \n",
            "                                 (None, 128, 768),                                                \n",
            "                                 (None, 128, 768),                                                \n",
            "                                 (None, 128, 768),                                                \n",
            "                                 (None, 128, 768)]}                                               \n",
            "                                                                                                  \n",
            " dropout (Dropout)              (None, 768)          0           ['keras_layer_1[15][13]']        \n",
            "                                                                                                  \n",
            " output (Dense)                 (None, 1)            769         ['dropout[0][0]']                \n",
            "                                                                                                  \n",
            "==================================================================================================\n",
            "Total params: 109,483,010\n",
            "Trainable params: 769\n",
            "Non-trainable params: 109,482,241\n",
            "__________________________________________________________________________________________________\n"
          ]
        }
      ]
    },
    {
      "cell_type": "code",
      "source": [
        "pip install tensorflow-addons"
      ],
      "metadata": {
        "colab": {
          "base_uri": "https://localhost:8080/"
        },
        "id": "V036tKQ3ILCi",
        "outputId": "c81cee20-136b-439f-b06c-3f20e81d0bce"
      },
      "execution_count": null,
      "outputs": [
        {
          "output_type": "stream",
          "name": "stdout",
          "text": [
            "Looking in indexes: https://pypi.org/simple, https://us-python.pkg.dev/colab-wheels/public/simple/\n",
            "Collecting tensorflow-addons\n",
            "  Downloading tensorflow_addons-0.20.0-cp310-cp310-manylinux_2_17_x86_64.manylinux2014_x86_64.whl (591 kB)\n",
            "\u001b[2K     \u001b[90m━━━━━━━━━━━━━━━━━━━━━━━━━━━━━━━━━━━━━━\u001b[0m \u001b[32m591.0/591.0 kB\u001b[0m \u001b[31m24.8 MB/s\u001b[0m eta \u001b[36m0:00:00\u001b[0m\n",
            "\u001b[?25hRequirement already satisfied: packaging in /usr/local/lib/python3.10/dist-packages (from tensorflow-addons) (23.1)\n",
            "Collecting typeguard<3.0.0,>=2.7\n",
            "  Downloading typeguard-2.13.3-py3-none-any.whl (17 kB)\n",
            "Installing collected packages: typeguard, tensorflow-addons\n",
            "Successfully installed tensorflow-addons-0.20.0 typeguard-2.13.3\n"
          ]
        }
      ]
    },
    {
      "cell_type": "code",
      "source": [
        "import tensorflow_addons as tfa\n",
        "from tensorflow.keras.callbacks import EarlyStopping\n",
        "from tensorflow.keras.callbacks import ModelCheckpoint\n",
        "\n",
        "metrics = [\n",
        "      tf.keras.metrics.BinaryAccuracy(name='accuracy'),\n",
        "      tf.keras.metrics.Precision(name='precision'),\n",
        "      tf.keras.metrics.Recall(name='recall')\n",
        "\n",
        "]\n",
        "\n",
        "model_BERT.compile(optimizer='adam',\n",
        "              loss='binary_crossentropy',\n",
        "              metrics=metrics)\n",
        "monitor = EarlyStopping(monitor='val_loss', min_delta=1e-3, patience=5, verbose=0, mode='auto')\n",
        "model_checkpoint = ModelCheckpoint(filepath=\"data/best_weights_BERT.hdf5\", monitor='val_loss', save_best_only=True)"
      ],
      "metadata": {
        "id": "7GLyhPgJXQ4K"
      },
      "execution_count": null,
      "outputs": []
    },
    {
      "cell_type": "code",
      "source": [
        "X_train_half, X_test_half, y_train_half, y_test_half = train_test_split(half_set['text'], half_set['sp_ha'], train_size=0.7, shuffle=True, random_state=1)"
      ],
      "metadata": {
        "id": "g3uVItahZdxm"
      },
      "execution_count": null,
      "outputs": []
    },
    {
      "cell_type": "code",
      "source": [
        "X_train_half.shape"
      ],
      "metadata": {
        "colab": {
          "base_uri": "https://localhost:8080/"
        },
        "id": "sWZxkpzZZv-g",
        "outputId": "7f674b4c-91d3-43d8-97e1-e2cc56de2199"
      },
      "execution_count": null,
      "outputs": [
        {
          "output_type": "execute_result",
          "data": {
            "text/plain": [
              "(2606,)"
            ]
          },
          "metadata": {},
          "execution_count": 46
        }
      ]
    },
    {
      "cell_type": "code",
      "source": [
        "X_test_half.shape"
      ],
      "metadata": {
        "colab": {
          "base_uri": "https://localhost:8080/"
        },
        "id": "_TgeN_g7ZyJW",
        "outputId": "8d7f328c-d4fe-4e69-cc1c-363ad5993dbf"
      },
      "execution_count": null,
      "outputs": [
        {
          "output_type": "execute_result",
          "data": {
            "text/plain": [
              "(1117,)"
            ]
          },
          "metadata": {},
          "execution_count": 47
        }
      ]
    },
    {
      "cell_type": "code",
      "source": [
        "y_train_half.value_counts()"
      ],
      "metadata": {
        "colab": {
          "base_uri": "https://localhost:8080/"
        },
        "id": "eZTnz3XvZ1au",
        "outputId": "03a44392-5abc-4e31-f975-aea626cbb01d"
      },
      "execution_count": null,
      "outputs": [
        {
          "output_type": "execute_result",
          "data": {
            "text/plain": [
              "0    1753\n",
              "1     853\n",
              "Name: sp_ha, dtype: int64"
            ]
          },
          "metadata": {},
          "execution_count": 48
        }
      ]
    },
    {
      "cell_type": "code",
      "source": [
        "y_test_half.value_counts()"
      ],
      "metadata": {
        "colab": {
          "base_uri": "https://localhost:8080/"
        },
        "id": "LshOie_DZ4_p",
        "outputId": "5bbce358-1099-4249-b7bc-140365e4cf49"
      },
      "execution_count": null,
      "outputs": [
        {
          "output_type": "execute_result",
          "data": {
            "text/plain": [
              "0    784\n",
              "1    333\n",
              "Name: sp_ha, dtype: int64"
            ]
          },
          "metadata": {},
          "execution_count": 49
        }
      ]
    },
    {
      "cell_type": "code",
      "source": [
        "model_BERT.fit(X_train_half, y_train_half, epochs=10,validation_data=(X_test_half, y_test_half),callbacks=[monitor , model_checkpoint])"
      ],
      "metadata": {
        "colab": {
          "base_uri": "https://localhost:8080/"
        },
        "id": "ZVfB5kcDXZys",
        "outputId": "57972ae2-6ffa-4aab-ddc2-c47ef526dd32"
      },
      "execution_count": null,
      "outputs": [
        {
          "output_type": "stream",
          "name": "stdout",
          "text": [
            "Epoch 1/10\n",
            "82/82 [==============================] - 62s 721ms/step - loss: 0.5818 - accuracy: 0.6988 - precision: 0.6278 - recall: 0.1958 - val_loss: 0.5165 - val_accuracy: 0.7493 - val_precision: 0.7190 - val_recall: 0.2613\n",
            "Epoch 2/10\n",
            "82/82 [==============================] - 58s 710ms/step - loss: 0.5305 - accuracy: 0.7429 - precision: 0.7453 - recall: 0.3259 - val_loss: 0.4760 - val_accuracy: 0.7878 - val_precision: 0.7759 - val_recall: 0.4054\n",
            "Epoch 3/10\n",
            "82/82 [==============================] - 58s 711ms/step - loss: 0.4956 - accuracy: 0.7644 - precision: 0.7537 - recall: 0.4162 - val_loss: 0.4463 - val_accuracy: 0.8048 - val_precision: 0.7949 - val_recall: 0.4655\n",
            "Epoch 4/10\n",
            "82/82 [==============================] - 57s 704ms/step - loss: 0.4704 - accuracy: 0.7755 - precision: 0.7567 - recall: 0.4631 - val_loss: 0.4331 - val_accuracy: 0.8344 - val_precision: 0.7569 - val_recall: 0.6547\n",
            "Epoch 5/10\n",
            "82/82 [==============================] - 52s 638ms/step - loss: 0.4410 - accuracy: 0.8066 - precision: 0.8144 - recall: 0.5299 - val_loss: 0.4018 - val_accuracy: 0.8236 - val_precision: 0.8238 - val_recall: 0.5195\n",
            "Epoch 6/10\n",
            "82/82 [==============================] - 58s 714ms/step - loss: 0.4236 - accuracy: 0.8277 - precision: 0.8447 - recall: 0.5803 - val_loss: 0.3886 - val_accuracy: 0.8523 - val_precision: 0.8088 - val_recall: 0.6607\n",
            "Epoch 7/10\n",
            "82/82 [==============================] - 52s 642ms/step - loss: 0.4101 - accuracy: 0.8323 - precision: 0.8355 - recall: 0.6073 - val_loss: 0.3757 - val_accuracy: 0.8612 - val_precision: 0.8048 - val_recall: 0.7057\n",
            "Epoch 8/10\n",
            "82/82 [==============================] - 58s 708ms/step - loss: 0.3974 - accuracy: 0.8442 - precision: 0.8392 - recall: 0.6483 - val_loss: 0.3588 - val_accuracy: 0.8478 - val_precision: 0.8622 - val_recall: 0.5826\n",
            "Epoch 9/10\n",
            "82/82 [==============================] - 58s 717ms/step - loss: 0.3900 - accuracy: 0.8384 - precision: 0.8354 - recall: 0.6307 - val_loss: 0.3489 - val_accuracy: 0.8568 - val_precision: 0.8745 - val_recall: 0.6066\n",
            "Epoch 10/10\n",
            "82/82 [==============================] - 56s 679ms/step - loss: 0.3760 - accuracy: 0.8576 - precision: 0.8663 - recall: 0.6682 - val_loss: 0.3551 - val_accuracy: 0.8854 - val_precision: 0.8060 - val_recall: 0.8108\n"
          ]
        },
        {
          "output_type": "execute_result",
          "data": {
            "text/plain": [
              "<keras.callbacks.History at 0x7f0a8817e7a0>"
            ]
          },
          "metadata": {},
          "execution_count": 170
        }
      ]
    },
    {
      "cell_type": "code",
      "source": [
        "y_predicted = model_BERT.predict(X_test_half)"
      ],
      "metadata": {
        "colab": {
          "base_uri": "https://localhost:8080/"
        },
        "id": "4b3cxAZSbxnY",
        "outputId": "3193b8ec-4f2b-4e7f-f979-13ce85a2241f"
      },
      "execution_count": null,
      "outputs": [
        {
          "output_type": "stream",
          "name": "stdout",
          "text": [
            "35/35 [==============================] - 15s 402ms/step\n"
          ]
        }
      ]
    },
    {
      "cell_type": "code",
      "source": [
        "y_predicted= y_predicted.flatten()"
      ],
      "metadata": {
        "id": "34_S1byHcC1D"
      },
      "execution_count": null,
      "outputs": []
    },
    {
      "cell_type": "code",
      "source": [
        "import numpy as np\n",
        "\n",
        "y_predicted = np.where(y_predicted > 0.5, 1, 0)\n",
        "y_predicted"
      ],
      "metadata": {
        "colab": {
          "base_uri": "https://localhost:8080/"
        },
        "id": "gxGUkU4wcJ6d",
        "outputId": "b9b43413-1081-419c-ab02-d2ec9030d3e4"
      },
      "execution_count": null,
      "outputs": [
        {
          "output_type": "execute_result",
          "data": {
            "text/plain": [
              "array([0, 0, 1, ..., 1, 0, 1])"
            ]
          },
          "metadata": {},
          "execution_count": 173
        }
      ]
    },
    {
      "cell_type": "code",
      "source": [
        "from sklearn.metrics import confusion_matrix, classification_report\n",
        "\n",
        "cm = confusion_matrix(y_test_half, y_predicted)\n",
        "cm"
      ],
      "metadata": {
        "colab": {
          "base_uri": "https://localhost:8080/"
        },
        "id": "Vo_D6vC4cNbu",
        "outputId": "e923c5cc-a0fe-461b-ecb7-eeaaad0ef831"
      },
      "execution_count": null,
      "outputs": [
        {
          "output_type": "execute_result",
          "data": {
            "text/plain": [
              "array([[719,  65],\n",
              "       [ 63, 270]])"
            ]
          },
          "metadata": {},
          "execution_count": 174
        }
      ]
    },
    {
      "cell_type": "code",
      "source": [
        "from matplotlib import pyplot as plt\n",
        "import seaborn as sn\n",
        "sn.heatmap(cm, annot=True, fmt='d')\n",
        "plt.xlabel('Predicted')\n",
        "plt.ylabel('Truth')"
      ],
      "metadata": {
        "colab": {
          "base_uri": "https://localhost:8080/",
          "height": 466
        },
        "id": "AQNcyWD4cTn5",
        "outputId": "a803170e-0e8d-4f54-b502-0babbfbedd0d"
      },
      "execution_count": null,
      "outputs": [
        {
          "output_type": "execute_result",
          "data": {
            "text/plain": [
              "Text(50.722222222222214, 0.5, 'Truth')"
            ]
          },
          "metadata": {},
          "execution_count": 175
        },
        {
          "output_type": "display_data",
          "data": {
            "text/plain": [
              "<Figure size 640x480 with 2 Axes>"
            ],
            "image/png": "[encoded data removed]"
          },
          "metadata": {}
        }
      ]
    },
    {
      "cell_type": "code",
      "source": [
        "print(classification_report(y_test_half, y_predicted))"
      ],
      "metadata": {
        "colab": {
          "base_uri": "https://localhost:8080/"
        },
        "id": "TPIyuz3bcbPY",
        "outputId": "2310253e-e978-4d56-c73e-623d321004f6"
      },
      "execution_count": null,
      "outputs": [
        {
          "output_type": "stream",
          "name": "stdout",
          "text": [
            "              precision    recall  f1-score   support\n",
            "\n",
            "           0       0.92      0.92      0.92       784\n",
            "           1       0.81      0.81      0.81       333\n",
            "\n",
            "    accuracy                           0.89      1117\n",
            "   macro avg       0.86      0.86      0.86      1117\n",
            "weighted avg       0.89      0.89      0.89      1117\n",
            "\n"
          ]
        }
      ]
    },
    {
      "cell_type": "code",
      "source": [
        "\n",
        "from sklearn.metrics import roc_curve, roc_auc_score\n",
        "import matplotlib.pyplot as plt\n",
        "\n",
        "fpr , tpr , thresh = roc_curve(y_test_half, y_predicted)\n",
        "roc_auc = roc_auc_score(y_test_half, y_predicted)\n",
        "plt.title('ROC')\n",
        "plt.plot(fpr, tpr, 'b', label = 'AUC = %0.2f' % roc_auc)\n",
        "plt.legend(loc = 'lower right')\n",
        "plt.plot([0, 1], [0, 1],'r--')\n",
        "\n",
        "plt.ylabel('True Positive Rate')\n",
        "plt.xlabel('False Positive Rate')\n",
        "plt.show()"
      ],
      "metadata": {
        "colab": {
          "base_uri": "https://localhost:8080/",
          "height": 472
        },
        "id": "o3bIA9VLVpOp",
        "outputId": "9fec1723-9245-421f-e0ec-0fa231542a13"
      },
      "execution_count": null,
      "outputs": [
        {
          "output_type": "display_data",
          "data": {
            "text/plain": [
              "<Figure size 640x480 with 1 Axes>"
            ],
            "image/png": "[encoded data removed]"
          },
          "metadata": {}
        }
      ]
    },
    {
      "cell_type": "code",
      "source": [
        "random_ham = ['Hi all Please include a link to your Figma so your classmates can see your designs.Replies to this email will be posted as a reply to the announcement, which will be seen by everyone in the course.']"
      ],
      "metadata": {
        "id": "i7iyItW1cqxk"
      },
      "execution_count": null,
      "outputs": []
    },
    {
      "cell_type": "code",
      "source": [
        "random_spam=['hi your email address has been selected to claim sum of $50000000 in 2023 lottery']"
      ],
      "metadata": {
        "id": "yu5LzjHReU_E"
      },
      "execution_count": null,
      "outputs": []
    },
    {
      "cell_type": "code",
      "source": [
        "y_random=model_BERT.predict(random_spam)"
      ],
      "metadata": {
        "colab": {
          "base_uri": "https://localhost:8080/"
        },
        "id": "OXNSqPjCdGen",
        "outputId": "deefe20a-1382-46ea-b1f1-16b9d76065a4"
      },
      "execution_count": null,
      "outputs": [
        {
          "output_type": "stream",
          "name": "stdout",
          "text": [
            "1/1 [==============================] - 0s 44ms/step\n"
          ]
        }
      ]
    },
    {
      "cell_type": "code",
      "source": [
        "y_random = np.where(y_random > 0.5, 1, 0)\n",
        "y_random"
      ],
      "metadata": {
        "colab": {
          "base_uri": "https://localhost:8080/"
        },
        "id": "opnXPrBldZiA",
        "outputId": "07be2e8d-1895-487f-db9a-3e0032487c1d"
      },
      "execution_count": null,
      "outputs": [
        {
          "output_type": "execute_result",
          "data": {
            "text/plain": [
              "array([[1]])"
            ]
          },
          "metadata": {},
          "execution_count": 77
        }
      ]
    }
  ],
  "metadata": {
    "colab": {
      "provenance": []
    },
    "kernelspec": {
      "display_name": "Python 3",
      "name": "python3"
    },
    "language_info": {
      "name": "python"
    },
    "accelerator": "GPU",
    "gpuClass": "standard"
  },
  "nbformat": 4,
  "nbformat_minor": 0
}